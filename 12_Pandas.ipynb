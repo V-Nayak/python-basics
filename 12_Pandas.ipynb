{
  "nbformat": 4,
  "nbformat_minor": 0,
  "metadata": {
    "colab": {
      "name": "12_Pandas.ipynb",
      "provenance": [],
      "authorship_tag": "ABX9TyOYrN/S91VfkkJWHIUb6mJF",
      "include_colab_link": true
    },
    "kernelspec": {
      "name": "python3",
      "display_name": "Python 3"
    },
    "language_info": {
      "name": "python"
    }
  },
  "cells": [
    {
      "cell_type": "markdown",
      "metadata": {
        "id": "view-in-github",
        "colab_type": "text"
      },
      "source": [
        "<a href=\"https://colab.research.google.com/github/V-Nayak/python-basics/blob/main/12_Pandas.ipynb\" target=\"_parent\"><img src=\"https://colab.research.google.com/assets/colab-badge.svg\" alt=\"Open In Colab\"/></a>"
      ]
    },
    {
      "cell_type": "markdown",
      "source": [
        "# **Pandas**\n",
        "\n",
        "Pandas is an open-source library that is made mainly for working with relational or labeled data both easily and intuitively.\n",
        "\n",
        "It provides various data structures and operations for manipulating numerical data and time series. This library is built on top of the NumPy library.\n",
        "\n",
        "Pandas is fast and it has high performance & productivity for users.\n",
        "\n",
        "Pandas generally provide two data structures for manipulating data, They are:\n",
        "\n",
        "Series\n",
        "\n",
        "DataFrame\n",
        "\n",
        "Series:\n",
        "Pandas Series is a one-dimensional labelled array capable of holding data of any type (integer, string, float, python objects, etc.). The axis labels are collectively called indexes. Pandas Series is nothing but a column in an excel sheet"
      ],
      "metadata": {
        "id": "Cp2XojB5jPF6"
      }
    },
    {
      "cell_type": "code",
      "execution_count": null,
      "metadata": {
        "id": "sqEqsbUeiE-1"
      },
      "outputs": [],
      "source": [
        ""
      ]
    }
  ]
}