{
  "nbformat": 4,
  "nbformat_minor": 0,
  "metadata": {
    "colab": {
      "name": "12_Pandas.ipynb",
      "provenance": [],
      "authorship_tag": "ABX9TyPk1v1dhnlR/ZXHPKfWVFLS",
      "include_colab_link": true
    },
    "kernelspec": {
      "name": "python3",
      "display_name": "Python 3"
    },
    "language_info": {
      "name": "python"
    }
  },
  "cells": [
    {
      "cell_type": "markdown",
      "metadata": {
        "id": "view-in-github",
        "colab_type": "text"
      },
      "source": [
        "<a href=\"https://colab.research.google.com/github/V-Nayak/python-basics/blob/main/12_Pandas.ipynb\" target=\"_parent\"><img src=\"https://colab.research.google.com/assets/colab-badge.svg\" alt=\"Open In Colab\"/></a>"
      ]
    },
    {
      "cell_type": "markdown",
      "source": [
        "# **Pandas**\n",
        "\n",
        "Pandas is an open-source library that is made mainly for working with relational or labeled data both easily and intuitively.\n",
        "\n",
        "It provides various data structures and operations for manipulating numerical data and time series. This library is built on top of the NumPy library.\n",
        "\n",
        "Pandas is fast and it has high performance & productivity for users.\n",
        "\n",
        "Pandas generally provide two data structures for manipulating data, They are:\n",
        "\n",
        "Series\n",
        "\n",
        "DataFrame\n",
        "\n",
        "Series:\n",
        "Pandas Series is a one-dimensional labelled array capable of holding data of any type (integer, string, float, python objects, etc.). The axis labels are collectively called indexes. Pandas Series is nothing but a column in an excel sheet"
      ],
      "metadata": {
        "id": "Cp2XojB5jPF6"
      }
    },
    {
      "cell_type": "code",
      "execution_count": 2,
      "metadata": {
        "colab": {
          "base_uri": "https://localhost:8080/"
        },
        "id": "sqEqsbUeiE-1",
        "outputId": "1e15c01e-48b5-4bb7-fcfd-ad0c54ef3653"
      },
      "outputs": [
        {
          "output_type": "stream",
          "name": "stdout",
          "text": [
            "Series([], dtype: float64)\n",
            "0    g\n",
            "1    e\n",
            "2    e\n",
            "3    k\n",
            "4    s\n",
            "dtype: object\n"
          ]
        },
        {
          "output_type": "stream",
          "name": "stderr",
          "text": [
            "/usr/local/lib/python3.7/dist-packages/ipykernel_launcher.py:5: DeprecationWarning: The default dtype for empty Series will be 'object' instead of 'float64' in a future version. Specify a dtype explicitly to silence this warning.\n",
            "  \"\"\"\n"
          ]
        }
      ],
      "source": [
        "import pandas as pd\n",
        "import numpy as np\n",
        "\n",
        "# Creating empty series\n",
        "ser = pd.Series()\n",
        "\n",
        "print(ser)\n",
        "\n",
        "# simple array\n",
        "data = np.array(['g', 'e', 'e', 'k', 's'])\n",
        "\n",
        "ser = pd.Series(data)\n",
        "print(ser)"
      ]
    },
    {
      "cell_type": "markdown",
      "source": [
        "### 1.DataFrame\n",
        "\n",
        "Pandas DataFrame is a two-dimensional size-mutable, potentially heterogeneous tabular data structure with labeled axes (rows and columns). A Data frame is a two-dimensional data structure, i.e., data is aligned in a tabular fashion in rows and columns. Pandas DataFrame consists of three principal components, **the data, rows, and columns**."
      ],
      "metadata": {
        "id": "4ydcaSWdl32z"
      }
    },
    {
      "cell_type": "code",
      "source": [
        "import pandas as pd\n",
        "\n",
        "# Calling DataFrame constructor\n",
        "df = pd.DataFrame()\n",
        "print(df)\n",
        "\n",
        "# list of strings\n",
        "lst = ['learning', 'data', 'science', 'is',\n",
        "\t\t\t'easy']\n",
        "\n",
        "# Calling DataFrame constructor on list\n",
        "df = pd.DataFrame(lst)\n",
        "print(df)"
      ],
      "metadata": {
        "colab": {
          "base_uri": "https://localhost:8080/"
        },
        "id": "e1NiJ_DWmKBy",
        "outputId": "22cf2c5e-a1ee-4d14-e6af-b53eb63ac3e2"
      },
      "execution_count": 3,
      "outputs": [
        {
          "output_type": "stream",
          "name": "stdout",
          "text": [
            "Empty DataFrame\n",
            "Columns: []\n",
            "Index: []\n",
            "          0\n",
            "0  learning\n",
            "1      data\n",
            "2   science\n",
            "3        is\n",
            "4      easy\n"
          ]
        }
      ]
    },
    {
      "cell_type": "markdown",
      "source": [
        "## Creating DataFrame from dict of ndarray/lists:\n",
        "\n",
        "To create DataFrame from dict of narray/list, all the narray must be of same length. If index is passed then the length index should be equal to the length of arrays. If no index is passed, then by default, index will be range(n) where n is the array length."
      ],
      "metadata": {
        "id": "zkieleD6nHlw"
      }
    },
    {
      "cell_type": "code",
      "source": [
        "# Python code demonstrate creating\n",
        "# DataFrame from dict narray / lists\n",
        "# By default addresses.\n",
        "\n",
        "import pandas as pd\n",
        "\n",
        "# initialise data of lists.\n",
        "data = {'Name':['Tom', 'nick', 'krish', 'jack'], 'Age':[20, 21, 19, 18]}\n",
        "\n",
        "# Create DataFrame\n",
        "df = pd.DataFrame(data)\n",
        "\n",
        "# Print the output.\n",
        "print(df)"
      ],
      "metadata": {
        "colab": {
          "base_uri": "https://localhost:8080/"
        },
        "id": "YNNBqj1EnPuC",
        "outputId": "16b305ac-559a-4d50-cc07-6a1de94b8982"
      },
      "execution_count": 4,
      "outputs": [
        {
          "output_type": "stream",
          "name": "stdout",
          "text": [
            "    Name  Age\n",
            "0    Tom   20\n",
            "1   nick   21\n",
            "2  krish   19\n",
            "3   jack   18\n"
          ]
        }
      ]
    },
    {
      "cell_type": "markdown",
      "source": [
        "## Create pandas dataframe from lists using dictionary:\n",
        "\n",
        "Creating pandas data-frame from lists using dictionary can be achieved in different ways. We can create pandas dataframe from lists using dictionary using pandas.DataFrame. With this method in Pandas we can transform a dictionary of list to a dataframe."
      ],
      "metadata": {
        "id": "KEWvM4U6pIyq"
      }
    },
    {
      "cell_type": "code",
      "source": [
        "# Python code demonstrate creating\n",
        "# DataFrame from dict narray / lists\n",
        "# By default addresses.\n",
        "\n",
        "import pandas as pd\n",
        "\n",
        "# initialise data of lists.\n",
        "data = {'Name':['Tom', 'nick', 'krish', 'jack'], 'Age':[20, 21, 19, 18]}\n",
        "\n",
        "# Create DataFrame\n",
        "df = pd.DataFrame(data)\n",
        "\n",
        "# Print the output.\n",
        "print(df)"
      ],
      "metadata": {
        "colab": {
          "base_uri": "https://localhost:8080/"
        },
        "id": "GWirz3JBpNcY",
        "outputId": "162c11a6-77fd-4e35-bb15-f18c9f0e6d3f"
      },
      "execution_count": 5,
      "outputs": [
        {
          "output_type": "stream",
          "name": "stdout",
          "text": [
            "    Name  Age\n",
            "0    Tom   20\n",
            "1   nick   21\n",
            "2  krish   19\n",
            "3   jack   18\n"
          ]
        }
      ]
    },
    {
      "cell_type": "markdown",
      "source": [
        "## Create pandas dataframe from lists using dictionary:\n",
        "\n",
        "Creating pandas data-frame from lists using dictionary can be achieved in different ways. We can create pandas dataframe from lists using dictionary using pandas.DataFrame. With this method in Pandas we can transform a dictionary of list to a dataframe."
      ],
      "metadata": {
        "id": "x6_SBIdkpsmY"
      }
    },
    {
      "cell_type": "code",
      "source": [
        "# importing pandas as pd\n",
        "import pandas as pd\n",
        "\n",
        "# dictionary of lists\n",
        "dict = {'name':[\"aparna\", \"pankaj\", \"sudhir\", \"Geeku\"],\n",
        "\t\t'degree': [\"MBA\", \"BCA\", \"M.Tech\", \"MBA\"],\n",
        "\t\t'score':[90, 40, 80, 98]}\n",
        "\n",
        "df = pd.DataFrame(dict)\n",
        "\n",
        "print(df)"
      ],
      "metadata": {
        "colab": {
          "base_uri": "https://localhost:8080/"
        },
        "id": "cgZ7IKASpv5P",
        "outputId": "9aa4e5a8-5823-4d78-9290-9bce2ba9957b"
      },
      "execution_count": 6,
      "outputs": [
        {
          "output_type": "stream",
          "name": "stdout",
          "text": [
            "     name  degree  score\n",
            "0  aparna     MBA     90\n",
            "1  pankaj     BCA     40\n",
            "2  sudhir  M.Tech     80\n",
            "3   Geeku     MBA     98\n"
          ]
        }
      ]
    }
  ]
}