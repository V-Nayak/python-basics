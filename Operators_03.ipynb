{
  "nbformat": 4,
  "nbformat_minor": 0,
  "metadata": {
    "colab": {
      "name": "Operators_03.ipynb",
      "provenance": [],
      "collapsed_sections": [],
      "authorship_tag": "ABX9TyPUoU/4nZhcS0eTLvxSJuL1",
      "include_colab_link": true
    },
    "kernelspec": {
      "name": "python3",
      "display_name": "Python 3"
    },
    "language_info": {
      "name": "python"
    }
  },
  "cells": [
    {
      "cell_type": "markdown",
      "metadata": {
        "id": "view-in-github",
        "colab_type": "text"
      },
      "source": [
        "<a href=\"https://colab.research.google.com/github/V-Nayak/python-basics/blob/main/Operators_03.ipynb\" target=\"_parent\"><img src=\"https://colab.research.google.com/assets/colab-badge.svg\" alt=\"Open In Colab\"/></a>"
      ]
    },
    {
      "cell_type": "markdown",
      "source": [
        "#Operator is a symbol that performs certain operations.\n",
        "\n",
        " Python provides the following set of operators\n",
        "\n",
        "1) Arithmetic Operators\n",
        "\n",
        "2) Relational Operators OR Comparison Operators\n",
        "\n",
        "3) Logical operators\n",
        "\n",
        "4) Bitwise oeprators\n",
        "\n",
        "5) Assignment operators\n",
        "\n",
        "6) Special operators\n"
      ],
      "metadata": {
        "id": "yps-pUMZjz4Z"
      }
    },
    {
      "cell_type": "markdown",
      "source": [
        "1) Arithmetic Operators:\n",
        "\n",
        " Addition: + ..Subtraction: - ..Multiplication: * ..Division Operator: /   ..Modulo Operator: %   Floor Division Operator: //  Exponent Operator OR Power Operator: **\n"
      ],
      "metadata": {
        "id": "HT8-v5cTkEQi"
      }
    },
    {
      "cell_type": "code",
      "source": [
        "a=15.6\n",
        "b=2\n",
        "print('a+b=',a+b)\n",
        "print('a-b=',a-b)\n",
        "print('a*b=',a*b)\n",
        "print('a/b=',a/b)\n",
        "print('a//b=',a//b)\n",
        "print('a%b=',a%b)\n",
        "print('a**b=',a**b)"
      ],
      "metadata": {
        "colab": {
          "base_uri": "https://localhost:8080/"
        },
        "id": "kuFhgJ9akWhA",
        "outputId": "2629e0d3-6249-4a5c-a1ea-885477800ce9"
      },
      "execution_count": 3,
      "outputs": [
        {
          "output_type": "stream",
          "name": "stdout",
          "text": [
            "a+b= 17.6\n",
            "a-b= 13.6\n",
            "a*b= 31.2\n",
            "a/b= 7.8\n",
            "a//b= 7.0\n",
            "a%b= 1.5999999999999996\n",
            "a**b= 243.35999999999999\n"
          ]
        }
      ]
    },
    {
      "cell_type": "markdown",
      "source": [
        "2.Relational operators\n"
      ],
      "metadata": {
        "id": "5_2vNLGi5vsh"
      }
    },
    {
      "cell_type": "code",
      "source": [
        "a=10\n",
        "b=20\n",
        "print(\"a > b is \",a>b)\n",
        "print(\"a >= b is \",a>=b)\n",
        "print(\"a < b is \",a<b)\n",
        "print(\"a <= b is \",a<=b)\n",
        "\n",
        "a > b #is False\n",
        "a >= b #is False\n",
        "a < b #is True\n",
        "a <= b #is True"
      ],
      "metadata": {
        "colab": {
          "base_uri": "https://localhost:8080/"
        },
        "id": "eqX7_r0H5dTA",
        "outputId": "7223ee77-bd83-4f33-f2ee-89ae6aa13a7d"
      },
      "execution_count": 4,
      "outputs": [
        {
          "output_type": "stream",
          "name": "stdout",
          "text": [
            "a > b is  False\n",
            "a >= b is  False\n",
            "a < b is  True\n",
            "a <= b is  True\n"
          ]
        },
        {
          "output_type": "execute_result",
          "data": {
            "text/plain": [
              "True"
            ]
          },
          "metadata": {},
          "execution_count": 4
        }
      ]
    },
    {
      "cell_type": "markdown",
      "source": [
        "3) Equality Operators: ==, !="
      ],
      "metadata": {
        "id": "OxfcukSL6U5e"
      }
    },
    {
      "cell_type": "code",
      "source": [
        "10==20"
      ],
      "metadata": {
        "colab": {
          "base_uri": "https://localhost:8080/"
        },
        "id": "rntkctgp6WXh",
        "outputId": "a8fe0b90-1d4e-40bb-c92e-4001287394bd"
      },
      "execution_count": 5,
      "outputs": [
        {
          "output_type": "execute_result",
          "data": {
            "text/plain": [
              "False"
            ]
          },
          "metadata": {},
          "execution_count": 5
        }
      ]
    },
    {
      "cell_type": "code",
      "source": [
        "10!=20"
      ],
      "metadata": {
        "colab": {
          "base_uri": "https://localhost:8080/"
        },
        "id": "DMGHhlMr7MiP",
        "outputId": "e5fb1e6f-66c4-4789-ba18-e5c7e76389c8"
      },
      "execution_count": 6,
      "outputs": [
        {
          "output_type": "execute_result",
          "data": {
            "text/plain": [
              "True"
            ]
          },
          "metadata": {},
          "execution_count": 6
        }
      ]
    },
    {
      "cell_type": "code",
      "source": [
        "10!=10"
      ],
      "metadata": {
        "colab": {
          "base_uri": "https://localhost:8080/"
        },
        "id": "DDicu4L58TYz",
        "outputId": "cd892aef-7026-465c-bd79-d3ce9481e8ef"
      },
      "execution_count": 7,
      "outputs": [
        {
          "output_type": "execute_result",
          "data": {
            "text/plain": [
              "False"
            ]
          },
          "metadata": {},
          "execution_count": 7
        }
      ]
    },
    {
      "cell_type": "code",
      "source": [
        "1==True"
      ],
      "metadata": {
        "colab": {
          "base_uri": "https://localhost:8080/"
        },
        "id": "qdUlp00s8cgT",
        "outputId": "e970229e-d194-4553-d048-e484cbdab2af"
      },
      "execution_count": 8,
      "outputs": [
        {
          "output_type": "execute_result",
          "data": {
            "text/plain": [
              "True"
            ]
          },
          "metadata": {},
          "execution_count": 8
        }
      ]
    },
    {
      "cell_type": "code",
      "source": [
        "0!=False"
      ],
      "metadata": {
        "colab": {
          "base_uri": "https://localhost:8080/"
        },
        "id": "U9ykTmQ48iJi",
        "outputId": "58a287fb-ab92-43a6-b39c-e78b3dad070e"
      },
      "execution_count": 9,
      "outputs": [
        {
          "output_type": "execute_result",
          "data": {
            "text/plain": [
              "False"
            ]
          },
          "metadata": {},
          "execution_count": 9
        }
      ]
    }
  ]
}