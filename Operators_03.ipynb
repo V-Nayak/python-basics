{
  "nbformat": 4,
  "nbformat_minor": 0,
  "metadata": {
    "colab": {
      "name": "Operators_03.ipynb",
      "provenance": [],
      "collapsed_sections": [],
      "authorship_tag": "ABX9TyMsjEU874NmzheIkxypqAjC",
      "include_colab_link": true
    },
    "kernelspec": {
      "name": "python3",
      "display_name": "Python 3"
    },
    "language_info": {
      "name": "python"
    }
  },
  "cells": [
    {
      "cell_type": "markdown",
      "metadata": {
        "id": "view-in-github",
        "colab_type": "text"
      },
      "source": [
        "<a href=\"https://colab.research.google.com/github/V-Nayak/python-basics/blob/main/Operators_03.ipynb\" target=\"_parent\"><img src=\"https://colab.research.google.com/assets/colab-badge.svg\" alt=\"Open In Colab\"/></a>"
      ]
    },
    {
      "cell_type": "markdown",
      "source": [
        "#Operator is a symbol that performs certain operations.\n",
        "\n",
        " Python provides the following set of operators\n",
        "\n",
        "1) Arithmetic Operators\n",
        "\n",
        "2) Relational Operators OR Comparison Operators\n",
        "\n",
        "3) Logical operators\n",
        "\n",
        "4) Bitwise oeprators\n",
        "\n",
        "5) Assignment operators\n",
        "\n",
        "6) Special operators\n"
      ],
      "metadata": {
        "id": "yps-pUMZjz4Z"
      }
    },
    {
      "cell_type": "markdown",
      "source": [
        "1) Arithmetic Operators:\n",
        "\n",
        " Addition: + ..Subtraction: - ..Multiplication: * ..Division Operator: /   ..Modulo Operator: %   Floor Division Operator: //  Exponent Operator OR Power Operator: **\n"
      ],
      "metadata": {
        "id": "HT8-v5cTkEQi"
      }
    },
    {
      "cell_type": "code",
      "source": [
        "a=15.6\n",
        "b=2\n",
        "print('a+b=',a+b)\n",
        "print('a-b=',a-b)\n",
        "print('a*b=',a*b)\n",
        "print('a/b=',a/b)\n",
        "print('a//b=',a//b)\n",
        "print('a%b=',a%b)\n",
        "print('a**b=',a**b)"
      ],
      "metadata": {
        "colab": {
          "base_uri": "https://localhost:8080/"
        },
        "id": "kuFhgJ9akWhA",
        "outputId": "46184384-e42c-47cb-bfe6-a3eabea7f2ba"
      },
      "execution_count": 2,
      "outputs": [
        {
          "output_type": "stream",
          "name": "stdout",
          "text": [
            "a+b= 17.6\n",
            "a-b= 13.6\n",
            "a*b= 31.2\n",
            "a/b= 7.8\n",
            "a//b= 7.0\n",
            "a%b= 1.5999999999999996\n",
            "a**b= 243.35999999999999\n"
          ]
        }
      ]
    }
  ]
}