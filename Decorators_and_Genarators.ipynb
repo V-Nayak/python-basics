{
  "nbformat": 4,
  "nbformat_minor": 0,
  "metadata": {
    "colab": {
      "provenance": [],
      "authorship_tag": "ABX9TyNFU2Iq35thjspvHOVU0LYE",
      "include_colab_link": true
    },
    "kernelspec": {
      "name": "python3",
      "display_name": "Python 3"
    },
    "language_info": {
      "name": "python"
    }
  },
  "cells": [
    {
      "cell_type": "markdown",
      "metadata": {
        "id": "view-in-github",
        "colab_type": "text"
      },
      "source": [
        "<a href=\"https://colab.research.google.com/github/V-Nayak/python-basics/blob/main/Decorators_and_Genarators.ipynb\" target=\"_parent\"><img src=\"https://colab.research.google.com/assets/colab-badge.svg\" alt=\"Open In Colab\"/></a>"
      ]
    },
    {
      "cell_type": "code",
      "source": [
        "def hello(name='jose'):\n",
        "  print('the hello() functio has been executed!')\n",
        "\n",
        "  def greet():\n",
        "    return '\\t This is tyhe greet() func inside hello!'\n",
        "\n",
        "  def welcome():\n",
        "    return '\\t This is welcome() inside hello'\n",
        "\n",
        "  print(greet())\n",
        "  print(welcome())\n",
        "  print(\"This is the end of the Hello function!\")"
      ],
      "metadata": {
        "id": "EmJG3mPUtSJT"
      },
      "execution_count": 6,
      "outputs": []
    },
    {
      "cell_type": "code",
      "source": [
        "hello()"
      ],
      "metadata": {
        "colab": {
          "base_uri": "https://localhost:8080/"
        },
        "id": "W07AjlhNuF9Z",
        "outputId": "cb6f67d5-150c-4eb9-80dd-c14610ba8ae8"
      },
      "execution_count": 10,
      "outputs": [
        {
          "output_type": "stream",
          "name": "stdout",
          "text": [
            "the hello() functio has been executed!\n",
            "\t This is tyhe greet() func inside hello!\n",
            "\t This is welcome() inside hello\n",
            "This is the end of the Hello function!\n"
          ]
        }
      ]
    },
    {
      "cell_type": "code",
      "execution_count": 1,
      "metadata": {
        "id": "l2vCccbUsc9q"
      },
      "outputs": [],
      "source": [
        "def new_decorator(original_func):\n",
        "\n",
        "  def wrap_func():\n",
        "\n",
        "    print(\"Some extra code, before the original function\")\n",
        "\n",
        "    original_func()\n",
        "\n",
        "    print(\"Some extra code, aafter the original function\")\n",
        "\n",
        "  return wrap_func"
      ]
    }
  ]
}