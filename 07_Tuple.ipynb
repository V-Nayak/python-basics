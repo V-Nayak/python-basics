{
  "nbformat": 4,
  "nbformat_minor": 0,
  "metadata": {
    "colab": {
      "name": "07_Tuple.ipynb",
      "provenance": [],
      "collapsed_sections": [],
      "authorship_tag": "ABX9TyPXg+cQJnuAK6rlAz8JJT82",
      "include_colab_link": true
    },
    "kernelspec": {
      "name": "python3",
      "display_name": "Python 3"
    },
    "language_info": {
      "name": "python"
    }
  },
  "cells": [
    {
      "cell_type": "markdown",
      "metadata": {
        "id": "view-in-github",
        "colab_type": "text"
      },
      "source": [
        "<a href=\"https://colab.research.google.com/github/V-Nayak/python-basics/blob/main/07_Tuple.ipynb\" target=\"_parent\"><img src=\"https://colab.research.google.com/assets/colab-badge.svg\" alt=\"Open In Colab\"/></a>"
      ]
    },
    {
      "cell_type": "markdown",
      "source": [
        "# Tuple \n",
        "\n",
        "is same as list but immutable considers heterogenious, duplicate elements, +ve as well  as -ve indexes,seperated by comma, enclosed parenthesis. "
      ],
      "metadata": {
        "id": "oCWcZLBXLqLu"
      }
    },
    {
      "cell_type": "code",
      "source": [
        "t=10,'vinayak',30,'patil','$$'   #parenthesis are optional\n",
        "print(t)\n",
        "print(type(t)) "
      ],
      "metadata": {
        "colab": {
          "base_uri": "https://localhost:8080/"
        },
        "id": "bECGTIFXPmOI",
        "outputId": "654e7689-b40a-4925-a47f-efdd494ca908"
      },
      "execution_count": 2,
      "outputs": [
        {
          "output_type": "stream",
          "name": "stdout",
          "text": [
            "(10, 'vinayak', 30, 'patil', '$$')\n",
            "<class 'tuple'>\n"
          ]
        }
      ]
    },
    {
      "cell_type": "markdown",
      "source": [
        "# Accessing Elements of Tuple:\n",
        "We can access either by index or by slice operator"
      ],
      "metadata": {
        "id": "ItnRA5rgSA5-"
      }
    },
    {
      "cell_type": "code",
      "source": [
        "t=('Manoj','Sushil','Sandeep','shri','Akash','satish','Yogesh','Vinayak')\n",
        "print(t[0])\n",
        "print(t[2])\n",
        "print(t[3])"
      ],
      "metadata": {
        "colab": {
          "base_uri": "https://localhost:8080/"
        },
        "id": "51MulmttSvYJ",
        "outputId": "145e92df-6139-4f5b-eb62-58880d739d0c"
      },
      "execution_count": 5,
      "outputs": [
        {
          "output_type": "stream",
          "name": "stdout",
          "text": [
            "Manoj\n",
            "Sandeep\n",
            "shri\n"
          ]
        }
      ]
    },
    {
      "cell_type": "code",
      "source": [
        "print(t[:])"
      ],
      "metadata": {
        "colab": {
          "base_uri": "https://localhost:8080/"
        },
        "id": "5rHiNWpURU8q",
        "outputId": "b918e5b0-94e8-43ba-e16b-3e41f6b37e25"
      },
      "execution_count": 6,
      "outputs": [
        {
          "output_type": "stream",
          "name": "stdout",
          "text": [
            "('Manoj', 'Sushil', 'Sandeep', 'shri', 'Akash', 'satish', 'Yogesh', 'Vinayak')\n"
          ]
        }
      ]
    },
    {
      "cell_type": "code",
      "source": [
        "print(t[::-2])"
      ],
      "metadata": {
        "colab": {
          "base_uri": "https://localhost:8080/"
        },
        "id": "fGmuhN1-aiaO",
        "outputId": "71a8aafb-48df-4e02-e911-799bc54f0ae8"
      },
      "execution_count": 7,
      "outputs": [
        {
          "output_type": "stream",
          "name": "stdout",
          "text": [
            "('Vinayak', 'satish', 'shri', 'Sushil')\n"
          ]
        }
      ]
    },
    {
      "cell_type": "markdown",
      "source": [
        "tuple objects are immutable"
      ],
      "metadata": {
        "id": "frJF3OKvcQqf"
      }
    },
    {
      "cell_type": "code",
      "source": [
        "t = (1,2,3)\n",
        "t[1]=0"
      ],
      "metadata": {
        "colab": {
          "base_uri": "https://localhost:8080/",
          "height": 182
        },
        "id": "G01RefJfcUGM",
        "outputId": "60b8c0f6-e97c-41fe-f8e5-c1a4967a98ee"
      },
      "execution_count": 8,
      "outputs": [
        {
          "output_type": "error",
          "ename": "TypeError",
          "evalue": "ignored",
          "traceback": [
            "\u001b[0;31m---------------------------------------------------------------------------\u001b[0m",
            "\u001b[0;31mTypeError\u001b[0m                                 Traceback (most recent call last)",
            "\u001b[0;32m<ipython-input-8-e11652e16d41>\u001b[0m in \u001b[0;36m<module>\u001b[0;34m()\u001b[0m\n\u001b[1;32m      1\u001b[0m \u001b[0mt\u001b[0m \u001b[0;34m=\u001b[0m \u001b[0;34m(\u001b[0m\u001b[0;36m1\u001b[0m\u001b[0;34m,\u001b[0m\u001b[0;36m2\u001b[0m\u001b[0;34m,\u001b[0m\u001b[0;36m3\u001b[0m\u001b[0;34m)\u001b[0m\u001b[0;34m\u001b[0m\u001b[0;34m\u001b[0m\u001b[0m\n\u001b[0;32m----> 2\u001b[0;31m \u001b[0mt\u001b[0m\u001b[0;34m[\u001b[0m\u001b[0;36m1\u001b[0m\u001b[0;34m]\u001b[0m\u001b[0;34m=\u001b[0m\u001b[0;36m0\u001b[0m\u001b[0;34m\u001b[0m\u001b[0;34m\u001b[0m\u001b[0m\n\u001b[0m",
            "\u001b[0;31mTypeError\u001b[0m: 'tuple' object does not support item assignment"
          ]
        }
      ]
    },
    {
      "cell_type": "markdown",
      "source": [
        "# Mathematical Operators for Tuple:"
      ],
      "metadata": {
        "id": "jh1930QQcaNh"
      }
    },
    {
      "cell_type": "code",
      "source": [
        "t1=('a','b','c')\n",
        "t2=(40,50,60)\n",
        "t3=t1+t2\n",
        "print(t3) "
      ],
      "metadata": {
        "colab": {
          "base_uri": "https://localhost:8080/"
        },
        "id": "6TbB4MjicgBc",
        "outputId": "6bff7acc-f2c1-4fd7-a294-b763c0043f34"
      },
      "execution_count": 10,
      "outputs": [
        {
          "output_type": "stream",
          "name": "stdout",
          "text": [
            "('a', 'b', 'c', 40, 50, 60)\n"
          ]
        }
      ]
    },
    {
      "cell_type": "code",
      "source": [
        "t1=(1,2,3)\n",
        "t2=t1*3\n",
        "print(t2)#(10,20,30,10,20,30,10,20,30)"
      ],
      "metadata": {
        "colab": {
          "base_uri": "https://localhost:8080/"
        },
        "id": "_mp8ZEsMdARv",
        "outputId": "83bb361a-f8ad-4373-91b6-7f44a9925c80"
      },
      "execution_count": 11,
      "outputs": [
        {
          "output_type": "stream",
          "name": "stdout",
          "text": [
            "(1, 2, 3, 1, 2, 3, 1, 2, 3)\n"
          ]
        }
      ]
    },
    {
      "cell_type": "markdown",
      "source": [
        "## Important Functions of Tuple:"
      ],
      "metadata": {
        "id": "-_fosxS3eUCC"
      }
    },
    {
      "cell_type": "code",
      "source": [
        "t= (1,2,3,4)  #measures lenght\n",
        "len(t)"
      ],
      "metadata": {
        "id": "56ANXEIEegCG"
      },
      "execution_count": null,
      "outputs": []
    },
    {
      "cell_type": "code",
      "source": [
        "t= (1,2,2,2,3,3,3,3,4,4)\n",
        "t.count(3)"
      ],
      "metadata": {
        "colab": {
          "base_uri": "https://localhost:8080/"
        },
        "id": "7tUiM8ngePMg",
        "outputId": "a0fe9da1-757f-4995-abfd-9d0a199c7a1f"
      },
      "execution_count": 13,
      "outputs": [
        {
          "output_type": "execute_result",
          "data": {
            "text/plain": [
              "4"
            ]
          },
          "metadata": {},
          "execution_count": 13
        }
      ]
    },
    {
      "cell_type": "code",
      "source": [
        "# index(): Returns index of first occurrence of the given element.\n",
        "t=(10,20,10)\n",
        "t.index(20)"
      ],
      "metadata": {
        "colab": {
          "base_uri": "https://localhost:8080/"
        },
        "id": "s4BCsC3lf5H6",
        "outputId": "b62910cf-1945-43c1-fc43-ff191e8e2175"
      },
      "execution_count": 15,
      "outputs": [
        {
          "output_type": "execute_result",
          "data": {
            "text/plain": [
              "1"
            ]
          },
          "metadata": {},
          "execution_count": 15
        }
      ]
    },
    {
      "cell_type": "code",
      "source": [
        "t=(1,3,3,2,4,5,6)\n",
        "t1 = sorted(t)\n",
        "print(t1)"
      ],
      "metadata": {
        "colab": {
          "base_uri": "https://localhost:8080/"
        },
        "id": "hnOcmvFThDjG",
        "outputId": "2f0fe884-c071-4e40-8300-eeee771a498d"
      },
      "execution_count": 16,
      "outputs": [
        {
          "output_type": "stream",
          "name": "stdout",
          "text": [
            "[1, 2, 3, 3, 4, 5, 6]\n"
          ]
        }
      ]
    },
    {
      "cell_type": "code",
      "source": [
        "t2 = sorted(t, reverse = True)\n",
        "print(t2)"
      ],
      "metadata": {
        "colab": {
          "base_uri": "https://localhost:8080/"
        },
        "id": "PxMDByn7hhSS",
        "outputId": "01dd8ece-ba05-43a8-aa53-936b3ce47972"
      },
      "execution_count": 17,
      "outputs": [
        {
          "output_type": "stream",
          "name": "stdout",
          "text": [
            "[6, 5, 4, 3, 3, 2, 1]\n"
          ]
        }
      ]
    },
    {
      "cell_type": "code",
      "source": [
        "t=(11,22,33,44,55,66,77)\n",
        "print(min(t))\n",
        "print(max(t))"
      ],
      "metadata": {
        "colab": {
          "base_uri": "https://localhost:8080/"
        },
        "id": "QE4C0BaZh0Ta",
        "outputId": "b19efac6-4987-4ebf-cf1d-5fac945e5227"
      },
      "execution_count": 18,
      "outputs": [
        {
          "output_type": "stream",
          "name": "stdout",
          "text": [
            "11\n",
            "77\n"
          ]
        }
      ]
    },
    {
      "cell_type": "code",
      "source": [
        ""
      ],
      "metadata": {
        "id": "OZkzhDcFhco0"
      },
      "execution_count": null,
      "outputs": []
    }
  ]
}