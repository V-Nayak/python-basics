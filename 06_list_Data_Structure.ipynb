{
  "nbformat": 4,
  "nbformat_minor": 0,
  "metadata": {
    "colab": {
      "name": "06_list_Data_Structure.ipynb",
      "provenance": [],
      "collapsed_sections": [],
      "authorship_tag": "ABX9TyNSipAEnIx5M0gI4nPsJlxU",
      "include_colab_link": true
    },
    "kernelspec": {
      "name": "python3",
      "display_name": "Python 3"
    },
    "language_info": {
      "name": "python"
    }
  },
  "cells": [
    {
      "cell_type": "markdown",
      "metadata": {
        "id": "view-in-github",
        "colab_type": "text"
      },
      "source": [
        "<a href=\"https://colab.research.google.com/github/V-Nayak/python-basics/blob/main/06_list_Data_Structure.ipynb\" target=\"_parent\"><img src=\"https://colab.research.google.com/assets/colab-badge.svg\" alt=\"Open In Colab\"/></a>"
      ]
    },
    {
      "cell_type": "markdown",
      "source": [
        "# List\n",
        "֍ If we want to represent a group of individual(heterogeneous) objects as a single entity where insertion order needs to be preserved and duplicates are allowed, then we should go for List.\n",
        "\n",
        "֍  [List is dynamic ,mutable]\n",
        "\n",
        "֍ We can differentiate duplicate elements by using index and we can preserve insertion order by using index. Hence index will play very important role.\n",
        "\n",
        "֍ Python supports both positive and negative indexes. +ve index means from left to right where as negative index means right to left."
      ],
      "metadata": {
        "id": "dfbWtgMiNgTF"
      }
    },
    {
      "cell_type": "code",
      "execution_count": 6,
      "metadata": {
        "colab": {
          "base_uri": "https://localhost:8080/"
        },
        "id": "7Ciq8c0BNN3X",
        "outputId": "84204d39-e135-4af6-ed92-75d91115709b"
      },
      "outputs": [
        {
          "output_type": "stream",
          "name": "stdout",
          "text": [
            "[]\n",
            "<class 'list'>\n"
          ]
        }
      ],
      "source": [
        "list=[]    #defining empty list \n",
        "print(list)\n",
        "print(type(list))"
      ]
    },
    {
      "cell_type": "code",
      "source": [
        "list=eval(input(\"EnterList:\"))\n",
        "print(list)\n",
        "print(type(list))"
      ],
      "metadata": {
        "colab": {
          "base_uri": "https://localhost:8080/"
        },
        "id": "VOpK6dkcVNay",
        "outputId": "1cabc4a6-e00a-4076-bd48-a18e3bdc394d"
      },
      "execution_count": 28,
      "outputs": [
        {
          "output_type": "stream",
          "name": "stdout",
          "text": [
            "EnterList:[123456666]\n",
            "[123456666]\n",
            "<class 'list'>\n"
          ]
        }
      ]
    },
    {
      "cell_type": "code",
      "source": [
        "del list  # to delete 'list' variable defined earlier\n",
        "l = list(range(1,10))\n",
        "print(l)\n",
        "\n"
      ],
      "metadata": {
        "colab": {
          "base_uri": "https://localhost:8080/"
        },
        "id": "y30nE11XWGST",
        "outputId": "b627b646-c030-41a4-c330-a6760f7b7a7a"
      },
      "execution_count": 29,
      "outputs": [
        {
          "output_type": "stream",
          "name": "stdout",
          "text": [
            "[1, 2, 3, 4, 5, 6, 7, 8, 9]\n"
          ]
        }
      ]
    },
    {
      "cell_type": "code",
      "source": [
        "del list           #to bring letters to list  ..issue\n",
        "import string\n",
        "l = list('string.ascii_lowercase')\n",
        "print(l)"
      ],
      "metadata": {
        "id": "T9-Gv9G4ZFSi"
      },
      "execution_count": null,
      "outputs": []
    },
    {
      "cell_type": "code",
      "source": [
        "s=\"Welcome to todays session of tuple!!!\"   #splitting the string\n",
        "l=s.split()\n",
        "print(l)\n",
        "type(l)"
      ],
      "metadata": {
        "colab": {
          "base_uri": "https://localhost:8080/"
        },
        "id": "kn1tD_67ZO3L",
        "outputId": "2ae43ab3-eadf-4c0a-a9e8-ba8d9c1f6ac3"
      },
      "execution_count": 30,
      "outputs": [
        {
          "output_type": "stream",
          "name": "stdout",
          "text": [
            "['Welcome', 'to', 'todays', 'session', 'of', 'tuple!!!']\n"
          ]
        },
        {
          "output_type": "execute_result",
          "data": {
            "text/plain": [
              "list"
            ]
          },
          "metadata": {},
          "execution_count": 30
        }
      ]
    },
    {
      "cell_type": "markdown",
      "source": [
        "# Accessing Elements of List:\n",
        "We can access elements of the list either by using index or by using slice operator(:)\n",
        "\n",
        "By using Index:\n",
        "List follows zero based index. ie index of first element is zero"
      ],
      "metadata": {
        "id": "4Uv1U1hbZpqX"
      }
    },
    {
      "cell_type": "code",
      "source": [
        "l = ['A','B','C','D','E']\n",
        "l[4] #providing index"
      ],
      "metadata": {
        "colab": {
          "base_uri": "https://localhost:8080/",
          "height": 36
        },
        "id": "jSfVEGYIZv21",
        "outputId": "b6da81b2-afc1-4178-c3e7-310e564121f0"
      },
      "execution_count": 6,
      "outputs": [
        {
          "output_type": "execute_result",
          "data": {
            "text/plain": [
              "'E'"
            ],
            "application/vnd.google.colaboratory.intrinsic+json": {
              "type": "string"
            }
          },
          "metadata": {},
          "execution_count": 6
        }
      ]
    },
    {
      "cell_type": "code",
      "source": [
        "l= [10,20,20,30,30,40]\n",
        "l[4]"
      ],
      "metadata": {
        "colab": {
          "base_uri": "https://localhost:8080/"
        },
        "id": "GdrVKq-KbH8c",
        "outputId": "19c01c87-287b-4f1e-b089-373804a771de"
      },
      "execution_count": 2,
      "outputs": [
        {
          "output_type": "execute_result",
          "data": {
            "text/plain": [
              "30"
            ]
          },
          "metadata": {},
          "execution_count": 2
        }
      ]
    },
    {
      "cell_type": "code",
      "source": [
        "l[3]"
      ],
      "metadata": {
        "colab": {
          "base_uri": "https://localhost:8080/",
          "height": 36
        },
        "id": "N94TFJZMu4hs",
        "outputId": "8b82b35c-91fa-4c5c-96c4-a9ee7b20f14a"
      },
      "execution_count": 7,
      "outputs": [
        {
          "output_type": "execute_result",
          "data": {
            "text/plain": [
              "'D'"
            ],
            "application/vnd.google.colaboratory.intrinsic+json": {
              "type": "string"
            }
          },
          "metadata": {},
          "execution_count": 7
        }
      ]
    },
    {
      "cell_type": "markdown",
      "source": [
        "### By using Slice Operator"
      ],
      "metadata": {
        "id": "CavNG_mKvpTl"
      }
    },
    {
      "cell_type": "code",
      "source": [
        "n=[1,2,3,4,5,'a','b','c','d','e']     ## we can combinelly put alphanumeric\n",
        "print(n[:])\n",
        "print(n[2:8])"
      ],
      "metadata": {
        "colab": {
          "base_uri": "https://localhost:8080/"
        },
        "id": "9b3ARCSFvsmd",
        "outputId": "344a0953-1a37-4972-f7fc-fc7568c12deb"
      },
      "execution_count": 10,
      "outputs": [
        {
          "output_type": "stream",
          "name": "stdout",
          "text": [
            "[1, 2, 3, 4, 5, 'a', 'b', 'c', 'd', 'e']\n",
            "[3, 4, 5, 'a', 'b', 'c']\n"
          ]
        }
      ]
    },
    {
      "cell_type": "markdown",
      "source": [
        "# List vs Mutability:\n",
        "Once we creates a List object, we can modify its content. Hence List objects are mutable."
      ],
      "metadata": {
        "id": "eelf1HrZwoTp"
      }
    },
    {
      "cell_type": "code",
      "source": [
        "n=[111,222,333,444]\n",
        "print(n)\n",
        "n[1]='vinayak'\n",
        "print(n)"
      ],
      "metadata": {
        "colab": {
          "base_uri": "https://localhost:8080/"
        },
        "id": "OKd2xNILyBKW",
        "outputId": "94aed140-7b9a-4cdd-9059-830e82ea5df7"
      },
      "execution_count": 11,
      "outputs": [
        {
          "output_type": "stream",
          "name": "stdout",
          "text": [
            "[111, 222, 333, 444]\n",
            "[111, 'vinayak', 333, 444]\n"
          ]
        }
      ]
    },
    {
      "cell_type": "markdown",
      "source": [
        "# Traversing the Elements of List:\n",
        "The sequential access of each element in the list is called traversal."
      ],
      "metadata": {
        "id": "gt8LSHVDy1KF"
      }
    },
    {
      "cell_type": "code",
      "source": [
        "n=[0,1,2,3,4,5,'a','b','c']     # 1)By using while Loop:..here we hv to increase the count\n",
        "i=0\n",
        "while i < len(n):\n",
        "  print(n[i])\n",
        "  i=i+1"
      ],
      "metadata": {
        "colab": {
          "base_uri": "https://localhost:8080/"
        },
        "id": "nn1c4hGvy_0J",
        "outputId": "9c7bb1c8-fe1e-4d3a-9897-4bad1d9f1740"
      },
      "execution_count": 13,
      "outputs": [
        {
          "output_type": "stream",
          "name": "stdout",
          "text": [
            "0\n",
            "1\n",
            "2\n",
            "3\n",
            "4\n",
            "5\n",
            "a\n",
            "b\n",
            "c\n"
          ]
        }
      ]
    },
    {
      "cell_type": "code",
      "source": [
        "n=[0,1,2,3,4,5,'a','b','c']      \n",
        "i=-1\n",
        " while i >= len(n) :\n",
        "  print(n[i])\n",
        " i=i-1"
      ],
      "metadata": {
        "colab": {
          "base_uri": "https://localhost:8080/",
          "height": 135
        },
        "id": "_q0RJbjvzeJg",
        "outputId": "e6f1b4ba-0f6a-43d3-b9ea-0f0dcb012bfc"
      },
      "execution_count": 23,
      "outputs": [
        {
          "output_type": "error",
          "ename": "IndentationError",
          "evalue": "ignored",
          "traceback": [
            "\u001b[0;36m  File \u001b[0;32m\"<ipython-input-23-0c65b5e777d4>\"\u001b[0;36m, line \u001b[0;32m3\u001b[0m\n\u001b[0;31m    while i >= len(n) :\u001b[0m\n\u001b[0m    ^\u001b[0m\n\u001b[0;31mIndentationError\u001b[0m\u001b[0;31m:\u001b[0m unexpected indent\n"
          ]
        }
      ]
    },
    {
      "cell_type": "code",
      "source": [
        "n=[0,1,2,3,4,5,'a','b','c']    # 2)By using for Loop:\n",
        "for n1 in n:\n",
        " print(n1)"
      ],
      "metadata": {
        "colab": {
          "base_uri": "https://localhost:8080/"
        },
        "id": "3zMwSgw21Oit",
        "outputId": "b0101c40-fc55-41a9-fbd2-0fbfbb3a73d3"
      },
      "execution_count": 24,
      "outputs": [
        {
          "output_type": "stream",
          "name": "stdout",
          "text": [
            "0\n",
            "1\n",
            "2\n",
            "3\n",
            "4\n",
            "5\n",
            "a\n",
            "b\n",
            "c\n"
          ]
        }
      ]
    },
    {
      "cell_type": "code",
      "source": [
        "l=[\"A\",\"B\",\"C\"]   ##index wise display\n",
        "x=len(l)\n",
        "for i in range(x):\n",
        "  print(l[i],\"is available at positive index: \",i,\"and at negative index: \",i-x)"
      ],
      "metadata": {
        "colab": {
          "base_uri": "https://localhost:8080/"
        },
        "id": "3VtbSkMD1h3a",
        "outputId": "8e7ee7cb-18ac-43f8-935b-4db559c2a521"
      },
      "execution_count": 25,
      "outputs": [
        {
          "output_type": "stream",
          "name": "stdout",
          "text": [
            "A is available at positive index:  0 and at negative index:  -3\n",
            "B is available at positive index:  1 and at negative index:  -2\n",
            "C is available at positive index:  2 and at negative index:  -1\n"
          ]
        }
      ]
    },
    {
      "cell_type": "markdown",
      "source": [
        "# Important Functions of List:"
      ],
      "metadata": {
        "id": "lhVu9zra1w2y"
      }
    },
    {
      "cell_type": "code",
      "source": [
        "n=[10,20,30,40]  ## To get info about.. len()\n",
        "print(len(n)) "
      ],
      "metadata": {
        "colab": {
          "base_uri": "https://localhost:8080/"
        },
        "id": "ZstTETyd1z-j",
        "outputId": "71dcece9-37f6-4fc8-e371-4b39c8e1ac44"
      },
      "execution_count": 26,
      "outputs": [
        {
          "output_type": "stream",
          "name": "stdout",
          "text": [
            "4\n"
          ]
        }
      ]
    },
    {
      "cell_type": "code",
      "source": [
        "n=[0,0,0,0,0,1,2,2,2,2,3,3,3,3,3,]   ## n.count()  occurance time of perticuler no.\n",
        "print(n.count(1))\n",
        "print(n.count(2))\n",
        "print(n.count(3))"
      ],
      "metadata": {
        "colab": {
          "base_uri": "https://localhost:8080/"
        },
        "id": "HorYu-XU1_Hs",
        "outputId": "aa60fc53-6a4a-4d0d-8091-4032c467ce03"
      },
      "execution_count": 28,
      "outputs": [
        {
          "output_type": "stream",
          "name": "stdout",
          "text": [
            "1\n",
            "4\n",
            "5\n"
          ]
        }
      ]
    },
    {
      "cell_type": "code",
      "source": [
        "n=[0,0,0,0,0,1,2,2,2,2,3,3]        ## n.index() presenting index of perticuler no\n",
        "print(n.index(1))"
      ],
      "metadata": {
        "colab": {
          "base_uri": "https://localhost:8080/"
        },
        "id": "AsL_mMye2YyO",
        "outputId": "df569983-cb49-4e32-e868-cebfc31b0531"
      },
      "execution_count": 29,
      "outputs": [
        {
          "output_type": "stream",
          "name": "stdout",
          "text": [
            "5\n"
          ]
        }
      ]
    },
    {
      "cell_type": "code",
      "source": [
        "list=[]                      ## manipulations  #1) append() Function: add item at the end of the list  \n",
        "list.append(\"V\")\n",
        "list.append(\"007\")\n",
        "list.append(\"Die hard\")\n",
        "print(list)"
      ],
      "metadata": {
        "colab": {
          "base_uri": "https://localhost:8080/"
        },
        "id": "CFoOvbMW2Yma",
        "outputId": "fbcaa533-3ddd-4c86-ad95-9f319d92740c"
      },
      "execution_count": 33,
      "outputs": [
        {
          "output_type": "stream",
          "name": "stdout",
          "text": [
            "['V', '007', 'Die hard']\n"
          ]
        }
      ]
    },
    {
      "cell_type": "code",
      "source": [
        "\n",
        "list1=[] \n",
        "list2=[]                    # add all the elements to list upto 50 which are divisible...\n",
        "for i in range(51):          ##  ....by 7 but greater than 20 and even no--> simple --> complex-->more complex\n",
        "  if i%7==0:\n",
        "    if i > 20:\n",
        "      if i%2==0 :\n",
        "       list1.append(i)\n",
        "     \n",
        "print(list1)"
      ],
      "metadata": {
        "colab": {
          "base_uri": "https://localhost:8080/"
        },
        "id": "Q249WjZT3fMw",
        "outputId": "f7b432de-e978-4e19-b5ed-f8c17b8e5abe"
      },
      "execution_count": 42,
      "outputs": [
        {
          "output_type": "stream",
          "name": "stdout",
          "text": [
            "[28, 42]\n"
          ]
        }
      ]
    },
    {
      "cell_type": "code",
      "source": [
        "n=[1,2,3,4,5]       ## insert the element at specified index of list\n",
        "n.insert(1,\"DS\")\n",
        "n.insert(2,\"Macarthy\")\n",
        "n.insert(3,\"Squadron\")\n",
        "print(n)"
      ],
      "metadata": {
        "colab": {
          "base_uri": "https://localhost:8080/"
        },
        "id": "F5tIaCpN6Gas",
        "outputId": "a85b29fb-4268-4eaf-d7a1-da41ae8793f8"
      },
      "execution_count": 44,
      "outputs": [
        {
          "output_type": "stream",
          "name": "stdout",
          "text": [
            "[1, 'DS', 'Macarthy', 'Squadron', 2, 3, 4, 5]\n"
          ]
        }
      ]
    },
    {
      "cell_type": "code",
      "source": [
        "order1=[\"Apache\",\"Pulsor\",\"Ninja\"]  ## extend the list\n",
        "order2=[\"500CC\"]\n",
        "order3=[\"Turbo\",\"Nitrous\"]\n",
        "order1.extend(order2)\n",
        "print(order1)\n",
        "order1.extend(order3)\n",
        "pritn(order1)"
      ],
      "metadata": {
        "id": "BrwyfJXp6i8z"
      },
      "execution_count": null,
      "outputs": []
    },
    {
      "cell_type": "code",
      "source": [
        "n=[10,20,10,30]    ### removing peticuler element\n",
        "n.remove(10)\n",
        "print(n)"
      ],
      "metadata": {
        "id": "FE0fQgWY7qGv"
      },
      "execution_count": null,
      "outputs": []
    }
  ]
}