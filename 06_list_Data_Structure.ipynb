{
  "nbformat": 4,
  "nbformat_minor": 0,
  "metadata": {
    "colab": {
      "name": "06_list_Data_Structure.ipynb",
      "provenance": [],
      "collapsed_sections": [],
      "authorship_tag": "ABX9TyMFaL6v3b9qrIkV/T5j+zoL",
      "include_colab_link": true
    },
    "kernelspec": {
      "name": "python3",
      "display_name": "Python 3"
    },
    "language_info": {
      "name": "python"
    }
  },
  "cells": [
    {
      "cell_type": "markdown",
      "metadata": {
        "id": "view-in-github",
        "colab_type": "text"
      },
      "source": [
        "<a href=\"https://colab.research.google.com/github/V-Nayak/python-basics/blob/main/06_list_Data_Structure.ipynb\" target=\"_parent\"><img src=\"https://colab.research.google.com/assets/colab-badge.svg\" alt=\"Open In Colab\"/></a>"
      ]
    },
    {
      "cell_type": "markdown",
      "source": [
        "# List\n",
        "֍ If we want to represent a group of individual(heterogeneous) objects as a single entity where insertion order needs to be preserved and duplicates are allowed, then we should go for List.\n",
        "\n",
        "֍  [List is dynamic ,mutable]\n",
        "\n",
        "֍ We can differentiate duplicate elements by using index and we can preserve insertion order by using index. Hence index will play very important role.\n",
        "\n",
        "֍ Python supports both positive and negative indexes. +ve index means from left to right where as negative index means right to left."
      ],
      "metadata": {
        "id": "dfbWtgMiNgTF"
      }
    },
    {
      "cell_type": "code",
      "execution_count": 6,
      "metadata": {
        "colab": {
          "base_uri": "https://localhost:8080/"
        },
        "id": "7Ciq8c0BNN3X",
        "outputId": "84204d39-e135-4af6-ed92-75d91115709b"
      },
      "outputs": [
        {
          "output_type": "stream",
          "name": "stdout",
          "text": [
            "[]\n",
            "<class 'list'>\n"
          ]
        }
      ],
      "source": [
        "list=[]    #defining empty list \n",
        "print(list)\n",
        "print(type(list))"
      ]
    },
    {
      "cell_type": "code",
      "source": [
        "list=eval(input(\"EnterList:\"))\n",
        "print(list)\n",
        "print(type(list))"
      ],
      "metadata": {
        "colab": {
          "base_uri": "https://localhost:8080/"
        },
        "id": "VOpK6dkcVNay",
        "outputId": "1cabc4a6-e00a-4076-bd48-a18e3bdc394d"
      },
      "execution_count": 28,
      "outputs": [
        {
          "output_type": "stream",
          "name": "stdout",
          "text": [
            "EnterList:[123456666]\n",
            "[123456666]\n",
            "<class 'list'>\n"
          ]
        }
      ]
    },
    {
      "cell_type": "code",
      "source": [
        "del list  # to delete 'list' variable defined earlier\n",
        "l = list(range(1,10))\n",
        "print(l)\n",
        "\n"
      ],
      "metadata": {
        "colab": {
          "base_uri": "https://localhost:8080/"
        },
        "id": "y30nE11XWGST",
        "outputId": "b627b646-c030-41a4-c330-a6760f7b7a7a"
      },
      "execution_count": 29,
      "outputs": [
        {
          "output_type": "stream",
          "name": "stdout",
          "text": [
            "[1, 2, 3, 4, 5, 6, 7, 8, 9]\n"
          ]
        }
      ]
    },
    {
      "cell_type": "code",
      "source": [
        "del list           #to bring letters to list  ..issue\n",
        "import string\n",
        "l = list('string.ascii_lowercase')\n",
        "print(l)"
      ],
      "metadata": {
        "id": "T9-Gv9G4ZFSi"
      },
      "execution_count": null,
      "outputs": []
    },
    {
      "cell_type": "code",
      "source": [
        "s=\"Welcome to todays session of tuple!!!\"   #splitting the string\n",
        "l=s.split()\n",
        "print(l)\n",
        "type(l)"
      ],
      "metadata": {
        "colab": {
          "base_uri": "https://localhost:8080/"
        },
        "id": "kn1tD_67ZO3L",
        "outputId": "2ae43ab3-eadf-4c0a-a9e8-ba8d9c1f6ac3"
      },
      "execution_count": 30,
      "outputs": [
        {
          "output_type": "stream",
          "name": "stdout",
          "text": [
            "['Welcome', 'to', 'todays', 'session', 'of', 'tuple!!!']\n"
          ]
        },
        {
          "output_type": "execute_result",
          "data": {
            "text/plain": [
              "list"
            ]
          },
          "metadata": {},
          "execution_count": 30
        }
      ]
    },
    {
      "cell_type": "markdown",
      "source": [
        "# Accessing Elements of List:\n",
        "We can access elements of the list either by using index or by using slice operator(:)\n",
        "\n",
        "By using Index:\n",
        "List follows zero based index. ie index of first element is zero"
      ],
      "metadata": {
        "id": "4Uv1U1hbZpqX"
      }
    },
    {
      "cell_type": "code",
      "source": [
        "l = ['A','B','C','D','E']\n",
        "l[4] #providing index"
      ],
      "metadata": {
        "colab": {
          "base_uri": "https://localhost:8080/",
          "height": 36
        },
        "id": "jSfVEGYIZv21",
        "outputId": "447c0fa2-a9c6-4b4d-b05e-f0543c9eed65"
      },
      "execution_count": 42,
      "outputs": [
        {
          "output_type": "execute_result",
          "data": {
            "text/plain": [
              "'E'"
            ],
            "application/vnd.google.colaboratory.intrinsic+json": {
              "type": "string"
            }
          },
          "metadata": {},
          "execution_count": 42
        }
      ]
    },
    {
      "cell_type": "code",
      "source": [
        "l= [10,20,20,30,30,40]\n",
        "l[4]"
      ],
      "metadata": {
        "colab": {
          "base_uri": "https://localhost:8080/"
        },
        "id": "GdrVKq-KbH8c",
        "outputId": "8924b9c4-f9dd-4b42-9cba-6bf61fa4e81a"
      },
      "execution_count": 41,
      "outputs": [
        {
          "output_type": "execute_result",
          "data": {
            "text/plain": [
              "30"
            ]
          },
          "metadata": {},
          "execution_count": 41
        }
      ]
    }
  ]
}