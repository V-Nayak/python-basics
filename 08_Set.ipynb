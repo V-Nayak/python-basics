{
  "nbformat": 4,
  "nbformat_minor": 0,
  "metadata": {
    "colab": {
      "name": "08_Set.ipynb",
      "provenance": [],
      "authorship_tag": "ABX9TyOclUU3f43ueTaD9o+q9NWj",
      "include_colab_link": true
    },
    "kernelspec": {
      "name": "python3",
      "display_name": "Python 3"
    },
    "language_info": {
      "name": "python"
    }
  },
  "cells": [
    {
      "cell_type": "markdown",
      "metadata": {
        "id": "view-in-github",
        "colab_type": "text"
      },
      "source": [
        "<a href=\"https://colab.research.google.com/github/V-Nayak/python-basics/blob/main/08_Set.ipynb\" target=\"_parent\"><img src=\"https://colab.research.google.com/assets/colab-badge.svg\" alt=\"Open In Colab\"/></a>"
      ]
    },
    {
      "cell_type": "markdown",
      "source": [
        "# SET - Data Structure\n",
        "\n",
        "1.If we want to represent a group of unique values(Heterogeneous) as a single entity then we should go for set.\n",
        "\n",
        "2.Duplicates Indexing and slicing are not allowed.\n",
        "\n",
        "Insertion order is not preserved.But we can sort the elements.\n",
        "not allowed for the set.\n",
        "\n",
        "Set objects are mutable i.e once we creates set object we can perform any changes in that object based on our requirement.\n",
        "\n",
        "We can represent set elements within curly braces and with comma seperation\n",
        "We can apply mathematical operations like union, intersection, difference etc on set objects\n"
      ],
      "metadata": {
        "id": "gtovb6OOVU6u"
      }
    },
    {
      "cell_type": "code",
      "source": [
        "s={10,20,30,40,'Oxygen',\"Nitrous\",'''Turbo'''}\n",
        "print(s)\n",
        "print(type(s))"
      ],
      "metadata": {
        "colab": {
          "base_uri": "https://localhost:8080/"
        },
        "id": "QJ5SHG1fHEle",
        "outputId": "fba6ec45-f6a4-41e6-bf29-e78592b08da9"
      },
      "execution_count": 1,
      "outputs": [
        {
          "output_type": "stream",
          "name": "stdout",
          "text": [
            "{'Turbo', 'Nitrous', 40, 10, 20, 'Oxygen', 30}\n",
            "<class 'set'>\n"
          ]
        }
      ]
    },
    {
      "cell_type": "code",
      "source": [
        "#We can create set objects by using set() Function s = set(any sequence)\n",
        "l=[10,20,30,40,10,20,10]\n",
        "s=set(l)\n",
        "print(s)    # duplicates are not allowed "
      ],
      "metadata": {
        "colab": {
          "base_uri": "https://localhost:8080/"
        },
        "id": "DXO5OiOjHEYi",
        "outputId": "560e374b-e0e4-489a-821f-bd30d3c75825"
      },
      "execution_count": 2,
      "outputs": [
        {
          "output_type": "stream",
          "name": "stdout",
          "text": [
            "{40, 10, 20, 30}\n"
          ]
        }
      ]
    },
    {
      "cell_type": "code",
      "source": [
        "s=set(range(5))\n",
        "print(s)#{0,1,2,3,4}"
      ],
      "metadata": {
        "colab": {
          "base_uri": "https://localhost:8080/"
        },
        "id": "iZOh6CGaLEjZ",
        "outputId": "77ba1588-bdf6-4de4-8e44-e55052535986"
      },
      "execution_count": 3,
      "outputs": [
        {
          "output_type": "stream",
          "name": "stdout",
          "text": [
            "{0, 1, 2, 3, 4}\n"
          ]
        }
      ]
    },
    {
      "cell_type": "markdown",
      "source": [
        "# Important Functions of Set:"
      ],
      "metadata": {
        "id": "BkswITEELMki"
      }
    },
    {
      "cell_type": "code",
      "source": [
        "s={10,20,30}             # add \n",
        "s.add(\"Intervention\");   #only single element at a time.\n",
        "s.add(\"Turbo\");          # Multiple times\n",
        "print(s)"
      ],
      "metadata": {
        "colab": {
          "base_uri": "https://localhost:8080/"
        },
        "id": "S-DvJvKzLOJU",
        "outputId": "88bf30d6-13de-46bd-bd9b-bacd441c6437"
      },
      "execution_count": 8,
      "outputs": [
        {
          "output_type": "stream",
          "name": "stdout",
          "text": [
            "{'Intervention', 'Turbo', 10, 20, 30}\n"
          ]
        }
      ]
    },
    {
      "cell_type": "code",
      "source": [
        "s={10,20,30}            #update(x,y,z): add multiple items to the set\n",
        "l=[40,\"RRR\",60,10]\n",
        "s.update(l,range(5))\n",
        "print(s)\n"
      ],
      "metadata": {
        "colab": {
          "base_uri": "https://localhost:8080/"
        },
        "id": "JrEDXeXqMPOc",
        "outputId": "f5c54d10-a734-46ad-8715-8ce3466759b3"
      },
      "execution_count": 11,
      "outputs": [
        {
          "output_type": "stream",
          "name": "stdout",
          "text": [
            "{0, 1, 2, 3, 4, 40, 10, 'RRR', 20, 60, 30}\n"
          ]
        }
      ]
    },
    {
      "cell_type": "code",
      "source": [
        "s={10,20,30}    # copy(): returns copy of the set(cloning)\n",
        "s1=s.copy()\n",
        "print(s1)"
      ],
      "metadata": {
        "colab": {
          "base_uri": "https://localhost:8080/"
        },
        "id": "c44OIaYTNFL_",
        "outputId": "98d11f01-f050-458d-8f82-3e68e967409c"
      },
      "execution_count": 12,
      "outputs": [
        {
          "output_type": "stream",
          "name": "stdout",
          "text": [
            "{10, 20, 30}\n"
          ]
        }
      ]
    },
    {
      "cell_type": "code",
      "source": [
        "s={'Excise',10,30,20}\n",
        "print(s)\n",
        "print(s.pop())\n",
        "print(s)"
      ],
      "metadata": {
        "colab": {
          "base_uri": "https://localhost:8080/"
        },
        "id": "kMelmuIfNWa8",
        "outputId": "c2d8cf3d-06ef-4f91-fbec-985068a1d481"
      },
      "execution_count": 15,
      "outputs": [
        {
          "output_type": "stream",
          "name": "stdout",
          "text": [
            "{'Excise', 10, 20, 30}\n",
            "Excise\n",
            "{10, 20, 30}\n"
          ]
        }
      ]
    },
    {
      "cell_type": "markdown",
      "source": [
        "# Mathematical Operations on the Set"
      ],
      "metadata": {
        "id": "k27mw3DcN06N"
      }
    },
    {
      "cell_type": "code",
      "source": [
        ""
      ],
      "metadata": {
        "id": "z0kYO6zhOLnq"
      },
      "execution_count": null,
      "outputs": []
    }
  ]
}