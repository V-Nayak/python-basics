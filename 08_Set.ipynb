{
  "nbformat": 4,
  "nbformat_minor": 0,
  "metadata": {
    "colab": {
      "name": "08_Set.ipynb",
      "provenance": [],
      "collapsed_sections": [],
      "authorship_tag": "ABX9TyMhkyKAUCptqyHDZrb7kDKc",
      "include_colab_link": true
    },
    "kernelspec": {
      "name": "python3",
      "display_name": "Python 3"
    },
    "language_info": {
      "name": "python"
    }
  },
  "cells": [
    {
      "cell_type": "markdown",
      "metadata": {
        "id": "view-in-github",
        "colab_type": "text"
      },
      "source": [
        "<a href=\"https://colab.research.google.com/github/V-Nayak/python-basics/blob/main/08_Set.ipynb\" target=\"_parent\"><img src=\"https://colab.research.google.com/assets/colab-badge.svg\" alt=\"Open In Colab\"/></a>"
      ]
    },
    {
      "cell_type": "markdown",
      "source": [
        "# SET - Data Structure\n",
        "\n",
        "1.If we want to represent a group of unique values(Heterogeneous) as a single entity then we should go for set.\n",
        "\n",
        "2.Duplicates Indexing and slicing are not allowed.\n",
        "\n",
        "Insertion order is not preserved.But we can sort the elements.\n",
        "not allowed for the set.\n",
        "\n",
        "Set objects are mutable i.e once we creates set object we can perform any changes in that object based on our requirement.\n",
        "\n",
        "We can represent set elements within curly braces and with comma seperation\n",
        "We can apply mathematical operations like union, intersection, difference etc on set objects\n"
      ],
      "metadata": {
        "id": "gtovb6OOVU6u"
      }
    },
    {
      "cell_type": "code",
      "source": [
        "s={10,20,30,40,'Oxygen',\"Nitrous\",'''Turbo'''}\n",
        "print(s)\n",
        "print(type(s))"
      ],
      "metadata": {
        "colab": {
          "base_uri": "https://localhost:8080/"
        },
        "id": "QJ5SHG1fHEle",
        "outputId": "fba6ec45-f6a4-41e6-bf29-e78592b08da9"
      },
      "execution_count": 1,
      "outputs": [
        {
          "output_type": "stream",
          "name": "stdout",
          "text": [
            "{'Turbo', 'Nitrous', 40, 10, 20, 'Oxygen', 30}\n",
            "<class 'set'>\n"
          ]
        }
      ]
    },
    {
      "cell_type": "code",
      "source": [
        "#We can create set objects by using set() Function s = set(any sequence)\n",
        "l=[10,20,30,40,10,20,10]\n",
        "s=set(l)\n",
        "print(s)    # duplicates are not allowed "
      ],
      "metadata": {
        "colab": {
          "base_uri": "https://localhost:8080/"
        },
        "id": "DXO5OiOjHEYi",
        "outputId": "560e374b-e0e4-489a-821f-bd30d3c75825"
      },
      "execution_count": 2,
      "outputs": [
        {
          "output_type": "stream",
          "name": "stdout",
          "text": [
            "{40, 10, 20, 30}\n"
          ]
        }
      ]
    },
    {
      "cell_type": "code",
      "source": [
        "s=set(range(5))\n",
        "print(s)#{0,1,2,3,4}"
      ],
      "metadata": {
        "colab": {
          "base_uri": "https://localhost:8080/"
        },
        "id": "iZOh6CGaLEjZ",
        "outputId": "77ba1588-bdf6-4de4-8e44-e55052535986"
      },
      "execution_count": 3,
      "outputs": [
        {
          "output_type": "stream",
          "name": "stdout",
          "text": [
            "{0, 1, 2, 3, 4}\n"
          ]
        }
      ]
    },
    {
      "cell_type": "markdown",
      "source": [
        "# Important Functions of Set:"
      ],
      "metadata": {
        "id": "BkswITEELMki"
      }
    },
    {
      "cell_type": "code",
      "source": [
        "s={10,20,30}             # add \n",
        "s.add(\"Intervention\");   #only single element at a time.\n",
        "s.add(\"Turbo\");          # Multiple times\n",
        "print(s)"
      ],
      "metadata": {
        "colab": {
          "base_uri": "https://localhost:8080/"
        },
        "id": "S-DvJvKzLOJU",
        "outputId": "88bf30d6-13de-46bd-bd9b-bacd441c6437"
      },
      "execution_count": 8,
      "outputs": [
        {
          "output_type": "stream",
          "name": "stdout",
          "text": [
            "{'Intervention', 'Turbo', 10, 20, 30}\n"
          ]
        }
      ]
    },
    {
      "cell_type": "code",
      "source": [
        "s={10,20,30}            #update(x,y,z): add multiple items to the set\n",
        "l=[40,\"RRR\",60,10]\n",
        "s.update(l,range(5))\n",
        "print(s)\n"
      ],
      "metadata": {
        "colab": {
          "base_uri": "https://localhost:8080/"
        },
        "id": "JrEDXeXqMPOc",
        "outputId": "f5c54d10-a734-46ad-8715-8ce3466759b3"
      },
      "execution_count": 11,
      "outputs": [
        {
          "output_type": "stream",
          "name": "stdout",
          "text": [
            "{0, 1, 2, 3, 4, 40, 10, 'RRR', 20, 60, 30}\n"
          ]
        }
      ]
    },
    {
      "cell_type": "code",
      "source": [
        "s={10,20,30}    # copy(): returns copy of the set(cloning)\n",
        "s1=s.copy()\n",
        "print(s1)"
      ],
      "metadata": {
        "colab": {
          "base_uri": "https://localhost:8080/"
        },
        "id": "c44OIaYTNFL_",
        "outputId": "98d11f01-f050-458d-8f82-3e68e967409c"
      },
      "execution_count": 12,
      "outputs": [
        {
          "output_type": "stream",
          "name": "stdout",
          "text": [
            "{10, 20, 30}\n"
          ]
        }
      ]
    },
    {
      "cell_type": "code",
      "source": [
        "s={'Excise',10,30,20}\n",
        "print(s)\n",
        "print(s.pop())\n",
        "print(s)"
      ],
      "metadata": {
        "colab": {
          "base_uri": "https://localhost:8080/"
        },
        "id": "kMelmuIfNWa8",
        "outputId": "c2d8cf3d-06ef-4f91-fbec-985068a1d481"
      },
      "execution_count": 15,
      "outputs": [
        {
          "output_type": "stream",
          "name": "stdout",
          "text": [
            "{'Excise', 10, 20, 30}\n",
            "Excise\n",
            "{10, 20, 30}\n"
          ]
        }
      ]
    },
    {
      "cell_type": "markdown",
      "source": [
        "# Mathematical Operations on the Set"
      ],
      "metadata": {
        "id": "k27mw3DcN06N"
      }
    },
    {
      "cell_type": "code",
      "source": [
        "x={10,20,30,40}       ## Union -all the elements in both sets\n",
        "y={30,40,50,60}\n",
        "print(x.union(y))\n",
        "print (x|y)"
      ],
      "metadata": {
        "colab": {
          "base_uri": "https://localhost:8080/"
        },
        "id": "z0kYO6zhOLnq",
        "outputId": "58009830-5ef3-4298-b2a9-1cb55d5c4430"
      },
      "execution_count": 18,
      "outputs": [
        {
          "output_type": "stream",
          "name": "stdout",
          "text": [
            "{40, 10, 50, 20, 60, 30}\n",
            "{40, 10, 50, 20, 60, 30}\n"
          ]
        }
      ]
    },
    {
      "cell_type": "code",
      "source": [
        "x={10,20,30,40,\"Rise\"}        ## inter section -common elements from both sets\n",
        "y={30,40,50,60,\"Rise\"}\n",
        "print(x.intersection(y))\n",
        "print(x&y)"
      ],
      "metadata": {
        "colab": {
          "base_uri": "https://localhost:8080/"
        },
        "id": "C2_zwrjKP1WN",
        "outputId": "955bd9e1-254d-46ad-daec-3ae9bafe4a02"
      },
      "execution_count": 20,
      "outputs": [
        {
          "output_type": "stream",
          "name": "stdout",
          "text": [
            "{40, 'Rise', 30}\n",
            "{40, 'Rise', 30}\n"
          ]
        }
      ]
    },
    {
      "cell_type": "code",
      "source": [
        "x={10,20,\"Value\",40}         ## Returns the elements present in x but not in y.\n",
        "y={30,40,50,60}\n",
        "print(x.difference(y))#10, 20\n",
        "print(x-y)#{10, 20}\n",
        "print(y-x)#{50, 60}         "
      ],
      "metadata": {
        "colab": {
          "base_uri": "https://localhost:8080/"
        },
        "id": "hXWWC4szQhIK",
        "outputId": "66b461d4-9bf4-4695-c48f-346c4044e703"
      },
      "execution_count": 19,
      "outputs": [
        {
          "output_type": "stream",
          "name": "stdout",
          "text": [
            "{10, 20, 'Value'}\n",
            "{10, 20, 'Value'}\n",
            "{50, 60, 30}\n"
          ]
        }
      ]
    },
    {
      "cell_type": "code",
      "source": [
        "x={10,'Deadly',20,30,40}               ##  #Returns elements present in either x OR y but not in both.\n",
        "y={30,40,50,60,'Weapon'}\n",
        "print(x.symmetric_difference(y))#{10,50,20,60}\n",
        "print(x^y)#{10, 50, 20, 60}"
      ],
      "metadata": {
        "colab": {
          "base_uri": "https://localhost:8080/"
        },
        "id": "hTWwkjTmRMLz",
        "outputId": "3cb7071e-1077-44b7-ecd7-73a7ea8fa873"
      },
      "execution_count": 21,
      "outputs": [
        {
          "output_type": "stream",
          "name": "stdout",
          "text": [
            "{'Weapon', 50, 20, 'Deadly', 10, 60}\n",
            "{'Weapon', 50, 20, 'Deadly', 10, 60}\n"
          ]
        }
      ]
    },
    {
      "cell_type": "markdown",
      "source": [
        "# Membership test"
      ],
      "metadata": {
        "id": "3D_OPvfqRwuF"
      }
    },
    {
      "cell_type": "code",
      "source": [
        "s=set(\"DS_MacCarthy_Squdron_Italian_Family_Clan\" )\n",
        "print(s)\n",
        "print('d'in s)\n",
        "print('p'in s)"
      ],
      "metadata": {
        "colab": {
          "base_uri": "https://localhost:8080/"
        },
        "id": "pNoNBk2kR0e9",
        "outputId": "3b95e3c6-9f25-4af6-a392-83dbabbbdaae"
      },
      "execution_count": 26,
      "outputs": [
        {
          "output_type": "stream",
          "name": "stdout",
          "text": [
            "{'I', 'l', 'c', 'u', 'n', 'd', 'i', 'M', 'o', 'q', 'F', 'h', 'a', 'C', '_', 't', 'y', 'm', 'S', 'D', 'r'}\n",
            "True\n",
            "False\n"
          ]
        }
      ]
    },
    {
      "cell_type": "markdown",
      "source": [
        "# Homework\n",
        "Q) Program to eliminate Duplicates Present in the List?\n",
        "\n",
        "Q) Write a Program to Print different Vowels Present in the given Word?(Using intersection method"
      ],
      "metadata": {
        "id": "LoyFg1VeSt1k"
      }
    },
    {
      "cell_type": "code",
      "source": [
        ""
      ],
      "metadata": {
        "id": "tvBhSdsKS24J"
      },
      "execution_count": null,
      "outputs": []
    }
  ]
}