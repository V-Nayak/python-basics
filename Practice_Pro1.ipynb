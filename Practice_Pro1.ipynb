{
  "nbformat": 4,
  "nbformat_minor": 0,
  "metadata": {
    "colab": {
      "name": "Practice Pro.ipynb",
      "provenance": [],
      "authorship_tag": "ABX9TyNoDX0C500aG8YWcySg/25G",
      "include_colab_link": true
    },
    "kernelspec": {
      "name": "python3",
      "display_name": "Python 3"
    },
    "language_info": {
      "name": "python"
    }
  },
  "cells": [
    {
      "cell_type": "markdown",
      "metadata": {
        "id": "view-in-github",
        "colab_type": "text"
      },
      "source": [
        "<a href=\"https://colab.research.google.com/github/V-Nayak/python-basics/blob/main/Practice_Pro1.ipynb\" target=\"_parent\"><img src=\"https://colab.research.google.com/assets/colab-badge.svg\" alt=\"Open In Colab\"/></a>"
      ]
    },
    {
      "cell_type": "code",
      "execution_count": 20,
      "metadata": {
        "colab": {
          "base_uri": "https://localhost:8080/"
        },
        "id": "HBFN4GPf1ojm",
        "outputId": "172e9dec-0bd7-4606-f1cd-a34ffda235ee"
      },
      "outputs": [
        {
          "output_type": "stream",
          "name": "stdout",
          "text": [
            "Enter the word to check:wada\n",
            "No\n"
          ]
        }
      ],
      "source": [
        "\n",
        "# function which return reverse of a string\n",
        " \n",
        "def isPalindrome(s):\n",
        "    return s == s[::-1]\n",
        " \n",
        " \n",
        "# Driver code\n",
        "#s = \"malayalam\"\n",
        "s=[]\n",
        "s=input(\"Enter the word to check:\")\n",
        "ans = isPalindrome(s)\n",
        " \n",
        "if ans:\n",
        "    print(\"Yes\")\n",
        "else:\n",
        "    print(\"No\")"
      ]
    },
    {
      "cell_type": "code",
      "source": [
        "  def isPalindrome(s):\n",
        "       return s == s[::-1]\n",
        "\n",
        "  s = []\n",
        "\n",
        "  s = input(\"Enter the word to check:\")\n",
        "\n",
        "  ans = isPalindrome(s)\n",
        "\n",
        "  if ans:\n",
        "      print(\"Yes\")\n",
        "  else:\n",
        "      print(\"No\")"
      ],
      "metadata": {
        "colab": {
          "base_uri": "https://localhost:8080/"
        },
        "id": "65VHhvPh4Ylf",
        "outputId": "4e08ccd0-24c0-4f7f-eace-b1af178a7722"
      },
      "execution_count": 24,
      "outputs": [
        {
          "output_type": "stream",
          "name": "stdout",
          "text": [
            "Enter the word to check:wadaw\n",
            "Yes\n"
          ]
        }
      ]
    },
    {
      "cell_type": "code",
      "source": [
        "  def isPalindrome(s):\n",
        "      return s == s[::-1]\n",
        "\n",
        "  s=[]\n",
        "  s=input(\"Enter the word you want to check:\")\n",
        "  \n",
        "  ans=isPalindrome(s)\n",
        "  if ans:\n",
        "    print(\"Yes\")\n",
        "  else:\n",
        "    print(\"No\")"
      ],
      "metadata": {
        "colab": {
          "base_uri": "https://localhost:8080/"
        },
        "id": "63RirfExASg4",
        "outputId": "ace92e5e-0faf-4ac8-d820-a89f97e72265"
      },
      "execution_count": 26,
      "outputs": [
        {
          "output_type": "stream",
          "name": "stdout",
          "text": [
            "Enter the word you want to check:Radar\n",
            "No\n"
          ]
        }
      ]
    },
    {
      "cell_type": "code",
      "source": [
        ""
      ],
      "metadata": {
        "id": "pBjxF7OyBTzr"
      },
      "execution_count": null,
      "outputs": []
    }
  ]
}