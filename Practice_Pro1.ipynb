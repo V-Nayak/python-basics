{
  "nbformat": 4,
  "nbformat_minor": 0,
  "metadata": {
    "colab": {
      "name": "Practice Pro.ipynb",
      "provenance": [],
      "collapsed_sections": [],
      "authorship_tag": "ABX9TyPKG80TgkQibp421KJNK4vl",
      "include_colab_link": true
    },
    "kernelspec": {
      "name": "python3",
      "display_name": "Python 3"
    },
    "language_info": {
      "name": "python"
    }
  },
  "cells": [
    {
      "cell_type": "markdown",
      "metadata": {
        "id": "view-in-github",
        "colab_type": "text"
      },
      "source": [
        "<a href=\"https://colab.research.google.com/github/V-Nayak/python-basics/blob/main/Practice_Pro1.ipynb\" target=\"_parent\"><img src=\"https://colab.research.google.com/assets/colab-badge.svg\" alt=\"Open In Colab\"/></a>"
      ]
    },
    {
      "cell_type": "code",
      "source": [
        "  def isPalindrome(s):\n",
        "      return s==s[::-1]\n",
        "\n",
        "  s=input(\"Enter the input:\")\n",
        "\n",
        "  ans=isPalindrome(s)\n",
        "  if ans:\n",
        "    print(\"Yes\")\n",
        "  else:\n",
        "    print(\"No\")"
      ],
      "metadata": {
        "colab": {
          "base_uri": "https://localhost:8080/"
        },
        "id": "pBjxF7OyBTzr",
        "outputId": "38d3548c-9fff-4b6a-fa7f-6ecaa0503b1c"
      },
      "execution_count": null,
      "outputs": [
        {
          "output_type": "stream",
          "name": "stdout",
          "text": [
            "Enter the input:12@21\n",
            "Yes\n"
          ]
        }
      ]
    },
    {
      "cell_type": "code",
      "source": [
        "  def isPalindrome(s):\n",
        "\n",
        "    for i in range(0,int(len(s)/2)):\n",
        "        if s[i] != s[len(s)-i-1]:\n",
        "          return False\n",
        "        return True\n",
        "\n",
        "  s= []\n",
        "  s=input(\"Enter the input:\")\n",
        "  ans= isPalindrome(s)\n",
        "\n",
        "  if ans:\n",
        "       print(\"Yess\")\n",
        "  else:\n",
        "        print(\"No\")"
      ],
      "metadata": {
        "colab": {
          "base_uri": "https://localhost:8080/"
        },
        "id": "tNC4_tJzG7AS",
        "outputId": "4aadc4fb-201f-4fb3-da69-fbafe377b2b1"
      },
      "execution_count": null,
      "outputs": [
        {
          "output_type": "stream",
          "name": "stdout",
          "text": [
            "Enter the input:RadaR\n",
            "Yess\n"
          ]
        }
      ]
    },
    {
      "cell_type": "code",
      "source": [
        "#from collections import OrderedDict\n",
        "\n",
        "def rmdwotord(s):\n",
        "  return \"\".join(set(s))\n",
        "#def rmdwtord(s):\n",
        "  #return \"\".join(OrderedDict.fromkeys(s))\n",
        "\n",
        " if __name__==\"__main__\":\n",
        "  s=[]\n",
        "  s=input(\"Enter the input:\")\n",
        "  print(\"Without Order=\",rmdwotord(s))\n",
        "  #print(\"With Order=\",rmdwtord(s))"
      ],
      "metadata": {
        "id": "drtWK6jsrLZ5"
      },
      "execution_count": 13,
      "outputs": []
    }
  ]
}