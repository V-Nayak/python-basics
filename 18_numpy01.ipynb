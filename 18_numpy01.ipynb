{
  "nbformat": 4,
  "nbformat_minor": 0,
  "metadata": {
    "colab": {
      "name": "18_numpy01.ipynb",
      "provenance": [],
      "authorship_tag": "ABX9TyMF7wMUe2g6EhvofugyIsDP",
      "include_colab_link": true
    },
    "kernelspec": {
      "name": "python3",
      "display_name": "Python 3"
    },
    "language_info": {
      "name": "python"
    }
  },
  "cells": [
    {
      "cell_type": "markdown",
      "metadata": {
        "id": "view-in-github",
        "colab_type": "text"
      },
      "source": [
        "<a href=\"https://colab.research.google.com/github/V-Nayak/python-basics/blob/main/18_numpy01.ipynb\" target=\"_parent\"><img src=\"https://colab.research.google.com/assets/colab-badge.svg\" alt=\"Open In Colab\"/></a>"
      ]
    },
    {
      "cell_type": "markdown",
      "source": [
        "# What is **NumPy**\n",
        "\n",
        "NumPy stands for numeric python which is a python package for the computation and processing of the multidimensional and single dimensional array elements.\n",
        "\n",
        "NumPy provides a convenient and efficient way to handle the vast amount of data. NumPy is also very convenient with Matrix multiplication and data reshaping. NumPy is fast which makes it reasonable to work with a large set of data.\n",
        "\n",
        "There are the following advantages of using NumPy for data analysis.\n",
        "\n",
        "NumPy performs array-oriented computing.\n",
        "It efficiently implements the multidimensional arrays.\n",
        "It performs scientific computations.\n",
        "It is capable of performing Fourier Transform and reshaping the data stored in multidimensional arrays.\n",
        "NumPy provides the in-built functions for linear algebra and random number generation"
      ],
      "metadata": {
        "id": "wDPeBTP8oNhd"
      }
    },
    {
      "cell_type": "markdown",
      "source": [
        "# NumPy Ndarray\n",
        "Ndarray is the n-dimensional array object defined in the numpy which stores the collection of the similar type of elements. In other words, we can define a ndarray as the collection of the data type (dtype) objects.\n",
        "\n",
        "The ndarray object can be accessed by using the 0 based indexing. Each element of the Array object contains the same size in the memory.\n",
        "\n",
        "## Creating a ndarray object\n",
        "The ndarray object can be created by using the array routine of the numpy module. For this purpose, we need to import the numpy."
      ],
      "metadata": {
        "id": "4QbOvqHgoXUL"
      }
    },
    {
      "cell_type": "code",
      "source": [
        "import numpy as np\n",
        "a = np.array\n",
        "print(a)"
      ],
      "metadata": {
        "colab": {
          "base_uri": "https://localhost:8080/"
        },
        "id": "sARxaTflqXPJ",
        "outputId": "d6a7c88d-7720-473b-a771-60a04dd0a895"
      },
      "execution_count": 11,
      "outputs": [
        {
          "output_type": "stream",
          "name": "stdout",
          "text": [
            "<built-in function array>\n"
          ]
        }
      ]
    },
    {
      "cell_type": "code",
      "source": [
        "a = np.array([1,2,4])      ## an array\n",
        "print(a)"
      ],
      "metadata": {
        "colab": {
          "base_uri": "https://localhost:8080/"
        },
        "id": "dhEukKt9qkaK",
        "outputId": "bfc858d1-549e-4937-9d13-bac9fe45f4d7"
      },
      "execution_count": 12,
      "outputs": [
        {
          "output_type": "stream",
          "name": "stdout",
          "text": [
            "[1 2 4]\n"
          ]
        }
      ]
    },
    {
      "cell_type": "code",
      "source": [
        "a = np.array([1,2,3])\n",
        "a"
      ],
      "metadata": {
        "colab": {
          "base_uri": "https://localhost:8080/"
        },
        "id": "4LH76-y4rBUu",
        "outputId": "5221f5e2-e3f0-4737-890a-a2c17b1b098e"
      },
      "execution_count": 13,
      "outputs": [
        {
          "output_type": "execute_result",
          "data": {
            "text/plain": [
              "array([1, 2, 3])"
            ]
          },
          "metadata": {},
          "execution_count": 13
        }
      ]
    },
    {
      "cell_type": "code",
      "source": [
        "a = np.array([[1,2,3],[10,20,30]])   ### creating multi dimensional array\n",
        "a"
      ],
      "metadata": {
        "colab": {
          "base_uri": "https://localhost:8080/"
        },
        "id": "ppGzWNjmrTHH",
        "outputId": "7b56fc52-052f-4c31-c9e6-e24e1e05b6bf"
      },
      "execution_count": 14,
      "outputs": [
        {
          "output_type": "execute_result",
          "data": {
            "text/plain": [
              "array([[ 1,  2,  3],\n",
              "       [10, 20, 30]])"
            ]
          },
          "metadata": {},
          "execution_count": 14
        }
      ]
    },
    {
      "cell_type": "code",
      "source": [
        "a = np.array([[1,2,3],[\"a\",\"b\",\"c\"],[10,20,30]])   ### creating multi dimensional array\n",
        "a"
      ],
      "metadata": {
        "colab": {
          "base_uri": "https://localhost:8080/"
        },
        "id": "6uu_K800rv7B",
        "outputId": "d0f69351-be05-4f05-9202-07710fffc4e6"
      },
      "execution_count": 17,
      "outputs": [
        {
          "output_type": "execute_result",
          "data": {
            "text/plain": [
              "array([['1', '2', '3'],\n",
              "       ['a', 'b', 'c'],\n",
              "       ['10', '20', '30']], dtype='<U21')"
            ]
          },
          "metadata": {},
          "execution_count": 17
        }
      ]
    },
    {
      "cell_type": "code",
      "source": [
        "# To change the data type of the array elements, mention the name of the data type along with the collection.\n",
        "a = np.array([1, 3, 5, 7], complex)  \n",
        "a"
      ],
      "metadata": {
        "colab": {
          "base_uri": "https://localhost:8080/"
        },
        "id": "aD555FsLs_9O",
        "outputId": "f5fea60a-c410-47ba-fdc6-d90b0ac75358"
      },
      "execution_count": 18,
      "outputs": [
        {
          "output_type": "execute_result",
          "data": {
            "text/plain": [
              "array([1.+0.j, 3.+0.j, 5.+0.j, 7.+0.j])"
            ]
          },
          "metadata": {},
          "execution_count": 18
        }
      ]
    },
    {
      "cell_type": "code",
      "source": [
        "# To change the data type of the array elements, mention the name of the data type along with the collection.\n",
        "a = np.array([1, 3, 5, 7], float)  \n",
        "a\n"
      ],
      "metadata": {
        "colab": {
          "base_uri": "https://localhost:8080/"
        },
        "id": "tOP2x9ietJKa",
        "outputId": "9b627425-9ed2-4862-c57d-0e1b3c9d0a9b"
      },
      "execution_count": 19,
      "outputs": [
        {
          "output_type": "execute_result",
          "data": {
            "text/plain": [
              "array([1., 3., 5., 7.])"
            ]
          },
          "metadata": {},
          "execution_count": 19
        }
      ]
    }
  ]
}