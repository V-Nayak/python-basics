{
  "nbformat": 4,
  "nbformat_minor": 0,
  "metadata": {
    "colab": {
      "name": "18_numpy01.ipynb",
      "provenance": [],
      "authorship_tag": "ABX9TyONkjtn92AfbQjhlf/1ZIBV",
      "include_colab_link": true
    },
    "kernelspec": {
      "name": "python3",
      "display_name": "Python 3"
    },
    "language_info": {
      "name": "python"
    }
  },
  "cells": [
    {
      "cell_type": "markdown",
      "metadata": {
        "id": "view-in-github",
        "colab_type": "text"
      },
      "source": [
        "<a href=\"https://colab.research.google.com/github/V-Nayak/python-basics/blob/main/18_numpy01.ipynb\" target=\"_parent\"><img src=\"https://colab.research.google.com/assets/colab-badge.svg\" alt=\"Open In Colab\"/></a>"
      ]
    },
    {
      "cell_type": "markdown",
      "source": [
        "# What is **NumPy**\n",
        "\n",
        "NumPy stands for numeric python which is a python package for the computation and processing of the multidimensional and single dimensional array elements.\n",
        "\n",
        "NumPy provides a convenient and efficient way to handle the vast amount of data. NumPy is also very convenient with Matrix multiplication and data reshaping. NumPy is fast which makes it reasonable to work with a large set of data.\n",
        "\n",
        "There are the following advantages of using NumPy for data analysis.\n",
        "\n",
        "NumPy performs array-oriented computing.\n",
        "It efficiently implements the multidimensional arrays.\n",
        "It performs scientific computations.\n",
        "It is capable of performing Fourier Transform and reshaping the data stored in multidimensional arrays.\n",
        "NumPy provides the in-built functions for linear algebra and random number generation"
      ],
      "metadata": {
        "id": "wDPeBTP8oNhd"
      }
    },
    {
      "cell_type": "markdown",
      "source": [
        "# NumPy Ndarray\n",
        "Ndarray is the n-dimensional array object defined in the numpy which stores the collection of the similar type of elements. In other words, we can define a ndarray as the collection of the data type (dtype) objects.\n",
        "\n",
        "The ndarray object can be accessed by using the 0 based indexing. Each element of the Array object contains the same size in the memory.\n",
        "\n",
        "## Creating a ndarray object\n",
        "The ndarray object can be created by using the array routine of the numpy module. For this purpose, we need to import the numpy."
      ],
      "metadata": {
        "id": "4QbOvqHgoXUL"
      }
    },
    {
      "cell_type": "code",
      "source": [
        "import numpy as np\n",
        "a = np.array\n",
        "print(a)"
      ],
      "metadata": {
        "colab": {
          "base_uri": "https://localhost:8080/"
        },
        "id": "sARxaTflqXPJ",
        "outputId": "d6a7c88d-7720-473b-a771-60a04dd0a895"
      },
      "execution_count": 11,
      "outputs": [
        {
          "output_type": "stream",
          "name": "stdout",
          "text": [
            "<built-in function array>\n"
          ]
        }
      ]
    },
    {
      "cell_type": "code",
      "source": [
        "a = np.array([1,2,4])      ## an array\n",
        "print(a)"
      ],
      "metadata": {
        "colab": {
          "base_uri": "https://localhost:8080/"
        },
        "id": "dhEukKt9qkaK",
        "outputId": "bfc858d1-549e-4937-9d13-bac9fe45f4d7"
      },
      "execution_count": 12,
      "outputs": [
        {
          "output_type": "stream",
          "name": "stdout",
          "text": [
            "[1 2 4]\n"
          ]
        }
      ]
    },
    {
      "cell_type": "code",
      "source": [
        "a = np.array([1,2,3])\n",
        "a"
      ],
      "metadata": {
        "colab": {
          "base_uri": "https://localhost:8080/"
        },
        "id": "4LH76-y4rBUu",
        "outputId": "5221f5e2-e3f0-4737-890a-a2c17b1b098e"
      },
      "execution_count": 13,
      "outputs": [
        {
          "output_type": "execute_result",
          "data": {
            "text/plain": [
              "array([1, 2, 3])"
            ]
          },
          "metadata": {},
          "execution_count": 13
        }
      ]
    },
    {
      "cell_type": "code",
      "source": [
        "a = np.array([[1,2,3],[10,20,30]])   ### creating multi dimensional array\n",
        "a"
      ],
      "metadata": {
        "colab": {
          "base_uri": "https://localhost:8080/"
        },
        "id": "ppGzWNjmrTHH",
        "outputId": "7b56fc52-052f-4c31-c9e6-e24e1e05b6bf"
      },
      "execution_count": 14,
      "outputs": [
        {
          "output_type": "execute_result",
          "data": {
            "text/plain": [
              "array([[ 1,  2,  3],\n",
              "       [10, 20, 30]])"
            ]
          },
          "metadata": {},
          "execution_count": 14
        }
      ]
    },
    {
      "cell_type": "code",
      "source": [
        "a = np.array([[1,2,3],[\"a\",\"b\",\"c\"],[10,20,30]])   ### creating multi dimensional array\n",
        "a"
      ],
      "metadata": {
        "colab": {
          "base_uri": "https://localhost:8080/"
        },
        "id": "6uu_K800rv7B",
        "outputId": "cda3dd16-e967-4000-ae9e-095bb5305313"
      },
      "execution_count": 25,
      "outputs": [
        {
          "output_type": "execute_result",
          "data": {
            "text/plain": [
              "array([['1', '2', '3'],\n",
              "       ['a', 'b', 'c'],\n",
              "       ['10', '20', '30']], dtype='<U21')"
            ]
          },
          "metadata": {},
          "execution_count": 25
        }
      ]
    },
    {
      "cell_type": "code",
      "source": [
        "# To change the data type of the array elements, mention the name of the data type along with the collection.\n",
        "b = np.array([1, 3, 5, 7], complex)  \n",
        "b"
      ],
      "metadata": {
        "colab": {
          "base_uri": "https://localhost:8080/"
        },
        "id": "aD555FsLs_9O",
        "outputId": "8c35a90e-614f-4210-ad2f-c87bf5b10563"
      },
      "execution_count": 21,
      "outputs": [
        {
          "output_type": "execute_result",
          "data": {
            "text/plain": [
              "array([1.+0.j, 3.+0.j, 5.+0.j, 7.+0.j])"
            ]
          },
          "metadata": {},
          "execution_count": 21
        }
      ]
    },
    {
      "cell_type": "code",
      "source": [
        "# To change the data type of the array elements, mention the name of the data type along with the collection.\n",
        "b = np.array([1, 3, 5, 7], float)  \n",
        "b\n"
      ],
      "metadata": {
        "colab": {
          "base_uri": "https://localhost:8080/"
        },
        "id": "tOP2x9ietJKa",
        "outputId": "efd32956-8cec-4cc2-cf12-10c3d2374341"
      },
      "execution_count": 22,
      "outputs": [
        {
          "output_type": "execute_result",
          "data": {
            "text/plain": [
              "array([1., 3., 5., 7.])"
            ]
          },
          "metadata": {},
          "execution_count": 22
        }
      ]
    },
    {
      "cell_type": "markdown",
      "source": [
        "# Finding the dimensions of the Array\n",
        "The ndim function can be used to find the dimensions of the array."
      ],
      "metadata": {
        "id": "fRe8Gi9Lwmae"
      }
    },
    {
      "cell_type": "code",
      "source": [
        "print(a.ndim)\n",
        "print(b.ndim)"
      ],
      "metadata": {
        "colab": {
          "base_uri": "https://localhost:8080/"
        },
        "id": "vgJb9GzkxARx",
        "outputId": "77ac85e9-4677-45f8-e9d6-f6f74b35a420"
      },
      "execution_count": 26,
      "outputs": [
        {
          "output_type": "stream",
          "name": "stdout",
          "text": [
            "2\n",
            "1\n"
          ]
        }
      ]
    },
    {
      "cell_type": "markdown",
      "source": [
        "# Finding the size of each array element\n",
        "The itemsize function is used to get the size of each array item. It returns the number of bytes taken by each array element.\n",
        "\n",
        "Consider the following example."
      ],
      "metadata": {
        "id": "pYEsSQeFx-4b"
      }
    },
    {
      "cell_type": "code",
      "source": [
        "#finding the size of each item in the array  \n",
        "import numpy as np  \n",
        "a = np.array([[1,2,3]])  \n",
        "print(\"Each item contains\",a.itemsize,\"bytes\") "
      ],
      "metadata": {
        "colab": {
          "base_uri": "https://localhost:8080/"
        },
        "id": "82teUtLZyASC",
        "outputId": "c84421a4-2080-4a31-e45e-247d500b8b34"
      },
      "execution_count": 27,
      "outputs": [
        {
          "output_type": "stream",
          "name": "stdout",
          "text": [
            "Each item contains 8 bytes\n"
          ]
        }
      ]
    },
    {
      "cell_type": "markdown",
      "source": [
        "# Finding the shape and size of the array\n",
        "To get the shape and size of the array, the size and shape function associated with the numpy array is used.\n",
        "\n",
        "Consider the following example."
      ],
      "metadata": {
        "id": "MOCAG_UlzZEN"
      }
    },
    {
      "cell_type": "code",
      "source": [
        "import numpy as np  \n",
        "a = np.array([[1,2,3,4,5,6,7],[\"a\",\"b\",\"c\",\"d\",\"e\",\"f\",\"g\"]])  \n",
        "print(\"Array Size:\",a.size)  \n",
        "print(\"Shape:\",a.shape)  "
      ],
      "metadata": {
        "colab": {
          "base_uri": "https://localhost:8080/"
        },
        "id": "yRptU7SDzhGs",
        "outputId": "61c8754a-31ea-4079-a519-38f864bf70a0"
      },
      "execution_count": 29,
      "outputs": [
        {
          "output_type": "stream",
          "name": "stdout",
          "text": [
            "Array Size: 14\n",
            "Shape: (2, 7)\n"
          ]
        }
      ]
    },
    {
      "cell_type": "markdown",
      "source": [
        "# Reshaping the array objects\n",
        "By the shape of the array, we mean the number of rows and columns of a multi-dimensional array. However, the numpy module provides us the way to reshape the array by changing the number of rows and columns of the multi-dimensional array.\n",
        "\n",
        "The reshape() function associated with the ndarray object is used to reshape the array. It accepts the two parameters indicating the row and columns of the new shape of the array."
      ],
      "metadata": {
        "id": "mMeayTlN0Pup"
      }
    },
    {
      "cell_type": "markdown",
      "source": [
        "![download (1).png](data:image/png;base64,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)"
      ],
      "metadata": {
        "id": "0ES_DDyU0XLK"
      }
    },
    {
      "cell_type": "code",
      "source": [
        "import numpy as np  \n",
        "a = np.array([[1,2],[3,4],[5,6]])  \n",
        "print(\"printing the original array..\")  \n",
        "print(a)  \n",
        "a=a.reshape(2,3)  \n",
        "print(\"printing the reshaped array..\")  \n",
        "print(a) "
      ],
      "metadata": {
        "colab": {
          "base_uri": "https://localhost:8080/"
        },
        "id": "YRaeplWN0Tjq",
        "outputId": "8ca00c43-24fb-4438-8274-bda4fb497168"
      },
      "execution_count": 30,
      "outputs": [
        {
          "output_type": "stream",
          "name": "stdout",
          "text": [
            "printing the original array..\n",
            "[[1 2]\n",
            " [3 4]\n",
            " [5 6]]\n",
            "printing the reshaped array..\n",
            "[[1 2 3]\n",
            " [4 5 6]]\n"
          ]
        }
      ]
    },
    {
      "cell_type": "markdown",
      "source": [
        "# Slicing in the Array\n",
        "Slicing in the NumPy array is the way to extract a range of elements from an array. Slicing in the array is performed in the same way as it is performed in the python list.\n",
        "\n",
        "Consider the following example to print a particular element of the array."
      ],
      "metadata": {
        "id": "tF4zyWxs1HCF"
      }
    },
    {
      "cell_type": "code",
      "source": [
        "import numpy as np  \n",
        "a = np.array([[1,2],[3,4],[5,6]])  \n",
        "print(a[0,1])  \n",
        "print(a[2,0]) "
      ],
      "metadata": {
        "colab": {
          "base_uri": "https://localhost:8080/"
        },
        "id": "5BSEkXM_1PPw",
        "outputId": "b2dd881d-0df6-4a08-8c0f-ae0a9e9b3a70"
      },
      "execution_count": 31,
      "outputs": [
        {
          "output_type": "stream",
          "name": "stdout",
          "text": [
            "2\n",
            "5\n"
          ]
        }
      ]
    },
    {
      "cell_type": "markdown",
      "source": [
        "### Linspace\n",
        "The linspace() function returns the evenly spaced values over the given interval. The following example returns the 10 evenly separated values over the given interval 5-15"
      ],
      "metadata": {
        "id": "dZH-bZgKFKwN"
      }
    },
    {
      "cell_type": "code",
      "source": [
        "import numpy as np  \n",
        "a=np.linspace(5,15,10)  #prints 10 values which are evenly spaced over the given interval 5-15  \n",
        "print(a)"
      ],
      "metadata": {
        "colab": {
          "base_uri": "https://localhost:8080/"
        },
        "id": "IV3kbGQ-1BZB",
        "outputId": "b0b253db-3c77-402b-9d24-35402b8b7cf5"
      },
      "execution_count": 1,
      "outputs": [
        {
          "output_type": "stream",
          "name": "stdout",
          "text": [
            "[ 5.          6.11111111  7.22222222  8.33333333  9.44444444 10.55555556\n",
            " 11.66666667 12.77777778 13.88888889 15.        ]\n"
          ]
        }
      ]
    },
    {
      "cell_type": "markdown",
      "source": [
        "## Finding the maximum, minimum, and sum of the array elements\n",
        "The NumPy provides the max(), min(), and sum() functions which are used to find the maximum, minimum, and sum of the array elements respectively."
      ],
      "metadata": {
        "id": "i6FnUDHRFbMj"
      }
    },
    {
      "cell_type": "code",
      "source": [
        "import numpy as np  \n",
        "a = np.array([1,2,3,10,15,4])  \n",
        "print(\"The array:\",a)  \n",
        "print(\"The maximum element:\",a.max())  \n",
        "print(\"The minimum element:\",a.min())  \n",
        "print(\"The sum of the elements:\",a.sum()) "
      ],
      "metadata": {
        "colab": {
          "base_uri": "https://localhost:8080/"
        },
        "id": "mAA_6sHWFfLO",
        "outputId": "a456136a-b8c5-4dd2-b8e0-49d18a795e95"
      },
      "execution_count": 2,
      "outputs": [
        {
          "output_type": "stream",
          "name": "stdout",
          "text": [
            "The array: [ 1  2  3 10 15  4]\n",
            "The maximum element: 15\n",
            "The minimum element: 1\n",
            "The sum of the elements: 35\n"
          ]
        }
      ]
    },
    {
      "cell_type": "markdown",
      "source": [
        "# NumPy Array Axis\n",
        "A NumPy multi-dimensional array is represented by the axis where axis-0 represents the columns and axis-1 represents the rows. We can mention the axis to perform row-level or column-level calculations like the addition of row or column elements.\n",
        "\n",
        "To calculate the maximum element among each column, the minimum element among each row, and the addition of all the row elements, consider the following example."
      ],
      "metadata": {
        "id": "rKhfCwjTFmZW"
      }
    },
    {
      "cell_type": "code",
      "source": [
        "import numpy as np  \n",
        "a = np.array([[1,2,30],[10,15,4]])  \n",
        "print(\"The array:\",a)  \n",
        "print(\"The maximum elements of columns:\",a.max(axis = 0))   \n",
        "print(\"The minimum element of rows\",a.min(axis = 1))  \n",
        "print(\"The sum of all rows\",a.sum(axis = 1))"
      ],
      "metadata": {
        "colab": {
          "base_uri": "https://localhost:8080/"
        },
        "id": "rDINqoXrFoCO",
        "outputId": "424c2303-2647-4cff-92a7-c71e0e7a096b"
      },
      "execution_count": 3,
      "outputs": [
        {
          "output_type": "stream",
          "name": "stdout",
          "text": [
            "The array: [[ 1  2 30]\n",
            " [10 15  4]]\n",
            "The maximum elements of columns: [10 15 30]\n",
            "The minimum element of rows [1 4]\n",
            "The sum of all rows [33 29]\n"
          ]
        }
      ]
    },
    {
      "cell_type": "markdown",
      "source": [
        "# Finding square root and standard deviation\n",
        "The sqrt() and std() functions associated with the numpy array are used to find the square root and standard deviation of the array elements respectively.\n",
        "\n",
        "Standard deviation means how much each element of the array varies from the mean value of the numpy array.\n",
        "\n",
        "Consider the following example."
      ],
      "metadata": {
        "id": "9uLLOQGDFxnP"
      }
    },
    {
      "cell_type": "code",
      "source": [
        "import numpy as np  \n",
        "a = np.array([[1,2,30],[10,15,4]])  \n",
        "print(np.sqrt(a))  \n",
        "print(np.std(a))  "
      ],
      "metadata": {
        "colab": {
          "base_uri": "https://localhost:8080/"
        },
        "id": "CWRHWr-cF3Fp",
        "outputId": "e958ec97-4d58-4706-9b54-da258da95e8e"
      },
      "execution_count": 4,
      "outputs": [
        {
          "output_type": "stream",
          "name": "stdout",
          "text": [
            "[[1.         1.41421356 5.47722558]\n",
            " [3.16227766 3.87298335 2.        ]]\n",
            "10.044346115546242\n"
          ]
        }
      ]
    },
    {
      "cell_type": "markdown",
      "source": [
        "# Arithmetic operations on the array\n",
        "The numpy module allows us to perform the arithmetic operations on multi-dimensional arrays directly.\n",
        "\n",
        "In the following example, the arithmetic operations are performed on the two multi-dimensional arrays a and b."
      ],
      "metadata": {
        "id": "X8Dt1GM-GTyy"
      }
    },
    {
      "cell_type": "code",
      "source": [
        "import numpy as np  \n",
        "a = np.array([[1,2,30],[10,15,4]])  \n",
        "b = np.array([[1,2,3],[12, 19, 29]])  \n",
        "print(\"Sum of array a and b\\n\",a+b)  \n",
        "print(\"Product of array a and b\\n\",a*b)  \n",
        "print(\"Division of array a and b\\n\",a/b)  "
      ],
      "metadata": {
        "colab": {
          "base_uri": "https://localhost:8080/"
        },
        "id": "X8Z6YQEqGXkS",
        "outputId": "cb202baf-7db2-494a-c849-3fd3b9400385"
      },
      "execution_count": 5,
      "outputs": [
        {
          "output_type": "stream",
          "name": "stdout",
          "text": [
            "Sum of array a and b\n",
            " [[ 2  4 33]\n",
            " [22 34 33]]\n",
            "Product of array a and b\n",
            " [[  1   4  90]\n",
            " [120 285 116]]\n",
            "Division of array a and b\n",
            " [[ 1.          1.         10.        ]\n",
            " [ 0.83333333  0.78947368  0.13793103]]\n"
          ]
        }
      ]
    },
    {
      "cell_type": "markdown",
      "source": [
        "# Array Concatenation\n",
        "The numpy provides us with the vertical stacking and horizontal stacking which allows us to concatenate two multi-dimensional arrays vertically or horizontally.\n",
        "\n",
        "Consider the following example."
      ],
      "metadata": {
        "id": "27jh7MPRGgH9"
      }
    },
    {
      "cell_type": "code",
      "source": [
        "import numpy as np  \n",
        "a = np.array([[1,2,30],[10,15,4]])  \n",
        "b = np.array([[1,2,3],[12, 19, 29]])  \n",
        "print(\"Arrays vertically concatenated\\n\",np.vstack((a,b)));  \n",
        "print(\"Arrays horizontally concatenated\\n\",np.hstack((a,b)))"
      ],
      "metadata": {
        "colab": {
          "base_uri": "https://localhost:8080/"
        },
        "id": "nQOMMCi-GhgO",
        "outputId": "d8d2f41f-5dd3-4c0e-9522-d2b9cc6e296f"
      },
      "execution_count": 6,
      "outputs": [
        {
          "output_type": "stream",
          "name": "stdout",
          "text": [
            "Arrays vertically concatenated\n",
            " [[ 1  2 30]\n",
            " [10 15  4]\n",
            " [ 1  2  3]\n",
            " [12 19 29]]\n",
            "Arrays horizontally concatenated\n",
            " [[ 1  2 30  1  2  3]\n",
            " [10 15  4 12 19 29]]\n"
          ]
        }
      ]
    },
    {
      "cell_type": "markdown",
      "source": [
        "## creating numpy array using the list"
      ],
      "metadata": {
        "id": "tBsAYJfBGojn"
      }
    },
    {
      "cell_type": "code",
      "source": [
        "import numpy as np  \n",
        "l=[1,2,3,4,5,6,7]  \n",
        "a = np.asarray(l);  \n",
        "print(type(a))  \n",
        "print(a) "
      ],
      "metadata": {
        "colab": {
          "base_uri": "https://localhost:8080/"
        },
        "id": "fk1GsxviGp-l",
        "outputId": "5398a652-e684-427d-ce84-ecaf405618d2"
      },
      "execution_count": 7,
      "outputs": [
        {
          "output_type": "stream",
          "name": "stdout",
          "text": [
            "<class 'numpy.ndarray'>\n",
            "[1 2 3 4 5 6 7]\n"
          ]
        }
      ]
    },
    {
      "cell_type": "markdown",
      "source": [
        "# **Numpy.arrange**\n",
        "It creates an array by using the evenly spaced values over the given interval. The syntax to use the function is given below.\n",
        "\n",
        "numpy.arrange(start, stop, step, dtype)\n",
        "\n",
        "It accepts the following parameters.\n",
        "\n",
        "start: The starting of an interval. The default is 0.\n",
        "\n",
        "stop: represents the value at which the interval ends excluding this value.\n",
        "\n",
        "step: The number by which the interval values change.\n",
        "\n",
        "dtype: the data type of the numpy array items"
      ],
      "metadata": {
        "id": "jywItdE3Gu-D"
      }
    },
    {
      "cell_type": "code",
      "source": [
        "import numpy as np  \n",
        "arr = np.arange(0,10,2,float)  \n",
        "print(arr) "
      ],
      "metadata": {
        "colab": {
          "base_uri": "https://localhost:8080/"
        },
        "id": "P8FNCKvLliT5",
        "outputId": "07737327-c253-4bff-87d5-062400070c3a"
      },
      "execution_count": 8,
      "outputs": [
        {
          "output_type": "stream",
          "name": "stdout",
          "text": [
            "[0. 2. 4. 6. 8.]\n"
          ]
        }
      ]
    },
    {
      "cell_type": "code",
      "source": [
        "import numpy as np  \n",
        "arr = np.arange(10,100,5,int)  \n",
        "print(\"The array over the given range is \",arr)  "
      ],
      "metadata": {
        "colab": {
          "base_uri": "https://localhost:8080/"
        },
        "id": "udVyK0rTG6eo",
        "outputId": "17af61c2-602e-4e36-f4b7-5895d9765b30"
      },
      "execution_count": 9,
      "outputs": [
        {
          "output_type": "stream",
          "name": "stdout",
          "text": [
            "The array over the given range is  [10 15 20 25 30 35 40 45 50 55 60 65 70 75 80 85 90 95]\n"
          ]
        }
      ]
    },
    {
      "cell_type": "markdown",
      "source": [
        "# The numpy.linspace() \n",
        "this function returns number spaces evenly w.r.t interval. Similar to numpy.arange() function but instead of step it uses sample number.\n",
        "\n",
        "Syntax :"
      ],
      "metadata": {
        "id": "yU-4qHrmHKnS"
      }
    }
  ]
}