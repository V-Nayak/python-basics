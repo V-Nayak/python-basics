{
  "nbformat": 4,
  "nbformat_minor": 0,
  "metadata": {
    "colab": {
      "provenance": [],
      "authorship_tag": "ABX9TyPbT1OYhQ3uuaVsJ0XHnbdG",
      "include_colab_link": true
    },
    "kernelspec": {
      "name": "python3",
      "display_name": "Python 3"
    },
    "language_info": {
      "name": "python"
    }
  },
  "cells": [
    {
      "cell_type": "markdown",
      "metadata": {
        "id": "view-in-github",
        "colab_type": "text"
      },
      "source": [
        "<a href=\"https://colab.research.google.com/github/V-Nayak/python-basics/blob/main/Hashing.ipynb\" target=\"_parent\"><img src=\"https://colab.research.google.com/assets/colab-badge.svg\" alt=\"Open In Colab\"/></a>"
      ]
    },
    {
      "cell_type": "markdown",
      "source": [
        "## **What Is Hashing in Python?**\n",
        "\n",
        "Hashing converts input data, such as a string, file, or object, into a fixed-size string of bytes. The hash or digest represents the input in a unique and reproducible way.\n",
        "\n",
        "Hashing plays a significant role in detecting data manipulation and enhancing security. It can compute a hash value for a file, message, or other piece of data. An application stores the hash securely to verify later that the data has not been tampered with."
      ],
      "metadata": {
        "id": "ErE1XnaAFEn_"
      }
    },
    {
      "cell_type": "markdown",
      "source": [
        "## **Python’s Built-In Hashing Function**\n",
        "\n",
        "Python’s built-in hashing function, hash(), returns an integer value representing the input object. The code then uses the resulting hash value to determine the object’s location in the hash table. This hash table is a data structure that implements dictionaries and set"
      ],
      "metadata": {
        "id": "Csk0XsGUFakF"
      }
    },
    {
      "cell_type": "code",
      "execution_count": 5,
      "metadata": {
        "colab": {
          "base_uri": "https://localhost:8080/"
        },
        "id": "wp8O6XHqExY_",
        "outputId": "0a630d5b-888f-4235-ace3-59f19fa1f07c"
      },
      "outputs": [
        {
          "output_type": "stream",
          "name": "stdout",
          "text": [
            "String:  hello world\n",
            "Hash value:  4727557598447582474\n"
          ]
        }
      ],
      "source": [
        "my_string = \"hello world\"\n",
        "\n",
        "# Calculate the hash value of the string\n",
        "hash_value = hash(my_string)\n",
        "\n",
        "# Print the string and its hash value\n",
        "print(\"String: \", my_string)\n",
        "print(\"Hash value: \", hash_value)"
      ]
    },
    {
      "cell_type": "markdown",
      "source": [
        "# The hash value is same within single instance and different when invoked in second instance"
      ],
      "metadata": {
        "id": "9CuyDdWcF3wS"
      }
    },
    {
      "cell_type": "code",
      "source": [
        "my_string = \"hello world\"\n",
        "\n",
        "# Calculate the hash value of the string\n",
        "hash_value1 = hash(my_string)\n",
        "hash_value2 = hash(my_string)\n",
        "\n",
        "# Print the string and its hash value\n",
        "print(\"String: \", my_string)\n",
        "print(\"Hash value: \", hash_value1)\n",
        "print(\"Hash value: \", hash_value2)"
      ],
      "metadata": {
        "colab": {
          "base_uri": "https://localhost:8080/"
        },
        "id": "FmXyMBCGF6UK",
        "outputId": "03ce9944-99e0-44ce-c34e-e7d2ad5a795c"
      },
      "execution_count": 6,
      "outputs": [
        {
          "output_type": "stream",
          "name": "stdout",
          "text": [
            "String:  hello world\n",
            "Hash value:  4727557598447582474\n",
            "Hash value:  4727557598447582474\n"
          ]
        }
      ]
    },
    {
      "cell_type": "markdown",
      "source": [
        "## **Hashing Use Cases**\n",
        "Once you have an adequate hashing function with all these characteristics, you can apply it to various use cases. Hashing functions work well for:\n",
        "\n",
        "Password storage —\n",
        "Hashing is one of the best ways to store user passwords in modern systems. Python combines various modules to hash and secure passwords before storing them in a database.\n",
        "\n",
        "Caching —\n",
        "Hashing stores a function’s output to save time when calling it later.\n",
        "\n",
        "Data retrieval —\n",
        "Python uses a hash table with a built-in dictionary data structure to quickly retrieve values by key.\n",
        "\n",
        "Digital signatures —\n",
        "Hashing can verify the authenticity of messages that have digital signatures.\n",
        "\n",
        "File integrity checks —\n",
        "Hashing can check a file’s integrity during its transfer and download."
      ],
      "metadata": {
        "id": "4vqjtRC-HKTI"
      }
    },
    {
      "cell_type": "markdown",
      "source": [
        "## **Limitations of Hashing**\n",
        "Although Python’s hash function is promising for various use cases, its limitations make it unsuitable for security purposes. Here’s how:\n",
        "\n",
        "Collision attacks —\n",
        "A collision occurs when two different inputs produce the same hash value. An attacker could use the same input-making method to bypass security measures that rely on hash values for authentication or data integrity checks.\n",
        "\n",
        "Limited input size —\n",
        "Since hash functions produce a fixed-sized output regardless of the input’s size, an input larger in size than the hash function’s output can cause a collision\n",
        ".\n",
        "Predictability —\n",
        "A hash function should be deterministic, giving the same output every time you provide the same input. Attackers might take advantage of this weakness by precompiling hash values for many inputs, and then comparing them to target value hashes to find a match. This process is called a rainbow table attack.\n",
        "To prevent attacks and keep your data safe, use secure **hashing algorithms** designed to resist such vulnerabilities."
      ],
      "metadata": {
        "id": "UEeDRagOHKNl"
      }
    },
    {
      "cell_type": "markdown",
      "source": [
        "## **Using hashlib for Secure Hashing in Python**\n",
        "Instead of using the built-in Python hash(), use **hashlib** for more secure hashing. This Python module offers a variety of hash algorithms to hash data securely. These algorithms include MD5, SHA-1, and the more secure SHA-2 family, including SHA-256, SHA-384, SHA-512, and others."
      ],
      "metadata": {
        "id": "CJqTnraOJ34M"
      }
    },
    {
      "cell_type": "markdown",
      "source": [
        "## **MD5**\n",
        "The widely used cryptographic algorithm MD5 reveals **a 128-bit hash value.**"
      ],
      "metadata": {
        "id": "y8vc40I_KDDW"
      }
    },
    {
      "cell_type": "code",
      "source": [
        "import hashlib\n",
        "\n",
        "text = \"welcome\"\n",
        "hash_object = hashlib.md5(text.encode())\n",
        "print(hash_object.hexdigest())"
      ],
      "metadata": {
        "colab": {
          "base_uri": "https://localhost:8080/"
        },
        "id": "DBn8J9wyKJCa",
        "outputId": "e24feed7-3a7f-4822-ddcd-6830da427c0c"
      },
      "execution_count": 7,
      "outputs": [
        {
          "output_type": "stream",
          "name": "stdout",
          "text": [
            "40be4e59b9a2a2b5dffb918c0e86b3d7\n"
          ]
        }
      ]
    },
    {
      "cell_type": "markdown",
      "source": [
        "## **SHA-1**\n",
        "The SHA-1 hash function secures data by making **a 160-bit hash value**.  "
      ],
      "metadata": {
        "id": "yJ1TMnEYKTPD"
      }
    },
    {
      "cell_type": "code",
      "source": [
        "text = \"Welcome\"\n",
        "hash_object = hashlib.sha1(text.encode())\n",
        "print(hash_object.hexdigest())"
      ],
      "metadata": {
        "colab": {
          "base_uri": "https://localhost:8080/"
        },
        "id": "9waonBHEKW8y",
        "outputId": "dd51bb55-1ca9-4a1f-ca79-7e361f4313a0"
      },
      "execution_count": 8,
      "outputs": [
        {
          "output_type": "stream",
          "name": "stdout",
          "text": [
            "ca4f9dcf204e2037bfe5884867bead98bd9cbaf8\n"
          ]
        }
      ]
    },
    {
      "cell_type": "markdown",
      "source": [
        "# **SHA-256**\n",
        "There are various hash options in the SHA-2 family. The hashlib SHA-256 constructor generates a more secure version in that family with a 256-bit hash value.\n",
        "\n",
        "Programmers often use SHA-256 for cryptography, like digital signatures or message authentication codes"
      ],
      "metadata": {
        "id": "HeXys1ysKpE1"
      }
    },
    {
      "cell_type": "code",
      "source": [
        "hash_object = hashlib.sha256(text.encode())\n",
        "print(hash_object.hexdigest())"
      ],
      "metadata": {
        "colab": {
          "base_uri": "https://localhost:8080/"
        },
        "id": "Ui_nOa1jKuF2",
        "outputId": "fce8f032-69d8-45dc-abe1-4eb450c33cc8"
      },
      "execution_count": 10,
      "outputs": [
        {
          "output_type": "stream",
          "name": "stdout",
          "text": [
            "0e2226b5235f0ff94a276eb4d07a3bfea74b7e3b8b85e9efca6c18430f041bf8\n"
          ]
        }
      ]
    },
    {
      "cell_type": "markdown",
      "source": [
        "## **Limitations of Hashing**\n",
        "Although Python’s hash function is promising for various use cases, its limitations make it unsuitable for security purposes. Here’s how:\n",
        "\n",
        "Collision attacks — A collision occurs when two different inputs produce the same hash value. An attacker could use the same input-making method to bypass security measures that rely on hash values for authentication or data integrity checks.(the **MurmurHash function** is often used for feature hashing because it tends to produce fewer collisions than other hashing functions.)\n",
        "Limited input size — Since hash functions produce a fixed-sized output regardless of the input’s size, an input larger in size than the hash function’s output can cause a collision.\n",
        "Predictability — A hash function should be deterministic, giving the same output every time you provide the same input. Attackers might take advantage of this weakness by precompiling hash values for many inputs, and then comparing them to target value hashes to find a match. This process is called a rainbow table attack.\n",
        "To prevent attacks and keep your data safe, use secure hashing algorithms designed to resist such vulnerabilities."
      ],
      "metadata": {
        "id": "dRpXU0F6ge3P"
      }
    },
    {
      "cell_type": "code",
      "source": [],
      "metadata": {
        "id": "J1fmpEZMtEbV"
      },
      "execution_count": null,
      "outputs": []
    }
  ]
}