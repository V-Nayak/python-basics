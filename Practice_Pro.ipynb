{
  "nbformat": 4,
  "nbformat_minor": 0,
  "metadata": {
    "colab": {
      "name": "Practice Pro.ipynb",
      "provenance": [],
      "collapsed_sections": [],
      "authorship_tag": "ABX9TyMKDEbvMT4ie5yAyizfKoNM",
      "include_colab_link": true
    },
    "kernelspec": {
      "name": "python3",
      "display_name": "Python 3"
    },
    "language_info": {
      "name": "python"
    }
  },
  "cells": [
    {
      "cell_type": "markdown",
      "metadata": {
        "id": "view-in-github",
        "colab_type": "text"
      },
      "source": [
        "<a href=\"https://colab.research.google.com/github/V-Nayak/python-basics/blob/main/Practice_Pro.ipynb\" target=\"_parent\"><img src=\"https://colab.research.google.com/assets/colab-badge.svg\" alt=\"Open In Colab\"/></a>"
      ]
    },
    {
      "cell_type": "code",
      "source": [
        "  def isPalindrome(s):\n",
        "      return s==s[::-1]\n",
        "\n",
        "  s=input(\"Enter the input:\")\n",
        "\n",
        "  ans=isPalindrome(s)\n",
        "  if ans:\n",
        "    print(\"Yes\")\n",
        "  else:\n",
        "    print(\"No\")"
      ],
      "metadata": {
        "colab": {
          "base_uri": "https://localhost:8080/"
        },
        "id": "pBjxF7OyBTzr",
        "outputId": "38d3548c-9fff-4b6a-fa7f-6ecaa0503b1c"
      },
      "execution_count": null,
      "outputs": [
        {
          "output_type": "stream",
          "name": "stdout",
          "text": [
            "Enter the input:12@21\n",
            "Yes\n"
          ]
        }
      ]
    },
    {
      "cell_type": "code",
      "source": [
        "  def isPalindrome(s):\n",
        "\n",
        "    for i in range(0,int(len(s)/2)):\n",
        "        if s[i] != s[len(s)-i-1]:\n",
        "          return False\n",
        "        return True\n",
        "\n",
        "  s= []\n",
        "  s=input(\"Enter the input:\")\n",
        "  ans= isPalindrome(s)\n",
        "\n",
        "  if ans:\n",
        "       print(\"Yess\")\n",
        "  else:\n",
        "        print(\"No\")"
      ],
      "metadata": {
        "colab": {
          "base_uri": "https://localhost:8080/"
        },
        "id": "tNC4_tJzG7AS",
        "outputId": "4aadc4fb-201f-4fb3-da69-fbafe377b2b1"
      },
      "execution_count": null,
      "outputs": [
        {
          "output_type": "stream",
          "name": "stdout",
          "text": [
            "Enter the input:RadaR\n",
            "Yess\n"
          ]
        }
      ]
    },
    {
      "cell_type": "code",
      "source": [
        "from collections import OrderedDict\n",
        "\n",
        "# Function to remove all duplicates from string\n",
        "# and order does not matter\n",
        "def removeDupWithoutOrder(str):\n",
        "\n",
        "\t# set() --> A Set is an unordered collection\n",
        "\t#\t\t data type that is iterable, mutable,\n",
        "\t#\t\t and has no duplicate elements.\n",
        "\t# \"\".join() --> It joins two adjacent elements in\n",
        "\t#\t\t\t iterable with any symbol defined in\n",
        "\t#\t\t\t \"\" ( double quotes ) and returns a\n",
        "\t#\t\t\t single string\n",
        "\treturn \"\".join(set(str))\n",
        "\n",
        "# Function to remove all duplicates from string\n",
        "# and keep the order of characters same\n",
        "def removeDupWithOrder(str):\n",
        "\treturn \"\".join(OrderedDict.fromkeys(str))\n",
        "\n",
        "# Driver program\n",
        "if __name__ == \"__main__\":\n",
        "\tstr = \"geeksforgeeks\"\n",
        "\tprint (\"Without Order = \",removeDupWithoutOrder(str))\n",
        "\tprint (\"With Order = \",removeDupWithOrder(str))\n"
      ],
      "metadata": {
        "id": "-5i8Rf3c9IUi"
      },
      "execution_count": null,
      "outputs": []
    },
    {
      "cell_type": "code",
      "source": [
        "from collections import OrderedDict\n",
        "\n",
        "  def RemoveWtoOrd(s):\n",
        "   return \"\".join(set(str))\n",
        "\n",
        "  def RemWtOrd(s):\n",
        "    return \"\".join(OrderedDict.fromkeys(str))\n",
        "\n",
        "  if __name__==\"__main__\":\n",
        "    \n"
      ],
      "metadata": {
        "id": "jok4QkuyY2zX"
      },
      "execution_count": null,
      "outputs": []
    }
  ]
}