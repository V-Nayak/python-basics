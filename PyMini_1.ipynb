{
  "nbformat": 4,
  "nbformat_minor": 0,
  "metadata": {
    "colab": {
      "provenance": [],
      "authorship_tag": "ABX9TyPd4UJ31+Vi9KzaEd1FWTdC",
      "include_colab_link": true
    },
    "kernelspec": {
      "name": "python3",
      "display_name": "Python 3"
    },
    "language_info": {
      "name": "python"
    }
  },
  "cells": [
    {
      "cell_type": "markdown",
      "metadata": {
        "id": "view-in-github",
        "colab_type": "text"
      },
      "source": [
        "<a href=\"https://colab.research.google.com/github/V-Nayak/python-basics/blob/main/PyMini_1.ipynb\" target=\"_parent\"><img src=\"https://colab.research.google.com/assets/colab-badge.svg\" alt=\"Open In Colab\"/></a>"
      ]
    },
    {
      "cell_type": "code",
      "execution_count": null,
      "metadata": {
        "colab": {
          "base_uri": "https://localhost:8080/"
        },
        "id": "Y4B3ZfZESbhQ",
        "outputId": "f9a4943a-4b5c-408a-9820-887b4e3cd45d"
      },
      "outputs": [
        {
          "name": "stdout",
          "output_type": "stream",
          "text": [
            "Enter the number of players (2 - 4): 5\n",
            "Must be between 2 - 4 players.\n",
            "Enter the number of players (2 - 4): 3\n"
          ]
        }
      ],
      "source": [
        "import random\n",
        "\n",
        "def roll():\n",
        "  min_value = 1\n",
        "  max_value = 6\n",
        "  roll = random.randint(min_value,max_value)\n",
        "\n",
        "  return roll\n",
        "\n",
        "\n",
        "while True:\n",
        "    players = input(\"Enter the number of players (2 - 4): \")\n",
        "    if players.isdigit():\n",
        "        players = int(players)\n",
        "        if 2 <= players <= 4:\n",
        "            break\n",
        "        else:\n",
        "            print(\"Must be between 2 - 4 players.\")\n",
        "    else:\n",
        "        print(\"Invalid, try again.\")\n",
        "\n",
        "\n"
      ]
    }
  ]
}