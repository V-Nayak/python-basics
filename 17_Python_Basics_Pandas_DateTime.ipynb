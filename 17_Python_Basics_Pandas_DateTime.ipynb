{
  "nbformat": 4,
  "nbformat_minor": 0,
  "metadata": {
    "colab": {
      "name": "17_Python_Basics_Pandas_DateTime.ipynb",
      "provenance": [],
      "authorship_tag": "ABX9TyM488I4N1IpzdbHhtlrydg0",
      "include_colab_link": true
    },
    "kernelspec": {
      "name": "python3",
      "display_name": "Python 3"
    },
    "language_info": {
      "name": "python"
    }
  },
  "cells": [
    {
      "cell_type": "markdown",
      "metadata": {
        "id": "view-in-github",
        "colab_type": "text"
      },
      "source": [
        "<a href=\"https://colab.research.google.com/github/V-Nayak/python-basics/blob/main/17_Python_Basics_Pandas_DateTime.ipynb\" target=\"_parent\"><img src=\"https://colab.research.google.com/assets/colab-badge.svg\" alt=\"Open In Colab\"/></a>"
      ]
    },
    {
      "cell_type": "markdown",
      "source": [
        "# Working with date and time using Pandas"
      ],
      "metadata": {
        "id": "o2z6lO39aU5L"
      }
    },
    {
      "cell_type": "code",
      "source": [
        "# Code #1: Create a dates dataframe \n",
        "\n",
        "import pandas as pd\n",
        "\n",
        "# Create dates dataframe with frequency\n",
        "data = pd.date_range('1/1/2011', periods = 5, freq ='H')\n",
        "\n",
        "data"
      ],
      "metadata": {
        "colab": {
          "base_uri": "https://localhost:8080/"
        },
        "id": "_Wz1J01GaWfX",
        "outputId": "8038779a-9334-4533-8b8b-f7f5b2c9d8f0"
      },
      "execution_count": 4,
      "outputs": [
        {
          "output_type": "execute_result",
          "data": {
            "text/plain": [
              "DatetimeIndex(['2011-01-01 00:00:00', '2011-01-01 01:00:00',\n",
              "               '2011-01-01 02:00:00', '2011-01-01 03:00:00',\n",
              "               '2011-01-01 04:00:00'],\n",
              "              dtype='datetime64[ns]', freq='H')"
            ]
          },
          "metadata": {},
          "execution_count": 4
        }
      ]
    },
    {
      "cell_type": "code",
      "source": [
        "#  if we put more than avaiable periods it simply repeats the earlier count or records of the date.\n",
        "\n",
        "import pandas as pd\n",
        "\n",
        "# Create dates dataframe with frequency\n",
        "data = pd.date_range('1/1/2011', periods = 30, freq ='H')\n",
        "\n",
        "data"
      ],
      "metadata": {
        "colab": {
          "base_uri": "https://localhost:8080/"
        },
        "id": "7sOH7LYVahXq",
        "outputId": "fa520783-06fa-4c53-d5ea-2c5cc40e70f2"
      },
      "execution_count": 5,
      "outputs": [
        {
          "output_type": "execute_result",
          "data": {
            "text/plain": [
              "DatetimeIndex(['2011-01-01 00:00:00', '2011-01-01 01:00:00',\n",
              "               '2011-01-01 02:00:00', '2011-01-01 03:00:00',\n",
              "               '2011-01-01 04:00:00', '2011-01-01 05:00:00',\n",
              "               '2011-01-01 06:00:00', '2011-01-01 07:00:00',\n",
              "               '2011-01-01 08:00:00', '2011-01-01 09:00:00',\n",
              "               '2011-01-01 10:00:00', '2011-01-01 11:00:00',\n",
              "               '2011-01-01 12:00:00', '2011-01-01 13:00:00',\n",
              "               '2011-01-01 14:00:00', '2011-01-01 15:00:00',\n",
              "               '2011-01-01 16:00:00', '2011-01-01 17:00:00',\n",
              "               '2011-01-01 18:00:00', '2011-01-01 19:00:00',\n",
              "               '2011-01-01 20:00:00', '2011-01-01 21:00:00',\n",
              "               '2011-01-01 22:00:00', '2011-01-01 23:00:00',\n",
              "               '2011-01-02 00:00:00', '2011-01-02 01:00:00',\n",
              "               '2011-01-02 02:00:00', '2011-01-02 03:00:00',\n",
              "               '2011-01-02 04:00:00', '2011-01-02 05:00:00'],\n",
              "              dtype='datetime64[ns]', freq='H')"
            ]
          },
          "metadata": {},
          "execution_count": 5
        }
      ]
    },
    {
      "cell_type": "code",
      "source": [
        ""
      ],
      "metadata": {
        "id": "n-LdRnM0axU6"
      },
      "execution_count": null,
      "outputs": []
    }
  ]
}