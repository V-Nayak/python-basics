{
  "nbformat": 4,
  "nbformat_minor": 0,
  "metadata": {
    "colab": {
      "name": "Pandas_Merging_Joining_Concatenating.ipynb",
      "provenance": [],
      "authorship_tag": "ABX9TyP8Cv8vUIuGrFoWe7dyQAyA",
      "include_colab_link": true
    },
    "kernelspec": {
      "name": "python3",
      "display_name": "Python 3"
    },
    "language_info": {
      "name": "python"
    }
  },
  "cells": [
    {
      "cell_type": "markdown",
      "metadata": {
        "id": "view-in-github",
        "colab_type": "text"
      },
      "source": [
        "<a href=\"https://colab.research.google.com/github/V-Nayak/python-basics/blob/main/Pandas_Merging_Joining_Concatenating.ipynb\" target=\"_parent\"><img src=\"https://colab.research.google.com/assets/colab-badge.svg\" alt=\"Open In Colab\"/></a>"
      ]
    },
    {
      "cell_type": "code",
      "execution_count": 1,
      "metadata": {
        "id": "waZYDzp4rJyp"
      },
      "outputs": [],
      "source": [
        "import pandas as pd\n",
        "import numpy as np"
      ]
    },
    {
      "cell_type": "markdown",
      "source": [
        "# Python | Pandas Merging, Joining, and Concatenating\n",
        "Pandas DataFrame is two-dimensional size-mutable, potentially heterogeneous tabular data structure with labelled axes (rows and columns). A Data frame is a two-dimensional data structure, i.e., data is aligned in a tabular fashion in rows and columns. We can join, merge, and concat dataframe using different methods. In Dataframe df.merge(),df.join(), and df.concat() methods help in joining, merging and concating different dataframe.\n",
        "\n",
        "# Concatenating DataFrame\n",
        "In order to concat dataframe, we use concat() function which helps in concatenating a dataframe. We can concat a dataframe in many different ways, they are:\n",
        "\n",
        "Concatenating DataFrame using .concat()\n",
        "\n",
        "Concatenating DataFrame by setting logic on axes\n",
        "\n",
        "Concatenating DataFrame using .append()\n",
        "\n",
        "Concatenating DataFrame by ignoring indexes\n",
        "\n",
        "Concatenating DataFrame with group keys\n",
        "\n",
        "Concatenating with mixed ndims\n",
        "\n",
        "Concatenating DataFrame using .concat() :\n",
        "\n",
        "In order to concat a dataframe, we use .concat() function this function concat a dataframe and returns a new dataframe."
      ],
      "metadata": {
        "id": "22lEvwi0XIo2"
      }
    },
    {
      "cell_type": "code",
      "source": [
        "# importing pandas module\n",
        "import pandas as pd \n",
        " \n",
        "# Define a dictionary containing employee data \n",
        "data1 = {'Name':['Jai', 'Princi', 'Gaurav', 'Anuj'], \n",
        "        'Age':[27, 24, 22, 32], \n",
        "        'Address':['Nagpur', 'Kanpur', 'Allahabad', 'Kannuaj'], \n",
        "        'Qualification':['Msc', 'MA', 'MCA', 'Phd']} \n",
        "   \n",
        "# Define a dictionary containing employee data \n",
        "data2 = {'Name':['Abhi', 'Ayushi', 'Dhiraj', 'Hitesh'], \n",
        "        'Age':[17, 14, 12, 52], \n",
        "        'Address':['Nagpur', 'Kanpur', 'Allahabad', 'Kannuaj'], \n",
        "        'Qualification':['Btech', 'B.A', 'Bcom', 'B.hons']} \n",
        " \n",
        "# Convert the dictionary into DataFrame  \n",
        "df = pd.DataFrame(data1,index=[0, 1, 2, 3])\n",
        "print(\"**************************************\")\n",
        "# Convert the dictionary into DataFrame  \n",
        "df1 = pd.DataFrame(data2, index=[4, 5, 6, 7])\n",
        " \n",
        "print(df, \"\\n\\n\\n\", df1)"
      ],
      "metadata": {
        "id": "ZM37tAL9ZInS"
      },
      "execution_count": null,
      "outputs": []
    }
  ]
}