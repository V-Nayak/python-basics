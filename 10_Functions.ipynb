{
  "cells": [
    {
      "cell_type": "markdown",
      "metadata": {
        "colab_type": "text",
        "id": "view-in-github"
      },
      "source": [
        "<a href=\"https://colab.research.google.com/github/V-Nayak/python-basics/blob/main/10_Functions.ipynb\" target=\"_parent\"><img src=\"https://colab.research.google.com/assets/colab-badge.svg\" alt=\"Open In Colab\"/></a>"
      ]
    },
    {
      "cell_type": "code",
      "execution_count": null,
      "metadata": {
        "id": "4LkiveZYKPPa"
      },
      "outputs": [],
      "source": []
    }
  ],
  "metadata": {
    "colab": {
      "authorship_tag": "ABX9TyPPBX9Pu66TOsFaCDv1n1Fr",
      "include_colab_link": true,
      "name": "10_Functions.ipynb",
      "provenance": []
    },
    "kernelspec": {
      "display_name": "Kedro (weather_us)",
      "language": "python",
      "name": "kedro_weather_us"
    },
    "language_info": {
      "name": "python",
      "version": "3.8.9"
    }
  },
  "nbformat": 4,
  "nbformat_minor": 0
}
