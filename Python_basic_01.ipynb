{
  "nbformat": 4,
  "nbformat_minor": 0,
  "metadata": {
    "colab": {
      "name": "Python basic_01.ipynb",
      "provenance": [],
      "collapsed_sections": [],
      "authorship_tag": "ABX9TyM9rISiSjeHJQIKWwyWWmWF",
      "include_colab_link": true
    },
    "kernelspec": {
      "name": "python3",
      "display_name": "Python 3"
    },
    "language_info": {
      "name": "python"
    }
  },
  "cells": [
    {
      "cell_type": "markdown",
      "metadata": {
        "id": "view-in-github",
        "colab_type": "text"
      },
      "source": [
        "<a href=\"https://colab.research.google.com/github/V-Nayak/python-basics/blob/main/Python_basic_01.ipynb\" target=\"_parent\"><img src=\"https://colab.research.google.com/assets/colab-badge.svg\" alt=\"Open In Colab\"/></a>"
      ]
    },
    {
      "cell_type": "code",
      "execution_count": 1,
      "metadata": {
        "colab": {
          "base_uri": "https://localhost:8080/"
        },
        "id": "WEhQOPAdSe-A",
        "outputId": "90d476d9-cc00-40ce-e7b3-e20f5d941d13"
      },
      "outputs": [
        {
          "output_type": "stream",
          "name": "stdout",
          "text": [
            "Hello, World\n"
          ]
        }
      ],
      "source": [
        "# Print as it is:\n",
        "print (\"Hello, World\")\n"
      ]
    },
    {
      "cell_type": "code",
      "source": [
        "print (\"Welcome to New Era of 2022 Data revolution\")"
      ],
      "metadata": {
        "colab": {
          "base_uri": "https://localhost:8080/"
        },
        "id": "1Gr0pTBfVVGI",
        "outputId": "a8768cee-2bea-4147-e1d4-17efea640aa1"
      },
      "execution_count": 2,
      "outputs": [
        {
          "output_type": "stream",
          "name": "stdout",
          "text": [
            "Welcome to New Era of 2022 Data revolution\n"
          ]
        }
      ]
    },
    {
      "cell_type": "code",
      "source": [
        "# Str data types:\n",
        "print(\"This is our 'first python project'.We have to step in 'suceessflly'\")"
      ],
      "metadata": {
        "colab": {
          "base_uri": "https://localhost:8080/"
        },
        "id": "MalPKTihXXE4",
        "outputId": "a13b7cf4-258d-4bc6-8b8e-097fdcb1a9bd"
      },
      "execution_count": 3,
      "outputs": [
        {
          "output_type": "stream",
          "name": "stdout",
          "text": [
            "This is our 'first python project'.We have to step in 'suceessflly'\n"
          ]
        }
      ]
    },
    {
      "cell_type": "code",
      "source": [
        "# Str double quotes data types:\n",
        "print(\"\"\"Once we go through this \"Proper Process \", then consider we can make it.\"\"\")"
      ],
      "metadata": {
        "colab": {
          "base_uri": "https://localhost:8080/"
        },
        "id": "tWUPCaldYA0W",
        "outputId": "78815da0-666a-409e-e26c-cc551276ea2e"
      },
      "execution_count": 4,
      "outputs": [
        {
          "output_type": "stream",
          "name": "stdout",
          "text": [
            "Once we go through this \"Proper Process \", then consider we can make it.\n"
          ]
        }
      ]
    },
    {
      "cell_type": "code",
      "source": [
        "# To check the type of variable:\n",
        "x = 21.00\n",
        "print(type(x))"
      ],
      "metadata": {
        "colab": {
          "base_uri": "https://localhost:8080/"
        },
        "id": "53uAz5j8Zr94",
        "outputId": "6cc76cd0-3242-4ad9-ec41-24bb819564e8"
      },
      "execution_count": 5,
      "outputs": [
        {
          "output_type": "stream",
          "name": "stdout",
          "text": [
            "<class 'float'>\n"
          ]
        }
      ]
    },
    {
      "cell_type": "code",
      "source": [
        "# To check the type of variable:\n",
        "x =True\n",
        "print(type(x))"
      ],
      "metadata": {
        "colab": {
          "base_uri": "https://localhost:8080/"
        },
        "id": "lI1UcGGcZ0Wq",
        "outputId": "a53b1167-723c-4901-9e50-48bfba12d7f0"
      },
      "execution_count": 6,
      "outputs": [
        {
          "output_type": "stream",
          "name": "stdout",
          "text": [
            "<class 'bool'>\n"
          ]
        }
      ]
    },
    {
      "cell_type": "code",
      "source": [
        "# Display the last no of variables:\n",
        "x = 21\n",
        "y = 31.99\n",
        "x\n",
        "y"
      ],
      "metadata": {
        "colab": {
          "base_uri": "https://localhost:8080/"
        },
        "id": "g2BDVhiOaKMy",
        "outputId": "b91113b7-aea1-4e27-b93e-77e144aa7038"
      },
      "execution_count": 7,
      "outputs": [
        {
          "output_type": "execute_result",
          "data": {
            "text/plain": [
              "31.99"
            ]
          },
          "metadata": {},
          "execution_count": 7
        }
      ]
    },
    {
      "cell_type": "code",
      "source": [
        "# Without print getting same value:\n",
        "m = 50\n",
        "n = 100\n",
        "o= 150\n",
        "n"
      ],
      "metadata": {
        "colab": {
          "base_uri": "https://localhost:8080/"
        },
        "id": "-Sb5UcXoa0k2",
        "outputId": "806ea65c-db2e-478c-d243-f1fa49dfb3f6"
      },
      "execution_count": 8,
      "outputs": [
        {
          "output_type": "execute_result",
          "data": {
            "text/plain": [
              "100"
            ]
          },
          "metadata": {},
          "execution_count": 8
        }
      ]
    },
    {
      "cell_type": "code",
      "source": [
        "# To check the types of variables:\n",
        "a = 50\n",
        "b = 55.99\n",
        "d = 0.98e1\n",
        "c = \"Eighty\"\n",
        "e = '12'\n",
        "f = False\n",
        "print(type(a))\n",
        "print(type(b))\n",
        "print(type(c))\n",
        "print(type(d))\n",
        "print(type(e))\n",
        "print(type(f))"
      ],
      "metadata": {
        "colab": {
          "base_uri": "https://localhost:8080/"
        },
        "id": "Z6VpL7BWbNx0",
        "outputId": "76b54069-7ae9-4480-94c0-56f8e8b8e287"
      },
      "execution_count": 15,
      "outputs": [
        {
          "output_type": "stream",
          "name": "stdout",
          "text": [
            "<class 'int'>\n",
            "<class 'float'>\n",
            "<class 'str'>\n",
            "<class 'float'>\n",
            "<class 'str'>\n",
            "<class 'bool'>\n"
          ]
        }
      ]
    },
    {
      "cell_type": "code",
      "source": [
        ""
      ],
      "metadata": {
        "id": "3brvRwPec772"
      },
      "execution_count": null,
      "outputs": []
    },
    {
      "cell_type": "code",
      "source": [
        "# To check the location and ID of the veriables:\n",
        "x = 51\n",
        "y = 52\n",
        "print(id(x))\n",
        "print(id(y))"
      ],
      "metadata": {
        "colab": {
          "base_uri": "https://localhost:8080/"
        },
        "id": "FSN4RAXs3bDU",
        "outputId": "b04332b9-a4da-426c-fa6b-3efe2db50feb"
      },
      "execution_count": 16,
      "outputs": [
        {
          "output_type": "stream",
          "name": "stdout",
          "text": [
            "94888190681152\n",
            "94888190681184\n"
          ]
        }
      ]
    },
    {
      "cell_type": "code",
      "source": [
        "# Complax veriables addition :\n",
        "a = 5+10j\n",
        "b = 5+100j\n",
        "c = a+b\n",
        "print(c)"
      ],
      "metadata": {
        "colab": {
          "base_uri": "https://localhost:8080/"
        },
        "id": "RYAmvK2NdLV9",
        "outputId": "40e67081-5de8-45cb-c387-0422b7b52d35"
      },
      "execution_count": 18,
      "outputs": [
        {
          "output_type": "stream",
          "name": "stdout",
          "text": [
            "(10+110j)\n"
          ]
        }
      ]
    },
    {
      "cell_type": "code",
      "source": [
        "# Complax veriables addition :\n",
        "a = 5+10j\n",
        "b = 5+100j\n",
        "c = a*b\n",
        "print(c)"
      ],
      "metadata": {
        "colab": {
          "base_uri": "https://localhost:8080/"
        },
        "id": "LjLkajyQdupd",
        "outputId": "f69d0d81-9544-4575-856f-734c2381b783"
      },
      "execution_count": 19,
      "outputs": [
        {
          "output_type": "stream",
          "name": "stdout",
          "text": [
            "(-975+550j)\n"
          ]
        }
      ]
    },
    {
      "cell_type": "code",
      "source": [
        "# Bollean data types:\n",
        "a = 61\n",
        "b = 62\n",
        "c = a > b\n",
        "print(c)"
      ],
      "metadata": {
        "colab": {
          "base_uri": "https://localhost:8080/"
        },
        "id": "umRqgGhFeHXd",
        "outputId": "f26b0f90-9264-4784-a25f-dc1991b66c13"
      },
      "execution_count": 21,
      "outputs": [
        {
          "output_type": "stream",
          "name": "stdout",
          "text": [
            "False\n"
          ]
        }
      ]
    },
    {
      "cell_type": "code",
      "source": [
        "# Slice []:\n",
        "x = \"ABCDEFGHIJKLM NOPQRSTUVWXYZ\"\n",
        "print(x[-5])\n",
        "print(x[8])\n",
        "print(x[-13])\n",
        "print(x[0])\n",
        "print(x[-2])\n",
        "print(x[0])\n",
        "print(x[-17])"
      ],
      "metadata": {
        "colab": {
          "base_uri": "https://localhost:8080/"
        },
        "id": "RTVkR2npeb8H",
        "outputId": "a41e3b81-5151-4ff1-ffcf-1c391c103a73"
      },
      "execution_count": 23,
      "outputs": [
        {
          "output_type": "stream",
          "name": "stdout",
          "text": [
            "V\n",
            "I\n",
            "N\n",
            "A\n",
            "Y\n",
            "A\n",
            "K\n"
          ]
        }
      ]
    },
    {
      "cell_type": "code",
      "source": [
        "# Slice PERTICULAR:\n",
        "x = \"ABCDEFGHIJKLM NOPQRSTUVWXYZ\"\n",
        "print (x[0:13])"
      ],
      "metadata": {
        "colab": {
          "base_uri": "https://localhost:8080/"
        },
        "id": "SskLh0PJfZjW",
        "outputId": "76ee5580-ff38-4fe6-f78e-c5a1f05863b5"
      },
      "execution_count": 24,
      "outputs": [
        {
          "output_type": "stream",
          "name": "stdout",
          "text": [
            "ABCDEFGHIJKLM\n"
          ]
        }
      ]
    },
    {
      "cell_type": "code",
      "source": [
        "# Slice PERTICULAR:\n",
        "y = \"ABCDEFGHIJKLM NOPQRSTUVWXYZ\"\n",
        "y [15:-1]"
      ],
      "metadata": {
        "colab": {
          "base_uri": "https://localhost:8080/",
          "height": 36
        },
        "id": "Bi_zmvWcgCsY",
        "outputId": "6d964bae-cb1f-43fa-a4e3-7af4a7dd6992"
      },
      "execution_count": 40,
      "outputs": [
        {
          "output_type": "execute_result",
          "data": {
            "text/plain": [
              "'NOPQRSTUVWXY'"
            ],
            "application/vnd.google.colaboratory.intrinsic+json": {
              "type": "string"
            }
          },
          "metadata": {},
          "execution_count": 40
        }
      ]
    }
  ]
}