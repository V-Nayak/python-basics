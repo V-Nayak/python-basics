{
  "nbformat": 4,
  "nbformat_minor": 0,
  "metadata": {
    "colab": {
      "provenance": [],
      "authorship_tag": "ABX9TyP/gFmmXCYrOjL/oggBnJmW",
      "include_colab_link": true
    },
    "kernelspec": {
      "name": "python3",
      "display_name": "Python 3"
    },
    "language_info": {
      "name": "python"
    }
  },
  "cells": [
    {
      "cell_type": "markdown",
      "metadata": {
        "id": "view-in-github",
        "colab_type": "text"
      },
      "source": [
        "<a href=\"https://colab.research.google.com/github/V-Nayak/python-basics/blob/main/Pythonpractice.ipynb\" target=\"_parent\"><img src=\"https://colab.research.google.com/assets/colab-badge.svg\" alt=\"Open In Colab\"/></a>"
      ]
    },
    {
      "cell_type": "code",
      "execution_count": null,
      "metadata": {
        "colab": {
          "base_uri": "https://localhost:8080/"
        },
        "id": "6_4Fb95DHuga",
        "outputId": "2b00d97a-9c04-48a9-cf8c-f827fe853e6e"
      },
      "outputs": [
        {
          "output_type": "stream",
          "name": "stdout",
          "text": [
            "apple,banana,grapes,orange\n",
            "Tomato is not present in fruits\n"
          ]
        }
      ],
      "source": [
        "import pandas as pd\n",
        "import numpy as np\n",
        "\n",
        "fruits = ['apple','banana','orange','grapes']\n",
        "fruits= sorted(fruits)\n",
        "print(','.join(fruits))\n",
        "\n",
        "if'Tomato'in fruits:\n",
        "    print(\"banana is present in fruits\")\n",
        "else:\n",
        "  print(\"Tomato is not present in fruits\")"
      ]
    },
    {
      "cell_type": "code",
      "source": [
        "if 5 == 10 or 4 == 4:\n",
        "    print(\"At least one of the statement is true\")"
      ],
      "metadata": {
        "colab": {
          "base_uri": "https://localhost:8080/"
        },
        "id": "ZMqJTTdHfioe",
        "outputId": "cee19314-2ef9-49d6-fb52-d8f87d3d5f80"
      },
      "execution_count": null,
      "outputs": [
        {
          "output_type": "stream",
          "name": "stdout",
          "text": [
            "At least one of the statement is true\n"
          ]
        }
      ]
    },
    {
      "cell_type": "code",
      "source": [
        "a= input(\"Enter the value for a: \")\n",
        "b= input(\"Enter the value for b: \")\n",
        "c= input(\"Enter the value for c:  \")\n",
        "\n",
        "if (a>=b) and (a>=c):\n",
        "    print(\"a is the largest\")\n",
        "elif(b>=a) and (b>=c):\n",
        "    print(\"b is the largest\")\n",
        "else:\n",
        "  print(\"c is the largest\")"
      ],
      "metadata": {
        "colab": {
          "base_uri": "https://localhost:8080/"
        },
        "id": "279N5xwlhr7T",
        "outputId": "73363fdd-86ec-44aa-ed7f-347477410921"
      },
      "execution_count": null,
      "outputs": [
        {
          "output_type": "stream",
          "name": "stdout",
          "text": [
            "Enter the value for a: 35\n",
            "Enter the value for b: 45\n",
            "Enter the value for c: 35\n",
            "b is the largest\n"
          ]
        }
      ]
    },
    {
      "cell_type": "code",
      "source": [
        "#Tuple\n",
        "t=(1,2,3,3)\n",
        "print(type(t))\n",
        "print(\"3 is printed\",t.count(3),\"times starting from index location\", t.index(3) )\n",
        "#print(t.index(3))"
      ],
      "metadata": {
        "colab": {
          "base_uri": "https://localhost:8080/"
        },
        "id": "-sDez5jUSqpR",
        "outputId": "c26c5caf-23ba-42e6-afaa-401d2d5aea43"
      },
      "execution_count": null,
      "outputs": [
        {
          "output_type": "stream",
          "name": "stdout",
          "text": [
            "<class 'tuple'>\n",
            "3 is printed 2 times starting from index location 2\n"
          ]
        }
      ]
    },
    {
      "cell_type": "code",
      "source": [
        "#set- unordered collection of unique elements\n",
        "myset=set()\n",
        "myset.add(1)\n",
        "myset.add(2)\n",
        "myset.add(2)# this value will not be added\n",
        "mylist = [1,2,2,3,4,4,1,1,2,2,3,3] # here as well iot6 will not accept the rpetation\n",
        "set(mylist) # so it take the\n"
      ],
      "metadata": {
        "colab": {
          "base_uri": "https://localhost:8080/"
        },
        "id": "P6napVAPV4rY",
        "outputId": "7044ebbf-e3b4-45cb-c432-9a49b0213df6"
      },
      "execution_count": null,
      "outputs": [
        {
          "output_type": "execute_result",
          "data": {
            "text/plain": [
              "{1, 2, 3, 4}"
            ]
          },
          "metadata": {},
          "execution_count": 30
        }
      ]
    },
    {
      "cell_type": "code",
      "source": [
        "mystring = (\"Mississippi\")\n",
        "set(mystring)"
      ],
      "metadata": {
        "colab": {
          "base_uri": "https://localhost:8080/"
        },
        "id": "X9zCG_sMX0q9",
        "outputId": "81c62441-a76f-491d-ae8e-39f8d978b413"
      },
      "execution_count": null,
      "outputs": [
        {
          "output_type": "execute_result",
          "data": {
            "text/plain": [
              "{'M', 'i', 'p', 's'}"
            ]
          },
          "metadata": {},
          "execution_count": 1
        }
      ]
    },
    {
      "cell_type": "markdown",
      "source": [],
      "metadata": {
        "id": "xRjmyCB9WDq3"
      }
    },
    {
      "cell_type": "code",
      "source": [
        "import tkinter\n",
        "from tkinter import PhotoImage\n",
        "\n",
        "root=tkinter.Tk()\n",
        "root.geometry(\"300x400\")\n",
        "root.title(\"My Weather App\")\n",
        "\n",
        "image_path=r\"C:\\Users\\Vinayak\\.vscode\\weatherimage.png\"\n",
        "bg_image=PhotoImage(file=image_path)\n",
        "set_bg_image=tkinter.Label(root,image=bg_image)\n",
        "set_bg_image.place(relhight=1,relwidth=1)\n",
        "root.mainloop()"
      ],
      "metadata": {
        "id": "Q5hNvdE_YO24",
        "colab": {
          "base_uri": "https://localhost:8080/",
          "height": 367
        },
        "outputId": "c6c1a2f8-3f4a-49d6-80d7-a8eb3069af19"
      },
      "execution_count": null,
      "outputs": [
        {
          "output_type": "error",
          "ename": "TclError",
          "evalue": "no display name and no $DISPLAY environment variable",
          "traceback": [
            "\u001b[0;31m---------------------------------------------------------------------------\u001b[0m",
            "\u001b[0;31mTclError\u001b[0m                                  Traceback (most recent call last)",
            "\u001b[0;32m<ipython-input-2-b43a1ec07f6a>\u001b[0m in \u001b[0;36m<cell line: 4>\u001b[0;34m()\u001b[0m\n\u001b[1;32m      2\u001b[0m \u001b[0;32mfrom\u001b[0m \u001b[0mtkinter\u001b[0m \u001b[0;32mimport\u001b[0m \u001b[0mPhotoImage\u001b[0m\u001b[0;34m\u001b[0m\u001b[0;34m\u001b[0m\u001b[0m\n\u001b[1;32m      3\u001b[0m \u001b[0;34m\u001b[0m\u001b[0m\n\u001b[0;32m----> 4\u001b[0;31m \u001b[0mroot\u001b[0m\u001b[0;34m=\u001b[0m\u001b[0mtkinter\u001b[0m\u001b[0;34m.\u001b[0m\u001b[0mTk\u001b[0m\u001b[0;34m(\u001b[0m\u001b[0;34m)\u001b[0m\u001b[0;34m\u001b[0m\u001b[0;34m\u001b[0m\u001b[0m\n\u001b[0m\u001b[1;32m      5\u001b[0m \u001b[0mroot\u001b[0m\u001b[0;34m.\u001b[0m\u001b[0mgeometry\u001b[0m\u001b[0;34m(\u001b[0m\u001b[0;34m\"300x400\"\u001b[0m\u001b[0;34m)\u001b[0m\u001b[0;34m\u001b[0m\u001b[0;34m\u001b[0m\u001b[0m\n\u001b[1;32m      6\u001b[0m \u001b[0mroot\u001b[0m\u001b[0;34m.\u001b[0m\u001b[0mtitle\u001b[0m\u001b[0;34m(\u001b[0m\u001b[0;34m\"My Weather App\"\u001b[0m\u001b[0;34m)\u001b[0m\u001b[0;34m\u001b[0m\u001b[0;34m\u001b[0m\u001b[0m\n",
            "\u001b[0;32m/usr/lib/python3.10/tkinter/__init__.py\u001b[0m in \u001b[0;36m__init__\u001b[0;34m(self, screenName, baseName, className, useTk, sync, use)\u001b[0m\n\u001b[1;32m   2297\u001b[0m                 \u001b[0mbaseName\u001b[0m \u001b[0;34m=\u001b[0m \u001b[0mbaseName\u001b[0m \u001b[0;34m+\u001b[0m \u001b[0mext\u001b[0m\u001b[0;34m\u001b[0m\u001b[0;34m\u001b[0m\u001b[0m\n\u001b[1;32m   2298\u001b[0m         \u001b[0minteractive\u001b[0m \u001b[0;34m=\u001b[0m \u001b[0;32mFalse\u001b[0m\u001b[0;34m\u001b[0m\u001b[0;34m\u001b[0m\u001b[0m\n\u001b[0;32m-> 2299\u001b[0;31m         \u001b[0mself\u001b[0m\u001b[0;34m.\u001b[0m\u001b[0mtk\u001b[0m \u001b[0;34m=\u001b[0m \u001b[0m_tkinter\u001b[0m\u001b[0;34m.\u001b[0m\u001b[0mcreate\u001b[0m\u001b[0;34m(\u001b[0m\u001b[0mscreenName\u001b[0m\u001b[0;34m,\u001b[0m \u001b[0mbaseName\u001b[0m\u001b[0;34m,\u001b[0m \u001b[0mclassName\u001b[0m\u001b[0;34m,\u001b[0m \u001b[0minteractive\u001b[0m\u001b[0;34m,\u001b[0m \u001b[0mwantobjects\u001b[0m\u001b[0;34m,\u001b[0m \u001b[0museTk\u001b[0m\u001b[0;34m,\u001b[0m \u001b[0msync\u001b[0m\u001b[0;34m,\u001b[0m \u001b[0muse\u001b[0m\u001b[0;34m)\u001b[0m\u001b[0;34m\u001b[0m\u001b[0;34m\u001b[0m\u001b[0m\n\u001b[0m\u001b[1;32m   2300\u001b[0m         \u001b[0;32mif\u001b[0m \u001b[0museTk\u001b[0m\u001b[0;34m:\u001b[0m\u001b[0;34m\u001b[0m\u001b[0;34m\u001b[0m\u001b[0m\n\u001b[1;32m   2301\u001b[0m             \u001b[0mself\u001b[0m\u001b[0;34m.\u001b[0m\u001b[0m_loadtk\u001b[0m\u001b[0;34m(\u001b[0m\u001b[0;34m)\u001b[0m\u001b[0;34m\u001b[0m\u001b[0;34m\u001b[0m\u001b[0m\n",
            "\u001b[0;31mTclError\u001b[0m: no display name and no $DISPLAY environment variable"
          ]
        }
      ]
    },
    {
      "cell_type": "code",
      "source": [
        "import keyword\n",
        "keyword.kwlist  ##around 35"
      ],
      "metadata": {
        "id": "F7ajtXkSV5Mu"
      },
      "execution_count": null,
      "outputs": []
    },
    {
      "cell_type": "code",
      "source": [
        "abd = 'vinayak patil'\n",
        "# removing spaces from string and then seperating the characters(converting them into set) and then sorting them in aplhabetical manner"
      ],
      "metadata": {
        "id": "XAi17pCvW2sk"
      },
      "execution_count": null,
      "outputs": []
    },
    {
      "cell_type": "code",
      "source": [
        "import re\n",
        "\n",
        "print(sorted(set(abd)))\n",
        "New_abd = re.sub(r'\\s', \"\", abd)\n",
        "\n",
        "print(sorted(set(New_abd)))\n"
      ],
      "metadata": {
        "colab": {
          "base_uri": "https://localhost:8080/"
        },
        "id": "h9OcnkX3cIcW",
        "outputId": "22bd9e5d-6d0d-468a-aa9c-4db15d8df1f2"
      },
      "execution_count": null,
      "outputs": [
        {
          "output_type": "stream",
          "name": "stdout",
          "text": [
            "[' ', 'a', 'i', 'k', 'l', 'n', 'p', 't', 'v', 'y']\n",
            "['a', 'i', 'k', 'l', 'n', 'p', 't', 'v', 'y']\n"
          ]
        }
      ]
    },
    {
      "cell_type": "code",
      "source": [
        "a = sorted(set(New_abd))\n",
        "\n",
        "for i in a:\n",
        "  print(i)"
      ],
      "metadata": {
        "colab": {
          "base_uri": "https://localhost:8080/"
        },
        "id": "bZNJlDscs5_J",
        "outputId": "99deb494-18dd-4d81-cbbb-6badfc21f324"
      },
      "execution_count": null,
      "outputs": [
        {
          "output_type": "stream",
          "name": "stdout",
          "text": [
            "a\n",
            "i\n",
            "k\n",
            "l\n",
            "n\n",
            "p\n",
            "t\n",
            "v\n",
            "y\n"
          ]
        }
      ]
    },
    {
      "cell_type": "code",
      "source": [
        "for i in range(200):\n",
        "  if 190 < i >=185:\n",
        "    print(i)"
      ],
      "metadata": {
        "colab": {
          "base_uri": "https://localhost:8080/"
        },
        "id": "QOYpXOD5tKGI",
        "outputId": "791f58e8-303d-4557-ebe6-244c4eb5667f"
      },
      "execution_count": null,
      "outputs": [
        {
          "output_type": "stream",
          "name": "stdout",
          "text": [
            "191\n",
            "192\n",
            "193\n",
            "194\n",
            "195\n",
            "196\n",
            "197\n",
            "198\n",
            "199\n"
          ]
        }
      ]
    },
    {
      "cell_type": "code",
      "source": [
        "import math  #finiding the squred no in the range of 0 to 100\n",
        "\n",
        "from math import ceil,floor,trunc\n",
        "\n",
        "print(ceil(10.55))\n",
        "\n",
        "print(ceil(10.45))\n",
        "\n",
        "for i in range(100):\n",
        "\n",
        "  a = math.sqrt(i)\n",
        "\n",
        "  if type(a)== int:\n",
        "   print(i)"
      ],
      "metadata": {
        "colab": {
          "base_uri": "https://localhost:8080/"
        },
        "id": "W15T1KpAzKW1",
        "outputId": "67a56cf2-5363-4595-a4be-37be59bb0a3e"
      },
      "execution_count": null,
      "outputs": [
        {
          "output_type": "stream",
          "name": "stdout",
          "text": [
            "11\n",
            "11\n"
          ]
        }
      ]
    },
    {
      "cell_type": "code",
      "source": [
        "from math import ceil, floor,trunc\n",
        "\n",
        "print(ceil(10.55))\n",
        "\n",
        "print(ceil(10.45))\n",
        "\n",
        "print(floor(10.55))\n",
        "\n",
        "print(floor(10.45))\n",
        "\n",
        "print(floor(-10.55))\n",
        "\n"
      ],
      "metadata": {
        "colab": {
          "base_uri": "https://localhost:8080/"
        },
        "id": "9d0hhGNj8gF5",
        "outputId": "3abc964f-1258-497e-9eb7-c7d4611cc9a3"
      },
      "execution_count": null,
      "outputs": [
        {
          "output_type": "stream",
          "name": "stdout",
          "text": [
            "11\n",
            "11\n",
            "10\n",
            "10\n",
            "-11\n"
          ]
        }
      ]
    },
    {
      "cell_type": "code",
      "source": [
        "\n",
        "print(trunc(10.45))\n",
        "print(trunc(-10.45))"
      ],
      "metadata": {
        "colab": {
          "base_uri": "https://localhost:8080/"
        },
        "id": "eK9wqtUH3sdD",
        "outputId": "21809039-7c15-4de1-c7ba-4d0f950b6cb9"
      },
      "execution_count": null,
      "outputs": [
        {
          "output_type": "stream",
          "name": "stdout",
          "text": [
            "10\n",
            "-10\n"
          ]
        }
      ]
    },
    {
      "cell_type": "code",
      "source": [
        " a = [10,20,30,100,255]\n",
        " b = bytes(a)           # byte or byte array support values from 0 to 255 only\n",
        " c = bytearray(a)\n",
        "\n",
        " c[0] = 100     #bytearray(c) supports the item assignemt not byte(b)\n",
        " for i in c:\n",
        "  print(i)"
      ],
      "metadata": {
        "colab": {
          "base_uri": "https://localhost:8080/"
        },
        "id": "lsBA-AC9nI81",
        "outputId": "9765462c-b74e-4984-e506-acced3f79ad4"
      },
      "execution_count": null,
      "outputs": [
        {
          "output_type": "stream",
          "name": "stdout",
          "text": [
            "100\n",
            "20\n",
            "30\n",
            "100\n",
            "255\n"
          ]
        }
      ]
    },
    {
      "cell_type": "code",
      "source": [
        "n1=int(input(\"Enter no 1:\"))\n",
        "n2=int(input(\"Enter no 2:\"))\n",
        "n3=int(input(\"Enter no 3:\"))\n",
        "if (n1>n2) and (n1>n2):\n",
        "  print(\"Laregst no is:\", n1)\n",
        "elif (n2>n1) and (n2>n3):\n",
        "  print(\"Largest no is:\", n2)\n",
        "else :\n",
        "  print(\"largest no is:\", n3)\n"
      ],
      "metadata": {
        "colab": {
          "base_uri": "https://localhost:8080/"
        },
        "id": "zhBi27JOLSR6",
        "outputId": "41c9d348-9951-4efb-bc0e-78196fea1b16"
      },
      "execution_count": null,
      "outputs": [
        {
          "output_type": "stream",
          "name": "stdout",
          "text": [
            "Enter no 1:60\n",
            "Enter no 2:70\n",
            "Enter no 3:80\n",
            "largest no is: 80\n"
          ]
        }
      ]
    },
    {
      "cell_type": "code",
      "source": [],
      "metadata": {
        "id": "_FzD6-NYvYqW"
      },
      "execution_count": null,
      "outputs": []
    }
  ]
}