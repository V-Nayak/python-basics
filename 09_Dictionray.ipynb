{
  "nbformat": 4,
  "nbformat_minor": 0,
  "metadata": {
    "colab": {
      "name": "09_Dictionray.ipynb",
      "provenance": [],
      "collapsed_sections": [],
      "authorship_tag": "ABX9TyOyO8nGTxcCC8h/2uHp1q/x",
      "include_colab_link": true
    },
    "kernelspec": {
      "name": "python3",
      "display_name": "Python 3"
    },
    "language_info": {
      "name": "python"
    }
  },
  "cells": [
    {
      "cell_type": "markdown",
      "metadata": {
        "id": "view-in-github",
        "colab_type": "text"
      },
      "source": [
        "<a href=\"https://colab.research.google.com/github/V-Nayak/python-basics/blob/main/09_Dictionray.ipynb\" target=\"_parent\"><img src=\"https://colab.research.google.com/assets/colab-badge.svg\" alt=\"Open In Colab\"/></a>"
      ]
    },
    {
      "cell_type": "markdown",
      "source": [
        "# Dictionary Data Structure\n",
        "These are Pair data structures unlike set tuple or list which represent individual elemets group.\n",
        "which can be represented in the Key & value pairs which represents dynamic (duplicate- values) heterognous and mutable nature except indexing n slicing."
      ],
      "metadata": {
        "id": "_ZtnG8L1cRYn"
      }
    },
    {
      "cell_type": "markdown",
      "source": [
        "## Creating a Dictionary."
      ],
      "metadata": {
        "id": "fpb6FP-djI-Y"
      }
    },
    {
      "cell_type": "code",
      "source": [
        "d={}                 ## Syntax: d={} OR d=dict()\n",
        "d[\"OO7\"]='''Enter'''\n",
        "print(d)\n",
        "d['@']=\"Your\"\n",
        "d[\"Own\"]=\"Risk\"\n",
        "print(d)            ## step by step addition."
      ],
      "metadata": {
        "colab": {
          "base_uri": "https://localhost:8080/"
        },
        "id": "8z_HyzU5f1ki",
        "outputId": "7809477b-10f2-4b6b-f6a6-d233e48cf725"
      },
      "execution_count": 4,
      "outputs": [
        {
          "output_type": "stream",
          "name": "stdout",
          "text": [
            "{'OO7': 'Enter'}\n",
            "{'OO7': 'Enter', '@': 'Your', 'Own': 'Risk'}\n"
          ]
        }
      ]
    },
    {
      "cell_type": "code",
      "source": [
        "d = {100: 'DS', 200: 'Macarthy', 300: 'Squadron'}    ##Directly assigning key and values.\n",
        "print(d)"
      ],
      "metadata": {
        "colab": {
          "base_uri": "https://localhost:8080/"
        },
        "id": "oo2dw1YwmD0-",
        "outputId": "a0e7d5e8-d73b-4ee7-c237-27d8147559cb"
      },
      "execution_count": 5,
      "outputs": [
        {
          "output_type": "stream",
          "name": "stdout",
          "text": [
            "{100: 'DS', 200: 'Macarthy', 300: 'Squadron'}\n"
          ]
        }
      ]
    }
  ]
}