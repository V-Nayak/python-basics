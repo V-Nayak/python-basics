{
  "nbformat": 4,
  "nbformat_minor": 0,
  "metadata": {
    "colab": {
      "name": "09_Dictionray.ipynb",
      "provenance": [],
      "collapsed_sections": [],
      "authorship_tag": "ABX9TyNcO9KFZwkCzg9Svu+Ga51q",
      "include_colab_link": true
    },
    "kernelspec": {
      "name": "python3",
      "display_name": "Python 3"
    },
    "language_info": {
      "name": "python"
    }
  },
  "cells": [
    {
      "cell_type": "markdown",
      "metadata": {
        "id": "view-in-github",
        "colab_type": "text"
      },
      "source": [
        "<a href=\"https://colab.research.google.com/github/V-Nayak/python-basics/blob/main/09_Dictionray.ipynb\" target=\"_parent\"><img src=\"https://colab.research.google.com/assets/colab-badge.svg\" alt=\"Open In Colab\"/></a>"
      ]
    },
    {
      "cell_type": "markdown",
      "source": [
        "# Dictionary Data Structure\n",
        "These are Pair data structures unlike set tuple or list which represent individual elemets group.\n",
        "which can be represented in the Key & value pairs which represents dynamic (duplicate- values) heterognous and mutable nature except indexing n slicing."
      ],
      "metadata": {
        "id": "_ZtnG8L1cRYn"
      }
    },
    {
      "cell_type": "markdown",
      "source": [
        "## Creating a Dictionary."
      ],
      "metadata": {
        "id": "fpb6FP-djI-Y"
      }
    },
    {
      "cell_type": "code",
      "source": [
        "d={}                 ## Syntax: d={} OR d=dict()\n",
        "d[\"OO7\"]='''Enter'''\n",
        "print(d)\n",
        "d['@']=\"Your\"\n",
        "d[\"Own\"]=\"Risk\"\n",
        "print(d)            ## step by step addition."
      ],
      "metadata": {
        "colab": {
          "base_uri": "https://localhost:8080/"
        },
        "id": "8z_HyzU5f1ki",
        "outputId": "7809477b-10f2-4b6b-f6a6-d233e48cf725"
      },
      "execution_count": 4,
      "outputs": [
        {
          "output_type": "stream",
          "name": "stdout",
          "text": [
            "{'OO7': 'Enter'}\n",
            "{'OO7': 'Enter', '@': 'Your', 'Own': 'Risk'}\n"
          ]
        }
      ]
    },
    {
      "cell_type": "code",
      "source": [
        "d = {100: 'DS', 200: 'Macarthy', 300: 'Squadron'}    ##Directly assigning key and values.\n",
        "print(d)"
      ],
      "metadata": {
        "colab": {
          "base_uri": "https://localhost:8080/"
        },
        "id": "oo2dw1YwmD0-",
        "outputId": "a0e7d5e8-d73b-4ee7-c237-27d8147559cb"
      },
      "execution_count": 5,
      "outputs": [
        {
          "output_type": "stream",
          "name": "stdout",
          "text": [
            "{100: 'DS', 200: 'Macarthy', 300: 'Squadron'}\n"
          ]
        }
      ]
    },
    {
      "cell_type": "markdown",
      "source": [
        "## Accessing data from the dictionary."
      ],
      "metadata": {
        "id": "--NGsM33mkkc"
      }
    },
    {
      "cell_type": "code",
      "source": [
        "d = {1:'Vinayak', 2:'Jaysing',3: 'Patil'}\n",
        "d[3]"
      ],
      "metadata": {
        "colab": {
          "base_uri": "https://localhost:8080/",
          "height": 35
        },
        "id": "U4Cd7a8Jm-7T",
        "outputId": "d65d857d-5d8c-47e1-d5af-8a3ca393904c"
      },
      "execution_count": 13,
      "outputs": [
        {
          "output_type": "execute_result",
          "data": {
            "text/plain": [
              "'Patil'"
            ],
            "application/vnd.google.colaboratory.intrinsic+json": {
              "type": "string"
            }
          },
          "metadata": {},
          "execution_count": 13
        }
      ]
    },
    {
      "cell_type": "code",
      "source": [
        "d = {1:'Vinayak', 2:'Jaysing',3: 'Patil'}\n",
        "l=input(\"Enter the req Code\":)\n",
        "d[\"l\"]"
      ],
      "metadata": {
        "colab": {
          "base_uri": "https://localhost:8080/",
          "height": 135
        },
        "id": "k1Pzby9en2SL",
        "outputId": "39f669b5-31ba-48cf-cc14-06c3c2aa0484"
      },
      "execution_count": 14,
      "outputs": [
        {
          "output_type": "error",
          "ename": "SyntaxError",
          "evalue": "ignored",
          "traceback": [
            "\u001b[0;36m  File \u001b[0;32m\"<ipython-input-14-613b7cae213b>\"\u001b[0;36m, line \u001b[0;32m2\u001b[0m\n\u001b[0;31m    l=input(\"Enter the req Code\":)\u001b[0m\n\u001b[0m                                ^\u001b[0m\n\u001b[0;31mSyntaxError\u001b[0m\u001b[0;31m:\u001b[0m invalid syntax\n"
          ]
        }
      ]
    },
    {
      "cell_type": "markdown",
      "source": [
        "## Updating the Dictionary\n",
        "\n",
        "syntax: d[key] = value\n",
        "\n",
        "If the **key is not available then a new entry** will be added to the dictionary with the specified key-value pair.\n",
        "\n",
        "If the key is **already available then old value will be replaced with new value**."
      ],
      "metadata": {
        "id": "iA5PpoB9oHMr"
      }
    },
    {
      "cell_type": "code",
      "source": [
        "d={100:\"shriniwas\",200:\"sushil\",300:\"akash\"}\n",
        "print(d)\n",
        "d[400]=\"vinayak\"\n",
        "print(d)\n",
        "d[100]=\"amol\"\n",
        "print(d)"
      ],
      "metadata": {
        "colab": {
          "base_uri": "https://localhost:8080/"
        },
        "id": "IshiyuufoV38",
        "outputId": "c74f628e-efba-47a9-9e81-34404b5f0a01"
      },
      "execution_count": 15,
      "outputs": [
        {
          "output_type": "stream",
          "name": "stdout",
          "text": [
            "{100: 'shriniwas', 200: 'sushil', 300: 'akash'}\n",
            "{100: 'shriniwas', 200: 'sushil', 300: 'akash', 400: 'vinayak'}\n",
            "{100: 'amol', 200: 'sushil', 300: 'akash', 400: 'vinayak'}\n"
          ]
        }
      ]
    },
    {
      "cell_type": "markdown",
      "source": [
        "Deleting the Key Value from Dictionary"
      ],
      "metadata": {
        "id": "W4w8wZtQovNe"
      }
    },
    {
      "cell_type": "code",
      "source": [
        "# It deletes entry associated with the specified key.\n",
        "#If the key is not available then we will get KeyError.\n",
        "d={100:\"Macbook\",200:\"Iphone\",300:\"Ipad\"}\n",
        "print(d)\n",
        "del d[100]\n",
        "print(d)\n",
        "del d[400]"
      ],
      "metadata": {
        "colab": {
          "base_uri": "https://localhost:8080/",
          "height": 245
        },
        "id": "XOYF19OLo0HD",
        "outputId": "679eb274-8011-45d6-8d97-c34217419566"
      },
      "execution_count": 16,
      "outputs": [
        {
          "output_type": "stream",
          "name": "stdout",
          "text": [
            "{100: 'Macbook', 200: 'Iphone', 300: 'Ipad'}\n",
            "{200: 'Iphone', 300: 'Ipad'}\n"
          ]
        },
        {
          "output_type": "error",
          "ename": "KeyError",
          "evalue": "ignored",
          "traceback": [
            "\u001b[0;31m---------------------------------------------------------------------------\u001b[0m",
            "\u001b[0;31mKeyError\u001b[0m                                  Traceback (most recent call last)",
            "\u001b[0;32m<ipython-input-16-bc75775bded0>\u001b[0m in \u001b[0;36m<module>\u001b[0;34m()\u001b[0m\n\u001b[1;32m      5\u001b[0m \u001b[0;32mdel\u001b[0m \u001b[0md\u001b[0m\u001b[0;34m[\u001b[0m\u001b[0;36m100\u001b[0m\u001b[0;34m]\u001b[0m\u001b[0;34m\u001b[0m\u001b[0;34m\u001b[0m\u001b[0m\n\u001b[1;32m      6\u001b[0m \u001b[0mprint\u001b[0m\u001b[0;34m(\u001b[0m\u001b[0md\u001b[0m\u001b[0;34m)\u001b[0m\u001b[0;34m\u001b[0m\u001b[0;34m\u001b[0m\u001b[0m\n\u001b[0;32m----> 7\u001b[0;31m \u001b[0;32mdel\u001b[0m \u001b[0md\u001b[0m\u001b[0;34m[\u001b[0m\u001b[0;36m400\u001b[0m\u001b[0;34m]\u001b[0m\u001b[0;34m\u001b[0m\u001b[0;34m\u001b[0m\u001b[0m\n\u001b[0m",
            "\u001b[0;31mKeyError\u001b[0m: 400"
          ]
        }
      ]
    },
    {
      "cell_type": "code",
      "source": [
        "d={100:\"Macbook\",200:\"Iphone\",300:\"Ipad\"}\n",
        "print(d)\n",
        "d.clear()\n",
        "print(d)"
      ],
      "metadata": {
        "colab": {
          "base_uri": "https://localhost:8080/"
        },
        "id": "IIWzK9tVpSgH",
        "outputId": "36a7213f-ed39-4b89-f59c-afd247f2091f"
      },
      "execution_count": 17,
      "outputs": [
        {
          "output_type": "stream",
          "name": "stdout",
          "text": [
            "{100: 'Macbook', 200: 'Iphone', 300: 'Ipad'}\n",
            "{}\n"
          ]
        }
      ]
    },
    {
      "cell_type": "code",
      "source": [
        "##  del(): To delete total dict.  namonishan mita de\n",
        "d={100:\"Macbook\",200:\"Iphone\",300:\"Ipad\"}\n",
        "print(d)\n",
        "del d\n",
        "print(d)   # we have deleted the dict hence throwing error"
      ],
      "metadata": {
        "colab": {
          "base_uri": "https://localhost:8080/",
          "height": 226
        },
        "id": "N_sGoK_TrOGr",
        "outputId": "8bcd3530-4b87-46d4-e704-47926538b48c"
      },
      "execution_count": 18,
      "outputs": [
        {
          "output_type": "stream",
          "name": "stdout",
          "text": [
            "{100: 'Macbook', 200: 'Iphone', 300: 'Ipad'}\n"
          ]
        },
        {
          "output_type": "error",
          "ename": "NameError",
          "evalue": "ignored",
          "traceback": [
            "\u001b[0;31m---------------------------------------------------------------------------\u001b[0m",
            "\u001b[0;31mNameError\u001b[0m                                 Traceback (most recent call last)",
            "\u001b[0;32m<ipython-input-18-ca0ad869bcb9>\u001b[0m in \u001b[0;36m<module>\u001b[0;34m()\u001b[0m\n\u001b[1;32m      3\u001b[0m \u001b[0mprint\u001b[0m\u001b[0;34m(\u001b[0m\u001b[0md\u001b[0m\u001b[0;34m)\u001b[0m\u001b[0;34m\u001b[0m\u001b[0;34m\u001b[0m\u001b[0m\n\u001b[1;32m      4\u001b[0m \u001b[0;32mdel\u001b[0m \u001b[0md\u001b[0m\u001b[0;34m\u001b[0m\u001b[0;34m\u001b[0m\u001b[0m\n\u001b[0;32m----> 5\u001b[0;31m \u001b[0mprint\u001b[0m\u001b[0;34m(\u001b[0m\u001b[0md\u001b[0m\u001b[0;34m)\u001b[0m \u001b[0;31m# we have deleted the dict hence throwing error\u001b[0m\u001b[0;34m\u001b[0m\u001b[0;34m\u001b[0m\u001b[0m\n\u001b[0m",
            "\u001b[0;31mNameError\u001b[0m: name 'd' is not defined"
          ]
        }
      ]
    },
    {
      "cell_type": "markdown",
      "source": [
        "# Important Functions of Dictionary:"
      ],
      "metadata": {
        "id": "OXMC44C1r_3r"
      }
    },
    {
      "cell_type": "code",
      "source": [
        "d=dict()    #1. dict(): to create a dict.\n",
        "type(d)"
      ],
      "metadata": {
        "colab": {
          "base_uri": "https://localhost:8080/"
        },
        "id": "BgS3p-b3sJ2H",
        "outputId": "82920e5c-1df7-4f74-9109-3f89a3e0c813"
      },
      "execution_count": 19,
      "outputs": [
        {
          "output_type": "execute_result",
          "data": {
            "text/plain": [
              "dict"
            ]
          },
          "metadata": {},
          "execution_count": 19
        }
      ]
    },
    {
      "cell_type": "code",
      "source": [
        "d = dict([(100,\"apple\"),(200,\"ball\"),(300,\"cat\")]) # How to add elemets inside dict function\n",
        "d"
      ],
      "metadata": {
        "colab": {
          "base_uri": "https://localhost:8080/"
        },
        "id": "AqqirSzIsnYc",
        "outputId": "5cdcccc6-c471-4ecb-a6d1-4da5e73d21cd"
      },
      "execution_count": 20,
      "outputs": [
        {
          "output_type": "execute_result",
          "data": {
            "text/plain": [
              "{100: 'apple', 200: 'ball', 300: 'cat'}"
            ]
          },
          "metadata": {},
          "execution_count": 20
        }
      ]
    },
    {
      "cell_type": "code",
      "source": [
        "len(d)  #2. len(): number of items in the dict"
      ],
      "metadata": {
        "colab": {
          "base_uri": "https://localhost:8080/"
        },
        "id": "BjlcU8MZs7Qo",
        "outputId": "7024a94e-69f2-42b4-d089-4a11954c00f0"
      },
      "execution_count": 21,
      "outputs": [
        {
          "output_type": "execute_result",
          "data": {
            "text/plain": [
              "3"
            ]
          },
          "metadata": {},
          "execution_count": 21
        }
      ]
    },
    {
      "cell_type": "code",
      "source": [
        "#3. get(): to get the value associated with the key\n",
        "'''  Syntax: d.get(key)\n",
        " If the key is available then returns the corresponding value otherwise returns None.It\n",
        " wont raise any error.'''\n",
        "d.get(100)"
      ],
      "metadata": {
        "colab": {
          "base_uri": "https://localhost:8080/",
          "height": 35
        },
        "id": "ydGypYoPtxav",
        "outputId": "107aa0b2-daff-47b5-b2b0-0e0c6bcc4164"
      },
      "execution_count": 22,
      "outputs": [
        {
          "output_type": "execute_result",
          "data": {
            "text/plain": [
              "'apple'"
            ],
            "application/vnd.google.colaboratory.intrinsic+json": {
              "type": "string"
            }
          },
          "metadata": {},
          "execution_count": 22
        }
      ]
    },
    {
      "cell_type": "markdown",
      "source": [
        "# **Home Work**"
      ],
      "metadata": {
        "id": "NbxHHKf-ZiVj"
      }
    },
    {
      "cell_type": "markdown",
      "source": [
        "## What is Palindrome"
      ],
      "metadata": {
        "id": "k8j75LusZmlm"
      }
    },
    {
      "cell_type": "code",
      "source": [
        "x = \"OYO\"\n",
        "if x==x[::-1]:\n",
        "  print(\"word is palindrome\")\n",
        "else:\n",
        "    print(\"word is not palindrome\")"
      ],
      "metadata": {
        "colab": {
          "base_uri": "https://localhost:8080/"
        },
        "id": "gDjWM9iZZuyl",
        "outputId": "1c0cd3c1-7f9c-44eb-cbe0-7f1088be8bde"
      },
      "execution_count": 1,
      "outputs": [
        {
          "output_type": "stream",
          "name": "stdout",
          "text": [
            "word is palindrome\n"
          ]
        }
      ]
    },
    {
      "cell_type": "code",
      "source": [
        "x = \"Radar\"\n",
        "if x[::-1]==x:\n",
        "  print(\"word is palindrome\")\n",
        "else:\n",
        "    print(\"word is not palindrome\")   ## Case sensitive"
      ],
      "metadata": {
        "colab": {
          "base_uri": "https://localhost:8080/"
        },
        "id": "c4u1ryKdbtlP",
        "outputId": "7242bd4d-fa0a-4638-e117-387986e2699d"
      },
      "execution_count": 4,
      "outputs": [
        {
          "output_type": "stream",
          "name": "stdout",
          "text": [
            "word is not palindrome\n"
          ]
        }
      ]
    },
    {
      "cell_type": "code",
      "source": [
        "## from user input \n",
        "x = str(input(\"Enter the Word:\"))\n",
        "\n",
        "if x==x[::-1]:\n",
        "  print(\"Entered string is palindrome\")\n",
        "\n",
        "else:\n",
        "  print(\"Entered string is not palindrome\")"
      ],
      "metadata": {
        "colab": {
          "base_uri": "https://localhost:8080/"
        },
        "id": "RdUqLU80d_O2",
        "outputId": "30ecf96f-458f-4726-dd29-a123ec5972ab"
      },
      "execution_count": 5,
      "outputs": [
        {
          "output_type": "stream",
          "name": "stdout",
          "text": [
            "Enter the Word:RadaR\n",
            "Entered string is palindrome\n"
          ]
        }
      ]
    },
    {
      "cell_type": "markdown",
      "source": [
        "## functions used to access dictionary items\n",
        "\n",
        "get(): This function returns the value for the given key\n",
        "\n",
        "keys(): This function returns a view object that displays a list of all the keys in the dictionary in order of insertion\n",
        "\n",
        "values(): This function returns a list of all the values available in a given dictionary\n",
        "\n",
        "items(): This function returns the list with all dictionary keys with values\n",
        "\n",
        "clear(): Removes all items from the dictionary\n",
        "\n",
        "copy(): Returns a shallow copy of the dictionary\n",
        "\n",
        "fromkeys(): Creates a dictionary from the given sequence\n",
        "\n",
        "pop(): Returns and removes the element with the given key\n",
        "\n",
        "popitem(): Returns and removes the key-value pair from the dictionary\n",
        "\n",
        "update(): Updates the dictionary with the elements from another dictionary\n",
        "\n",
        "\n",
        "setdefault(): Returns the value of a key if the key is in the dictionary else inserts the key with a value to the dictionary"
      ],
      "metadata": {
        "id": "zM3xrTp2e3zP"
      }
    }
  ]
}