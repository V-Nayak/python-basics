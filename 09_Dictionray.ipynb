{
  "nbformat": 4,
  "nbformat_minor": 0,
  "metadata": {
    "colab": {
      "name": "09_Dictionray.ipynb",
      "provenance": [],
      "collapsed_sections": [],
      "authorship_tag": "ABX9TyPqgMCmWf7sTWq3fvmAGVKW",
      "include_colab_link": true
    },
    "kernelspec": {
      "name": "python3",
      "display_name": "Python 3"
    },
    "language_info": {
      "name": "python"
    }
  },
  "cells": [
    {
      "cell_type": "markdown",
      "metadata": {
        "id": "view-in-github",
        "colab_type": "text"
      },
      "source": [
        "<a href=\"https://colab.research.google.com/github/V-Nayak/python-basics/blob/main/09_Dictionray.ipynb\" target=\"_parent\"><img src=\"https://colab.research.google.com/assets/colab-badge.svg\" alt=\"Open In Colab\"/></a>"
      ]
    },
    {
      "cell_type": "markdown",
      "source": [
        "# Dictionary Data Structure\n",
        "These are Pair data structures unlike set tuple or list which represent individual elemets group.\n",
        "which can be represented in the Key & value pairs which represents dynamic duplicate heterognous and mutable nature except indexing n slicing."
      ],
      "metadata": {
        "id": "_ZtnG8L1cRYn"
      }
    }
  ]
}