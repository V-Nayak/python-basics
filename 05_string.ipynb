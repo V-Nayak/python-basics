{
  "nbformat": 4,
  "nbformat_minor": 0,
  "metadata": {
    "colab": {
      "name": "05_string.ipynb",
      "provenance": [],
      "collapsed_sections": [],
      "authorship_tag": "ABX9TyOgQMhTlINQt+zt1VT6e6G+",
      "include_colab_link": true
    },
    "kernelspec": {
      "name": "python3",
      "display_name": "Python 3"
    },
    "language_info": {
      "name": "python"
    }
  },
  "cells": [
    {
      "cell_type": "markdown",
      "metadata": {
        "id": "view-in-github",
        "colab_type": "text"
      },
      "source": [
        "<a href=\"https://colab.research.google.com/github/V-Nayak/python-basics/blob/main/05_string.ipynb\" target=\"_parent\"><img src=\"https://colab.research.google.com/assets/colab-badge.svg\" alt=\"Open In Colab\"/></a>"
      ]
    },
    {
      "cell_type": "code",
      "source": [
        ""
      ],
      "metadata": {
        "id": "ubqJawpm6oS8"
      },
      "execution_count": null,
      "outputs": []
    },
    {
      "cell_type": "markdown",
      "source": [
        "# String\n",
        "\n",
        "Any sequence of characters within either single quotes or double quotes is considered as a String.\n",
        "\n",
        "We can define multi-line String literals by using triple single or double quotes.\n",
        "\n",
        "We can also use triple quotes to use single quotes or double quotes as symbol inside String literal"
      ],
      "metadata": {
        "id": "eE1owEGP6nCb"
      }
    },
    {
      "cell_type": "code",
      "source": [
        "s = 'data science and AIML'\n",
        "b = \"data\"\n",
        "a = ''' This is a \"data science\" course'''\n"
      ],
      "metadata": {
        "id": "h-a2ZOMs8kzU"
      },
      "execution_count": null,
      "outputs": []
    },
    {
      "cell_type": "markdown",
      "source": [
        "# How to access characters of a string?\n",
        "We can access characters of a string by using the following ways.\n",
        "\n",
        "1.By using index\n",
        "\n",
        "2.By using slice operator"
      ],
      "metadata": {
        "id": "XFrP7WK6A3w3"
      }
    },
    {
      "cell_type": "code",
      "source": [
        "# 1. accessing characters by using index\n",
        "s[0]\n"
      ],
      "metadata": {
        "colab": {
          "base_uri": "https://localhost:8080/",
          "height": 34
        },
        "id": "YyJWB01xDP9m",
        "outputId": "bdbf2e60-00f0-4c17-8ece-98eb0cb16f56"
      },
      "execution_count": null,
      "outputs": [
        {
          "output_type": "execute_result",
          "data": {
            "text/plain": [
              "'d'"
            ],
            "application/vnd.google.colaboratory.intrinsic+json": {
              "type": "string"
            }
          },
          "metadata": {},
          "execution_count": 3
        }
      ]
    },
    {
      "cell_type": "code",
      "source": [
        "b[-1]"
      ],
      "metadata": {
        "colab": {
          "base_uri": "https://localhost:8080/",
          "height": 34
        },
        "id": "dyUa5bpjD-JA",
        "outputId": "bb75fa2c-5fe9-4671-cfc9-9e3b37e973ca"
      },
      "execution_count": null,
      "outputs": [
        {
          "output_type": "execute_result",
          "data": {
            "text/plain": [
              "'a'"
            ],
            "application/vnd.google.colaboratory.intrinsic+json": {
              "type": "string"
            }
          },
          "metadata": {},
          "execution_count": 5
        }
      ]
    },
    {
      "cell_type": "code",
      "source": [
        "# 2. Accessing characters by using slice operator\n",
        "#  Syntax: s[begin index : end index : step]\n",
        "s=\"Learning Python is very very easy!!!\"\n",
        "s[1:7:2]"
      ],
      "metadata": {
        "colab": {
          "base_uri": "https://localhost:8080/",
          "height": 34
        },
        "id": "Hf34H6CFEMnF",
        "outputId": "4d3aef30-b8c3-4641-e0ab-4415166aa244"
      },
      "execution_count": null,
      "outputs": [
        {
          "output_type": "execute_result",
          "data": {
            "text/plain": [
              "'eri'"
            ],
            "application/vnd.google.colaboratory.intrinsic+json": {
              "type": "string"
            }
          },
          "metadata": {},
          "execution_count": 6
        }
      ]
    },
    {
      "cell_type": "code",
      "source": [
        "# 2. Accessing characters by using slice operator\n",
        "#  Syntax: s[begin index : end index : step]\n",
        "s=\"Learning Python is very very easy!!!\"\n",
        "s[1:10:3]         #if we give begin 1 and end index 2 and step morethan it..then it will give void."
      ],
      "metadata": {
        "colab": {
          "base_uri": "https://localhost:8080/",
          "height": 34
        },
        "id": "IQcfAW7vEbhw",
        "outputId": "e2c04b78-c0d0-4c8a-e2c4-decc0a2830a1"
      },
      "execution_count": null,
      "outputs": [
        {
          "output_type": "execute_result",
          "data": {
            "text/plain": [
              "'eng'"
            ],
            "application/vnd.google.colaboratory.intrinsic+json": {
              "type": "string"
            }
          },
          "metadata": {},
          "execution_count": 10
        }
      ]
    },
    {
      "cell_type": "code",
      "source": [
        "# 3. Accessing characters by using slice operator\n",
        "#  Syntax: s[begin index : end index : step]\n",
        "s=\"          Learning DD  \"\n",
        "s=s.strip()\n",
        "s[0:15:2]    #here in this output it removed front and back end sapce but not middle one."
      ],
      "metadata": {
        "colab": {
          "base_uri": "https://localhost:8080/",
          "height": 36
        },
        "id": "vHsPFeDRFAin",
        "outputId": "a01d5997-db08-4999-eef6-9c85b32ddbbb"
      },
      "execution_count": 4,
      "outputs": [
        {
          "output_type": "execute_result",
          "data": {
            "text/plain": [
              "'Lann D'"
            ],
            "application/vnd.google.colaboratory.intrinsic+json": {
              "type": "string"
            }
          },
          "metadata": {},
          "execution_count": 4
        }
      ]
    },
    {
      "cell_type": "code",
      "source": [
        "s[::]     # accessing whole with only colons"
      ],
      "metadata": {
        "colab": {
          "base_uri": "https://localhost:8080/",
          "height": 36
        },
        "id": "s3utJcVe3Xt1",
        "outputId": "cedcdc62-7d3e-4332-c29f-f1612a31f216"
      },
      "execution_count": 3,
      "outputs": [
        {
          "output_type": "execute_result",
          "data": {
            "text/plain": [
              "'Learning DD'"
            ],
            "application/vnd.google.colaboratory.intrinsic+json": {
              "type": "string"
            }
          },
          "metadata": {},
          "execution_count": 3
        }
      ]
    },
    {
      "cell_type": "code",
      "source": [
        "s[::-2]   #accessing in reverse manner "
      ],
      "metadata": {
        "colab": {
          "base_uri": "https://localhost:8080/",
          "height": 36
        },
        "id": "pqDr5j_J4BSv",
        "outputId": "b5f758b2-d99c-4ca8-de22-a6154a9ba585"
      },
      "execution_count": 6,
      "outputs": [
        {
          "output_type": "execute_result",
          "data": {
            "text/plain": [
              "'D nnaL'"
            ],
            "application/vnd.google.colaboratory.intrinsic+json": {
              "type": "string"
            }
          },
          "metadata": {},
          "execution_count": 6
        }
      ]
    },
    {
      "cell_type": "code",
      "source": [
        "# Note: Slice operator never raises IndexError\n",
        "s[1000:2:-1]"
      ],
      "metadata": {
        "colab": {
          "base_uri": "https://localhost:8080/",
          "height": 36
        },
        "id": "RIC9pHTb4XNY",
        "outputId": "ba402f5c-784a-4e48-d44b-7f23adaf3598"
      },
      "execution_count": 7,
      "outputs": [
        {
          "output_type": "execute_result",
          "data": {
            "text/plain": [
              "'DD gninr'"
            ],
            "application/vnd.google.colaboratory.intrinsic+json": {
              "type": "string"
            }
          },
          "metadata": {},
          "execution_count": 7
        }
      ]
    },
    {
      "cell_type": "markdown",
      "source": [
        "# len() in-built function"
      ],
      "metadata": {
        "id": "_Q5Nq2nh4eoM"
      }
    },
    {
      "cell_type": "code",
      "source": [
        "len(s)"
      ],
      "metadata": {
        "colab": {
          "base_uri": "https://localhost:8080/",
          "height": 0
        },
        "id": "I5j_soyh4hB6",
        "outputId": "a6f07cbb-6b1a-4e4b-aca9-aa4a2bfa6ae7"
      },
      "execution_count": 8,
      "outputs": [
        {
          "output_type": "execute_result",
          "data": {
            "text/plain": [
              "11"
            ]
          },
          "metadata": {},
          "execution_count": 8
        }
      ]
    },
    {
      "cell_type": "markdown",
      "source": [
        "## Program to access each Character of String in Forward and Backward Direction by using while Loop?"
      ],
      "metadata": {
        "id": "j3SzEUTH4nSb"
      }
    },
    {
      "cell_type": "code",
      "source": [
        "s=\"we have successfully landed in to programming arena\"\n",
        "n=len(s)\n",
        "i=0\n",
        "print(\"forward Mode\")\n",
        "while i<n:\n",
        "   print(s[i],end='')\n",
        "   i+=1\n",
        "\n",
        "print(\" \\n\\nBackward Mode\") \n",
        "i=-1\n",
        "while i>=-n:\n",
        "   print(s[i],end='')\n",
        "   i=i-1"
      ],
      "metadata": {
        "colab": {
          "base_uri": "https://localhost:8080/"
        },
        "id": "sR1v6sTF4vqj",
        "outputId": "64e0912e-ba86-47a5-cfcc-61988be097d0"
      },
      "execution_count": 25,
      "outputs": [
        {
          "output_type": "stream",
          "name": "stdout",
          "text": [
            "forward Mode\n",
            "we have successfully landed in to programming arena \n",
            "\n",
            "Backward Mode\n",
            "anera gnimmargorp ot ni dednal yllufsseccus evah ew"
          ]
        }
      ]
    },
    {
      "cell_type": "markdown",
      "source": [
        "# Checking Membership:"
      ],
      "metadata": {
        "id": "7HedqkQwKkD8"
      }
    },
    {
      "cell_type": "code",
      "source": [
        "s = \"Vinayak\"\n",
        "'d' in s"
      ],
      "metadata": {
        "colab": {
          "base_uri": "https://localhost:8080/"
        },
        "id": "lHxMa4swKmiw",
        "outputId": "3798ef4b-3a29-4ba3-af0c-1fb156b4bf6d"
      },
      "execution_count": 26,
      "outputs": [
        {
          "output_type": "execute_result",
          "data": {
            "text/plain": [
              "False"
            ]
          },
          "metadata": {},
          "execution_count": 26
        }
      ]
    },
    {
      "cell_type": "code",
      "source": [
        "s = \"Vinayak\"\n",
        "'I' in s"
      ],
      "metadata": {
        "colab": {
          "base_uri": "https://localhost:8080/"
        },
        "id": "bYWR4RKFKvos",
        "outputId": "353a9fad-81ad-4a4d-88be-db2512775532"
      },
      "execution_count": 28,
      "outputs": [
        {
          "output_type": "execute_result",
          "data": {
            "text/plain": [
              "False"
            ]
          },
          "metadata": {},
          "execution_count": 28
        }
      ]
    },
    {
      "cell_type": "code",
      "source": [
        "s = \"Vinayak\"\n",
        "'i' in s"
      ],
      "metadata": {
        "colab": {
          "base_uri": "https://localhost:8080/"
        },
        "id": "d53dReicK1ID",
        "outputId": "9cd92e28-4b66-4657-d106-f127e9ee1eae"
      },
      "execution_count": 29,
      "outputs": [
        {
          "output_type": "execute_result",
          "data": {
            "text/plain": [
              "True"
            ]
          },
          "metadata": {},
          "execution_count": 29
        }
      ]
    },
    {
      "cell_type": "markdown",
      "source": [
        "# Comparison of Strings\n",
        "We can use comparison operators (<, <=, >, >=) and equality operators (==, !=) for strings"
      ],
      "metadata": {
        "id": "vBH5V7jnK88E"
      }
    },
    {
      "cell_type": "code",
      "source": [
        "s1=input(\"Enter first string:\")\n",
        "s2=input(\"Enter Second string:\")\n",
        "if s1==s2:\n",
        "  print(\"Both strings are equal\")\n",
        "elif s1<s2:\n",
        "  print(\"First String is less than Second String\")\n",
        "else:\n",
        "  print(\"First String is greater than Second String\")    #problem arises when letters are case sensitive"
      ],
      "metadata": {
        "colab": {
          "base_uri": "https://localhost:8080/"
        },
        "id": "SPeDvKMxLC7s",
        "outputId": "642adc4a-c401-48f9-b6f8-d685dc9b28eb"
      },
      "execution_count": 36,
      "outputs": [
        {
          "output_type": "stream",
          "name": "stdout",
          "text": [
            "Enter first string:Hello\n",
            "Enter Second string:Hello\n",
            "Both strings are equal\n"
          ]
        }
      ]
    },
    {
      "cell_type": "markdown",
      "source": [
        "# Removing Spaces from the String:\n",
        "1)rstrip()-->To remove spaces at right hand side.\n",
        "\n",
        "2) lstrip()--> To remove spaces at left hand side.\n",
        "\n",
        "3) strip()-->To remove spaces both sides."
      ],
      "metadata": {
        "id": "F6iJuFmWMkHI"
      }
    },
    {
      "cell_type": "code",
      "source": [
        "city=input(\"Enter your capital:\")\n",
        "scity=city.strip()\n",
        "if scity=='Hyderabad':\n",
        "    print(\"Your state is either Telangana Or Andhrapradesh\")\n",
        "elif scity=='Chennai':\n",
        "    print(\"Your state is Tamilnadu\")\n",
        "elif scity==\"Bengalaru\":\n",
        "    print(\"Your state is Karnataka\")\n",
        "else:\n",
        "    print(\"your entered city is invalid\")      #this is also case sensitive"
      ],
      "metadata": {
        "colab": {
          "base_uri": "https://localhost:8080/"
        },
        "id": "g2LI3widMvJW",
        "outputId": "595fd25e-a71a-49ac-a50b-f43f9d8477e4"
      },
      "execution_count": 42,
      "outputs": [
        {
          "output_type": "stream",
          "name": "stdout",
          "text": [
            "Enter your capital:bengalaru\n",
            "your entered city is invalid\n"
          ]
        }
      ]
    },
    {
      "cell_type": "code",
      "source": [
        "s = \" Da ta  \"\n",
        "s.strip()      #side spaces removed not midddle one..!!"
      ],
      "metadata": {
        "colab": {
          "base_uri": "https://localhost:8080/",
          "height": 36
        },
        "id": "B9OxS33iOIUW",
        "outputId": "7196c2f9-4926-45bf-fea8-327f12a62b61"
      },
      "execution_count": 43,
      "outputs": [
        {
          "output_type": "execute_result",
          "data": {
            "text/plain": [
              "'Da ta'"
            ],
            "application/vnd.google.colaboratory.intrinsic+json": {
              "type": "string"
            }
          },
          "metadata": {},
          "execution_count": 43
        }
      ]
    },
    {
      "cell_type": "code",
      "source": [
        "s.rstrip()     #right side space reomoved"
      ],
      "metadata": {
        "colab": {
          "base_uri": "https://localhost:8080/",
          "height": 36
        },
        "id": "wwMpoaBYOWIZ",
        "outputId": "7da66ef9-eb4f-4420-aa74-b2a0f1227122"
      },
      "execution_count": 44,
      "outputs": [
        {
          "output_type": "execute_result",
          "data": {
            "text/plain": [
              "' Da ta'"
            ],
            "application/vnd.google.colaboratory.intrinsic+json": {
              "type": "string"
            }
          },
          "metadata": {},
          "execution_count": 44
        }
      ]
    },
    {
      "cell_type": "code",
      "source": [
        "s.lstrip()      #left side space reomoved"
      ],
      "metadata": {
        "colab": {
          "base_uri": "https://localhost:8080/",
          "height": 36
        },
        "id": "kvTC-6GJOcz2",
        "outputId": "fe22819a-ca58-42ee-ba4f-6d6c42cb65f6"
      },
      "execution_count": 46,
      "outputs": [
        {
          "output_type": "execute_result",
          "data": {
            "text/plain": [
              "'Da ta  '"
            ],
            "application/vnd.google.colaboratory.intrinsic+json": {
              "type": "string"
            }
          },
          "metadata": {},
          "execution_count": 46
        }
      ]
    },
    {
      "cell_type": "markdown",
      "source": [
        "# Finding Substrings:\n",
        "We can use the following 4 methods\n",
        "\n",
        "\n",
        "For forward direction:\n",
        "\n",
        "1) find()\n",
        "\n",
        "2) index()\n",
        "\n",
        "\n",
        "For backward direction:\n",
        "\n",
        "1) rfind()\n",
        "\n",
        "2) rindex()\n",
        "\n",
        "1) find()"
      ],
      "metadata": {
        "id": "LpPeZY_3Oq5X"
      }
    },
    {
      "cell_type": "code",
      "source": [
        "# find(): Returns index of first occurrence of the given substring. If it is not available then we will\n",
        "# get -1.\n",
        "s=\"data science is Not fun\"\n",
        "s.find(\"data\") #0th index"
      ],
      "metadata": {
        "colab": {
          "base_uri": "https://localhost:8080/"
        },
        "id": "jM041LHzOx3O",
        "outputId": "082a016f-2a4a-4da4-84ad-9be7f91635b2"
      },
      "execution_count": 47,
      "outputs": [
        {
          "output_type": "execute_result",
          "data": {
            "text/plain": [
              "0"
            ]
          },
          "metadata": {},
          "execution_count": 47
        }
      ]
    },
    {
      "cell_type": "code",
      "source": [
        "s=\"data science is Not fun\"\n",
        "s.find(\"fun\")"
      ],
      "metadata": {
        "colab": {
          "base_uri": "https://localhost:8080/"
        },
        "id": "BQ9tOoa4PCsA",
        "outputId": "d0fe4889-f378-4eda-d37f-501ac8617b8a"
      },
      "execution_count": 48,
      "outputs": [
        {
          "output_type": "execute_result",
          "data": {
            "text/plain": [
              "20"
            ]
          },
          "metadata": {},
          "execution_count": 48
        }
      ]
    },
    {
      "cell_type": "code",
      "source": [
        "# syntax: s.find(substring,bEgin,end)\n",
        "s.find(\"a\",0,22)"
      ],
      "metadata": {
        "colab": {
          "base_uri": "https://localhost:8080/"
        },
        "id": "NwnIh41FPbVL",
        "outputId": "46babc6a-27d2-49ee-9a42-9e7432f64a04"
      },
      "execution_count": 49,
      "outputs": [
        {
          "output_type": "execute_result",
          "data": {
            "text/plain": [
              "1"
            ]
          },
          "metadata": {},
          "execution_count": 49
        }
      ]
    },
    {
      "cell_type": "code",
      "source": [
        "# syntax: s.find(substring,bEgin,end)\n",
        "s.find(\"Z\",0,22)"
      ],
      "metadata": {
        "colab": {
          "base_uri": "https://localhost:8080/"
        },
        "id": "dfBAPesKQTuE",
        "outputId": "eb261f22-9903-47fd-808b-a21c477504cc"
      },
      "execution_count": 50,
      "outputs": [
        {
          "output_type": "execute_result",
          "data": {
            "text/plain": [
              "-1"
            ]
          },
          "metadata": {},
          "execution_count": 50
        }
      ]
    },
    {
      "cell_type": "markdown",
      "source": [
        "## 2)index()\n",
        "\n",
        "index() method is exactly same as find() method except that if the specified substring is not available then we will get ValueError"
      ],
      "metadata": {
        "id": "nxh3yfM1QM4W"
      }
    },
    {
      "cell_type": "code",
      "source": [
        "# we will get a error if the substring is not available\n",
        "s.index('m')"
      ],
      "metadata": {
        "colab": {
          "base_uri": "https://localhost:8080/",
          "height": 182
        },
        "id": "qJ-pju9NQgMs",
        "outputId": "7530313d-6c35-4689-afe0-0f348db17a4e"
      },
      "execution_count": 51,
      "outputs": [
        {
          "output_type": "error",
          "ename": "ValueError",
          "evalue": "ignored",
          "traceback": [
            "\u001b[0;31m---------------------------------------------------------------------------\u001b[0m",
            "\u001b[0;31mValueError\u001b[0m                                Traceback (most recent call last)",
            "\u001b[0;32m<ipython-input-51-723cdd428aa2>\u001b[0m in \u001b[0;36m<module>\u001b[0;34m()\u001b[0m\n\u001b[1;32m      1\u001b[0m \u001b[0;31m# we will get a error if the substring is not available\u001b[0m\u001b[0;34m\u001b[0m\u001b[0;34m\u001b[0m\u001b[0;34m\u001b[0m\u001b[0m\n\u001b[0;32m----> 2\u001b[0;31m \u001b[0ms\u001b[0m\u001b[0;34m.\u001b[0m\u001b[0mindex\u001b[0m\u001b[0;34m(\u001b[0m\u001b[0;34m'm'\u001b[0m\u001b[0;34m)\u001b[0m\u001b[0;34m\u001b[0m\u001b[0;34m\u001b[0m\u001b[0m\n\u001b[0m",
            "\u001b[0;31mValueError\u001b[0m: substring not found"
          ]
        }
      ]
    },
    {
      "cell_type": "code",
      "source": [
        "s.index('a')"
      ],
      "metadata": {
        "colab": {
          "base_uri": "https://localhost:8080/"
        },
        "id": "KYlN3C4UQnL-",
        "outputId": "17b582a2-3868-4b74-cdcd-f09b2c56cffc"
      },
      "execution_count": 52,
      "outputs": [
        {
          "output_type": "execute_result",
          "data": {
            "text/plain": [
              "1"
            ]
          },
          "metadata": {},
          "execution_count": 52
        }
      ]
    },
    {
      "cell_type": "markdown",
      "source": [
        "## Program to display all Positions of Substring in a given Main String"
      ],
      "metadata": {
        "id": "g1SBYS9dQrXx"
      }
    },
    {
      "cell_type": "code",
      "source": [
        "s=input(\"Entermainstring:\")\n",
        "subs=input(\"Entersubstring:\")\n",
        "flag=False\n",
        "pos=-1\n",
        "n=len(s)\n",
        "while True:\n",
        "  pos=s.find(subs,pos+1,n)\n",
        "  if pos==-1:\n",
        "    break\n",
        "  print(\"Found at position\",pos)\n",
        "  flag=True\n",
        "if flag==False:\n",
        "  print(\"Not Found\")          #it gives index position..so its better to find ind characters.. #Also case sensitive... if wrong case then ans will not found"
      ],
      "metadata": {
        "colab": {
          "base_uri": "https://localhost:8080/"
        },
        "id": "TX4yGGYTQvTQ",
        "outputId": "ca97046f-2904-4166-91fb-0f3e969d5c2d"
      },
      "execution_count": 57,
      "outputs": [
        {
          "output_type": "stream",
          "name": "stdout",
          "text": [
            "Entermainstring:Data Science\n",
            "Entersubstring:Science\n",
            "Found at position 5\n"
          ]
        }
      ]
    },
    {
      "cell_type": "code",
      "source": [
        "s=input(\"Entermainstring:\")\n",
        "subs=input(\"Entersubstring:\")\n",
        "flag=False\n",
        "pos=-1\n",
        "n=len(s)\n",
        "while True:\n",
        "  pos=s.find(subs,pos+1,n)\n",
        "  if pos==-1:\n",
        "    break\n",
        "  print(\"Found at position\",pos)\n",
        "  flag=True\n",
        "if flag==False:\n",
        "  print(\"Not Found\") "
      ],
      "metadata": {
        "colab": {
          "base_uri": "https://localhost:8080/"
        },
        "id": "PqlxGdB0SiuA",
        "outputId": "2bcbb681-8aa0-4b5b-cc88-b9f1ab2285cb"
      },
      "execution_count": 58,
      "outputs": [
        {
          "output_type": "stream",
          "name": "stdout",
          "text": [
            "Entermainstring:1233245234564746\n",
            "Entersubstring:2\n",
            "Found at position 1\n",
            "Found at position 4\n",
            "Found at position 7\n"
          ]
        }
      ]
    },
    {
      "cell_type": "markdown",
      "source": [
        "# Count substring in the given String:\n",
        "We can find the number of occurrences of substring present in the given string by using count() method.\n",
        "\n",
        "s.count(substring)-->It will search through out the string.\n",
        "\n",
        "s.count(substring, bEgin, end)-->It will search from bEgin index to end-1 index"
      ],
      "metadata": {
        "id": "XyZFUF22Sq_Y"
      }
    },
    {
      "cell_type": "code",
      "source": [
        "s=\"abcabcabcabcadda\"\n",
        "print(s.count('a'))"
      ],
      "metadata": {
        "colab": {
          "base_uri": "https://localhost:8080/"
        },
        "id": "xwSx6M0qSzPX",
        "outputId": "d91d62ab-5e44-4903-a166-d8b01af0a1eb"
      },
      "execution_count": 59,
      "outputs": [
        {
          "output_type": "stream",
          "name": "stdout",
          "text": [
            "6\n"
          ]
        }
      ]
    },
    {
      "cell_type": "markdown",
      "source": [
        "# Replacing a String with another String:\n",
        "s.replace(oldstring, newstring)\n",
        "\n",
        "Inside s, every occurrence of old String will be replaced with new String"
      ],
      "metadata": {
        "id": "-b7p8q2DTCMx"
      }
    },
    {
      "cell_type": "code",
      "source": [
        "s = \"Learning Python is very difficult\"\n",
        "s1 = s.replace(\"difficult\",\"easy\")\n",
        "print(s1)"
      ],
      "metadata": {
        "colab": {
          "base_uri": "https://localhost:8080/"
        },
        "id": "SAm4UOWuTEjR",
        "outputId": "574dedb3-5f48-476c-acab-5289ed1f64cf"
      },
      "execution_count": 62,
      "outputs": [
        {
          "output_type": "stream",
          "name": "stdout",
          "text": [
            "Learning Python is very easy\n"
          ]
        }
      ]
    },
    {
      "cell_type": "code",
      "source": [
        "s = \"Learning Python is very difficult\"\n",
        "s1 = s.replace(\"difficult\",\"easy\")\n",
        "print(s1)\n",
        "s2 = s1.replace(\"is\",\"will be\")\n",
        "print(s2)\n",
        "print(s)        ## here we havnt made changes to original s..we can find out that from their respective ids\n"
      ],
      "metadata": {
        "colab": {
          "base_uri": "https://localhost:8080/"
        },
        "id": "XSa-QyfJTXcF",
        "outputId": "a69c2bca-2364-415a-db0b-2c9ed3a4507c"
      },
      "execution_count": 66,
      "outputs": [
        {
          "output_type": "stream",
          "name": "stdout",
          "text": [
            "Learning Python is very easy\n",
            "Learning Python will be very easy\n",
            "Learning Python is very difficult\n"
          ]
        }
      ]
    },
    {
      "cell_type": "code",
      "source": [
        "s = \"Learning Python is very difficult\"\n",
        "print(s)\n",
        "s = s.replace(\"difficult\",\"easy\")\n",
        "print(s)              ## here we made changes at same location "
      ],
      "metadata": {
        "colab": {
          "base_uri": "https://localhost:8080/"
        },
        "id": "UlcXqW1QUDZD",
        "outputId": "9c1db0e5-98a5-473b-a389-ebb3c1a7db70"
      },
      "execution_count": 67,
      "outputs": [
        {
          "output_type": "stream",
          "name": "stdout",
          "text": [
            "Learning Python is very difficult\n",
            "Learning Python is very easy\n"
          ]
        }
      ]
    },
    {
      "cell_type": "markdown",
      "source": [
        "# Splitting of Strings:\n",
        "We can split the given string according to specified seperator by using split() method.\n",
        "\n",
        "Syntax: l = s.split(seperator)\n",
        "\n"
      ],
      "metadata": {
        "id": "9R_ceuW3UiFj"
      }
    },
    {
      "cell_type": "code",
      "source": [
        "s=\"19-04-2022\"\n",
        "l=s.split('-')\n",
        "for x in l:\n",
        "  print(x,end=' ')"
      ],
      "metadata": {
        "colab": {
          "base_uri": "https://localhost:8080/"
        },
        "id": "81Bbz7QGUkhM",
        "outputId": "7ac9fd7f-07cf-4b1a-d547-b8f332d7e5e6"
      },
      "execution_count": 72,
      "outputs": [
        {
          "output_type": "stream",
          "name": "stdout",
          "text": [
            "19 04 2022 "
          ]
        }
      ]
    },
    {
      "cell_type": "code",
      "source": [
        "s=\"19-04-2022\"\n",
        "l=s.split('-')\n",
        "for x in l:\n",
        "  print(x)"
      ],
      "metadata": {
        "colab": {
          "base_uri": "https://localhost:8080/"
        },
        "id": "Yh-PPD9rVB-S",
        "outputId": "c94ed725-88b5-4546-89cb-fc7b580ed3ff"
      },
      "execution_count": 73,
      "outputs": [
        {
          "output_type": "stream",
          "name": "stdout",
          "text": [
            "19\n",
            "04\n",
            "2022\n"
          ]
        }
      ]
    },
    {
      "cell_type": "code",
      "source": [
        "l"
      ],
      "metadata": {
        "colab": {
          "base_uri": "https://localhost:8080/"
        },
        "id": "d7Lg0oE5SczE",
        "outputId": "25327ca6-b04b-49f2-8e06-61219823e92a"
      },
      "execution_count": 75,
      "outputs": [
        {
          "output_type": "execute_result",
          "data": {
            "text/plain": [
              "['19', '04', '2022']"
            ]
          },
          "metadata": {},
          "execution_count": 75
        }
      ]
    },
    {
      "cell_type": "markdown",
      "source": [
        "# Joining Of Strings:\n",
        "s = seperator.join(group of strings)"
      ],
      "metadata": {
        "id": "JF7SlDQHVu42"
      }
    },
    {
      "cell_type": "code",
      "source": [
        "list1= [\"data\",\"science\",\"ai\"]\n",
        "\"-\".join(list1)         ##how to join them at sepcific locations."
      ],
      "metadata": {
        "colab": {
          "base_uri": "https://localhost:8080/",
          "height": 36
        },
        "id": "G0OSE-X7VxH2",
        "outputId": "34b9d7ff-ff45-46e0-a580-8af027d6472c"
      },
      "execution_count": 76,
      "outputs": [
        {
          "output_type": "execute_result",
          "data": {
            "text/plain": [
              "'data-science-ai'"
            ],
            "application/vnd.google.colaboratory.intrinsic+json": {
              "type": "string"
            }
          },
          "metadata": {},
          "execution_count": 76
        }
      ]
    },
    {
      "cell_type": "markdown",
      "source": [
        "# Changing the case of a string:\n",
        "upper()-->To convert all characters to upper case.\n",
        "\n",
        "lower()-->To convert all characters to lower case.\n",
        "\n",
        "swapcase() --> Converts all lower case characters to upper case and all upper case characters to lower case\n",
        "\n",
        "title() --> To convert all character to title case. i.e first character in every word should be upper case and all remaining characters should be in lower case.\n",
        "\n",
        "capitalize() --> Only first character will be converted to upper case and all remaining characters can be converted to lower case."
      ],
      "metadata": {
        "id": "4RftwjFqWUDo"
      }
    },
    {
      "cell_type": "code",
      "source": [
        "s='learning Python is very Easy'\n",
        "print(s.upper())\n",
        "print(s.lower())\n",
        "print(s.swapcase())\n",
        "print(s.title())\n",
        "print(s.capitalize())"
      ],
      "metadata": {
        "colab": {
          "base_uri": "https://localhost:8080/"
        },
        "id": "wgqLnkckWX0_",
        "outputId": "06a962f0-9f03-484c-b43d-cd3f18dcbde7"
      },
      "execution_count": 77,
      "outputs": [
        {
          "output_type": "stream",
          "name": "stdout",
          "text": [
            "LEARNING PYTHON IS VERY EASY\n",
            "learning python is very easy\n",
            "LEARNING pYTHON IS VERY eASY\n",
            "Learning Python Is Very Easy\n",
            "Learning python is very easy\n"
          ]
        }
      ]
    },
    {
      "cell_type": "code",
      "source": [
        "s='learning Python is very Easy'    ## Prgram to make alternate letters Upper case and lower case.\n",
        "n=len(s)\n",
        "i=0\n",
        "while \n",
        "print(s.upper())"
      ],
      "metadata": {
        "id": "apzr-3VjWfhD"
      },
      "execution_count": null,
      "outputs": []
    },
    {
      "cell_type": "markdown",
      "source": [
        "# Checking Starting and Ending Part of the String:\n",
        "Python contains the following methods for this purpose.\n",
        "\n",
        "s.startswith(substring)\n",
        "\n",
        "s.endswith(substring)"
      ],
      "metadata": {
        "id": "ij-9LAm8XbUo"
      }
    },
    {
      "cell_type": "code",
      "source": [
        "s='learning Python is very easy'\n",
        "print(s.startswith('learning'))\n",
        "print(s.endswith('learning'))\n",
        "print(s.endswith('easy'))"
      ],
      "metadata": {
        "colab": {
          "base_uri": "https://localhost:8080/"
        },
        "id": "uz4u5SAbXf3J",
        "outputId": "ff5af201-006a-4e59-a1d3-d1bb8fd8d881"
      },
      "execution_count": 79,
      "outputs": [
        {
          "output_type": "stream",
          "name": "stdout",
          "text": [
            "True\n",
            "False\n",
            "True\n"
          ]
        }
      ]
    },
    {
      "cell_type": "markdown",
      "source": [
        "# To Check Type of Characters Present in a String:\n",
        "\n",
        "Python contains the following methods for this purpose.\n",
        "\n",
        "isalnum(): Returns True if all characters are alphanumeric( a to z , A to Z ,0 to9 ).\n",
        "\n",
        "isalpha(): Returns True if all characters are only alphabet symbols(a to z,A to Z)\n",
        "\n",
        "isdigit(): Returns True if all characters are digits only( 0 to 9)\n",
        "\n",
        "islower(): Returns True if all characters are lower case alphabet symbols\n",
        "\n",
        "isupper(): Returns True if all characters are upper case aplhabet symbols\n",
        "\n",
        "istitle(): Returns True if string is in title case\n",
        "\n",
        "isspace(): Returns True if string contains only spaces"
      ],
      "metadata": {
        "id": "xy2oLIaXX26n"
      }
    },
    {
      "cell_type": "code",
      "source": [
        "print('Datascience786'.isalnum()) # True"
      ],
      "metadata": {
        "colab": {
          "base_uri": "https://localhost:8080/"
        },
        "id": "mcCOrMg-YAXF",
        "outputId": "9cbfb022-d6fe-4da3-d558-21c1625d6c46"
      },
      "execution_count": 80,
      "outputs": [
        {
          "output_type": "stream",
          "name": "stdout",
          "text": [
            "True\n"
          ]
        }
      ]
    },
    {
      "cell_type": "code",
      "source": [
        "print('Datascience786'.isalpha())   istitle()"
      ],
      "metadata": {
        "colab": {
          "base_uri": "https://localhost:8080/"
        },
        "id": "_rq4Lcw7YG3t",
        "outputId": "de24515f-9bb3-4af3-e607-a41a7aff2362"
      },
      "execution_count": 81,
      "outputs": [
        {
          "output_type": "stream",
          "name": "stdout",
          "text": [
            "False\n"
          ]
        }
      ]
    },
    {
      "cell_type": "code",
      "source": [
        "print('Datascience786'.istitle())"
      ],
      "metadata": {
        "colab": {
          "base_uri": "https://localhost:8080/"
        },
        "id": "zA-_JyKQYSaz",
        "outputId": "8d1e0271-6573-4077-a45e-6db6b20c80dc"
      },
      "execution_count": 82,
      "outputs": [
        {
          "output_type": "stream",
          "name": "stdout",
          "text": [
            "True\n"
          ]
        }
      ]
    },
    {
      "cell_type": "markdown",
      "source": [
        "# Formatting the Strings:\n",
        "We can format the strings with variable values by using replacement operator {} and format() method."
      ],
      "metadata": {
        "id": "rCNduUTSYlQo"
      }
    },
    {
      "cell_type": "code",
      "source": [
        "name='Mr VP'\n",
        "salary=100000\n",
        "age=32 \n",
        "print(\"{}'s salary is {} and his age is {}\".format(name,salary,age))\n",
        "print(\"{0}'s salary is {1} and his age is {2}\".format(name,salary,age))\n",
        "print(\"{x}'s salary is {y} and his age is {z}\".format(z=age,y=salary,x=name))"
      ],
      "metadata": {
        "colab": {
          "base_uri": "https://localhost:8080/"
        },
        "id": "pAUABHr1YpAD",
        "outputId": "4a85bbc7-7899-4874-fc9c-8d65b6bd9af8"
      },
      "execution_count": 85,
      "outputs": [
        {
          "output_type": "stream",
          "name": "stdout",
          "text": [
            "Mr VP's salary is 100000 and his age is 32\n",
            "Mr VP's salary is 100000 and his age is 32\n",
            "Mr VP's salary is 100000 and his age is 32\n"
          ]
        }
      ]
    },
    {
      "cell_type": "markdown",
      "source": [
        "# a Program to Reverse the given String"
      ],
      "metadata": {
        "id": "N-TcQ1o0ZIAF"
      }
    },
    {
      "cell_type": "code",
      "source": [
        "s=input(\"EnterSomeString:\")\n",
        "print(s[::-1])"
      ],
      "metadata": {
        "colab": {
          "base_uri": "https://localhost:8080/"
        },
        "id": "iQX_NggcZLN3",
        "outputId": "2f94debd-b231-45a0-d25b-a86052a0201b"
      },
      "execution_count": 86,
      "outputs": [
        {
          "output_type": "stream",
          "name": "stdout",
          "text": [
            "EnterSomeString:Nayak\n",
            "kayaN\n"
          ]
        }
      ]
    },
    {
      "cell_type": "code",
      "source": [
        "s= 'kayaN'\n",
        "''.join(reversed(s))"
      ],
      "metadata": {
        "colab": {
          "base_uri": "https://localhost:8080/",
          "height": 36
        },
        "id": "PToPMozqZSmC",
        "outputId": "043e0674-537e-47e8-ce2c-08a83638df10"
      },
      "execution_count": 87,
      "outputs": [
        {
          "output_type": "execute_result",
          "data": {
            "text/plain": [
              "'Nayak'"
            ],
            "application/vnd.google.colaboratory.intrinsic+json": {
              "type": "string"
            }
          },
          "metadata": {},
          "execution_count": 87
        }
      ]
    },
    {
      "cell_type": "markdown",
      "source": [
        "## Q2) Program to Reverse Order of Words\n",
        "\n",
        "Input: Learning Python is very Easy\n",
        "\n",
        "Output: Easy Very is Python Learning"
      ],
      "metadata": {
        "id": "whkKPxxtZeSE"
      }
    },
    {
      "cell_type": "code",
      "source": [
        "s='Easy very is Python Learning'\n",
        "l=s.split()\n",
        "l1=[]\n",
        "i=len(l)-1\n",
        "while i>=0:\n",
        "  l1.append(l[i])\n",
        "  i=i-1\n",
        "output=' '.join(l1)\n",
        "print(output)"
      ],
      "metadata": {
        "colab": {
          "base_uri": "https://localhost:8080/"
        },
        "id": "eusfjjz2ZhGL",
        "outputId": "2de3d8f9-ce02-47b3-ed1c-b845fa3e5ace"
      },
      "execution_count": 89,
      "outputs": [
        {
          "output_type": "stream",
          "name": "stdout",
          "text": [
            "Learning Python is very Easy\n"
          ]
        }
      ]
    },
    {
      "cell_type": "markdown",
      "source": [
        "# Q3) Write a Program to Remove Duplicate Characters from the given Input String?\n",
        "\n",
        "Input: 12313134412431234dfdADSadsadDAD\n",
        "\n",
        "Output: 1234dfADSas"
      ],
      "metadata": {
        "id": "nX5JovzOZ3Cm"
      }
    },
    {
      "cell_type": "code",
      "source": [
        "s=input(\"EnterSomeString:\")\n",
        "l=[]\n",
        "for x in s:\n",
        "  if x not in l:\n",
        "     l.append(x)\n",
        "output=''.join(l)\n",
        "print(output)"
      ],
      "metadata": {
        "colab": {
          "base_uri": "https://localhost:8080/"
        },
        "id": "6PeOQkILaBW_",
        "outputId": "64ef5868-1ed0-443d-e5f2-925b566574e9"
      },
      "execution_count": 90,
      "outputs": [
        {
          "output_type": "stream",
          "name": "stdout",
          "text": [
            "EnterSomeString:12313134412431234dfdADSadsadDAD\n",
            "1234dfADSas\n"
          ]
        }
      ]
    },
    {
      "cell_type": "markdown",
      "source": [
        "##Program to find the Number of Occurrences of each Character present in the given String?\n",
        "\n",
        "Input:KMLKKKKMLKMLK\n",
        "\n",
        "OUTPUT\n",
        "K = 7 Times\n",
        "M = 3 Times\n",
        "L = 3 Times"
      ],
      "metadata": {
        "id": "mMQ7836TaTaK"
      }
    },
    {
      "cell_type": "code",
      "source": [
        ""
      ],
      "metadata": {
        "id": "VKxKO-HHbKRo"
      },
      "execution_count": null,
      "outputs": []
    },
    {
      "cell_type": "code",
      "source": [
        "s=input(\"Enter Some String:\")\n",
        "d={}\n",
        "for x in s:\n",
        "  if x in d.keys():\n",
        "     d[x]=d[x]+1\n",
        "  else:\n",
        "     d[x]=1\n",
        "for k,v in d.items():\n",
        "   print(\"{} = {} Times\".format(k,v))"
      ],
      "metadata": {
        "colab": {
          "base_uri": "https://localhost:8080/"
        },
        "id": "KA8vx41taZpt",
        "outputId": "3e917d6b-e42c-44f0-e05d-aff2cabefc0a"
      },
      "execution_count": 91,
      "outputs": [
        {
          "output_type": "stream",
          "name": "stdout",
          "text": [
            "Enter Some String:KMLKKKKMLKMLK\n",
            "K = 7 Times\n",
            "M = 3 Times\n",
            "L = 3 Times\n"
          ]
        }
      ]
    },
    {
      "cell_type": "code",
      "source": [
        "s=\"aaasssddd\"      ## ALTERNATIVE TO ABOVE METHOD....need to serch more about this.\n",
        "\n",
        "d={}\n",
        "for x in s:\n",
        "  if x in d.keys():\n",
        "     d[x]=d[x]+1\n",
        "  else:\n",
        "     d[x]=1\n",
        "\n",
        "     "
      ],
      "metadata": {
        "id": "8zOxoghebLqB"
      },
      "execution_count": 96,
      "outputs": []
    },
    {
      "cell_type": "code",
      "source": [
        "d"
      ],
      "metadata": {
        "colab": {
          "base_uri": "https://localhost:8080/"
        },
        "id": "vju242BHbaEJ",
        "outputId": "96db3b60-75a3-4985-9d7b-90222db791f9"
      },
      "execution_count": 97,
      "outputs": [
        {
          "output_type": "execute_result",
          "data": {
            "text/plain": [
              "{'a': 3, 'd': 3, 's': 3}"
            ]
          },
          "metadata": {},
          "execution_count": 97
        }
      ]
    },
    {
      "cell_type": "code",
      "source": [
        "s=\"19-04-2022\"\n",
        "l=s.split('-')\n",
        "for x in l:  \n",
        "  print('\\nx')     ## how to take to new line with extra sapce coamparig to erlier line ...need to know more about spacing that to new line"
      ],
      "metadata": {
        "colab": {
          "base_uri": "https://localhost:8080/"
        },
        "id": "jUx86Iztbo1H",
        "outputId": "79554ea9-d20a-4204-f6c9-c17969f42241"
      },
      "execution_count": 98,
      "outputs": [
        {
          "output_type": "stream",
          "name": "stdout",
          "text": [
            "\n",
            "x\n",
            "\n",
            "x\n",
            "\n",
            "x\n"
          ]
        }
      ]
    }
  ]
}