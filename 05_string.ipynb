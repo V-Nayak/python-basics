{
  "nbformat": 4,
  "nbformat_minor": 0,
  "metadata": {
    "colab": {
      "name": "05_string.ipynb",
      "provenance": [],
      "collapsed_sections": [],
      "authorship_tag": "ABX9TyProDtFl76yO/llhAP6mt/U",
      "include_colab_link": true
    },
    "kernelspec": {
      "name": "python3",
      "display_name": "Python 3"
    },
    "language_info": {
      "name": "python"
    }
  },
  "cells": [
    {
      "cell_type": "markdown",
      "metadata": {
        "id": "view-in-github",
        "colab_type": "text"
      },
      "source": [
        "<a href=\"https://colab.research.google.com/github/V-Nayak/python-basics/blob/main/05_string.ipynb\" target=\"_parent\"><img src=\"https://colab.research.google.com/assets/colab-badge.svg\" alt=\"Open In Colab\"/></a>"
      ]
    },
    {
      "cell_type": "code",
      "source": [
        ""
      ],
      "metadata": {
        "id": "ubqJawpm6oS8"
      },
      "execution_count": null,
      "outputs": []
    },
    {
      "cell_type": "markdown",
      "source": [
        "# String\n",
        "\n",
        "Any sequence of characters within either single quotes or double quotes is considered as a String.\n",
        "\n",
        "We can define multi-line String literals by using triple single or double quotes.\n",
        "\n",
        "We can also use triple quotes to use single quotes or double quotes as symbol inside String literal"
      ],
      "metadata": {
        "id": "eE1owEGP6nCb"
      }
    },
    {
      "cell_type": "code",
      "source": [
        "s = 'data science and AIML'\n",
        "b = \"data\"\n",
        "a = ''' This is a \"data science\" course'''\n"
      ],
      "metadata": {
        "id": "h-a2ZOMs8kzU"
      },
      "execution_count": null,
      "outputs": []
    },
    {
      "cell_type": "markdown",
      "source": [
        "# How to access characters of a string?\n",
        "We can access characters of a string by using the following ways.\n",
        "\n",
        "1.By using index\n",
        "\n",
        "2.By using slice operator"
      ],
      "metadata": {
        "id": "XFrP7WK6A3w3"
      }
    },
    {
      "cell_type": "code",
      "source": [
        "# 1. accessing characters by using index\n",
        "s[0]\n"
      ],
      "metadata": {
        "colab": {
          "base_uri": "https://localhost:8080/",
          "height": 34
        },
        "id": "YyJWB01xDP9m",
        "outputId": "bdbf2e60-00f0-4c17-8ece-98eb0cb16f56"
      },
      "execution_count": null,
      "outputs": [
        {
          "output_type": "execute_result",
          "data": {
            "text/plain": [
              "'d'"
            ],
            "application/vnd.google.colaboratory.intrinsic+json": {
              "type": "string"
            }
          },
          "metadata": {},
          "execution_count": 3
        }
      ]
    },
    {
      "cell_type": "code",
      "source": [
        "b[-1]"
      ],
      "metadata": {
        "colab": {
          "base_uri": "https://localhost:8080/",
          "height": 34
        },
        "id": "dyUa5bpjD-JA",
        "outputId": "bb75fa2c-5fe9-4671-cfc9-9e3b37e973ca"
      },
      "execution_count": null,
      "outputs": [
        {
          "output_type": "execute_result",
          "data": {
            "text/plain": [
              "'a'"
            ],
            "application/vnd.google.colaboratory.intrinsic+json": {
              "type": "string"
            }
          },
          "metadata": {},
          "execution_count": 5
        }
      ]
    },
    {
      "cell_type": "code",
      "source": [
        "# 2. Accessing characters by using slice operator\n",
        "#  Syntax: s[begin index : end index : step]\n",
        "s=\"Learning Python is very very easy!!!\"\n",
        "s[1:7:2]"
      ],
      "metadata": {
        "colab": {
          "base_uri": "https://localhost:8080/",
          "height": 34
        },
        "id": "Hf34H6CFEMnF",
        "outputId": "4d3aef30-b8c3-4641-e0ab-4415166aa244"
      },
      "execution_count": null,
      "outputs": [
        {
          "output_type": "execute_result",
          "data": {
            "text/plain": [
              "'eri'"
            ],
            "application/vnd.google.colaboratory.intrinsic+json": {
              "type": "string"
            }
          },
          "metadata": {},
          "execution_count": 6
        }
      ]
    },
    {
      "cell_type": "code",
      "source": [
        "# 2. Accessing characters by using slice operator\n",
        "#  Syntax: s[begin index : end index : step]\n",
        "s=\"Learning Python is very very easy!!!\"\n",
        "s[1:10:3]         #if we give begin 1 and end index 2 and step morethan it..then it will give void."
      ],
      "metadata": {
        "colab": {
          "base_uri": "https://localhost:8080/",
          "height": 34
        },
        "id": "IQcfAW7vEbhw",
        "outputId": "e2c04b78-c0d0-4c8a-e2c4-decc0a2830a1"
      },
      "execution_count": null,
      "outputs": [
        {
          "output_type": "execute_result",
          "data": {
            "text/plain": [
              "'eng'"
            ],
            "application/vnd.google.colaboratory.intrinsic+json": {
              "type": "string"
            }
          },
          "metadata": {},
          "execution_count": 10
        }
      ]
    },
    {
      "cell_type": "code",
      "source": [
        "# 3. Accessing characters by using slice operator\n",
        "#  Syntax: s[begin index : end index : step]\n",
        "s=\"          Learning DD  \"\n",
        "s=s.strip()\n",
        "s[0:15:2]    #here in this output it removed front and back end sapce but not middle one."
      ],
      "metadata": {
        "colab": {
          "base_uri": "https://localhost:8080/",
          "height": 36
        },
        "id": "vHsPFeDRFAin",
        "outputId": "a01d5997-db08-4999-eef6-9c85b32ddbbb"
      },
      "execution_count": 4,
      "outputs": [
        {
          "output_type": "execute_result",
          "data": {
            "text/plain": [
              "'Lann D'"
            ],
            "application/vnd.google.colaboratory.intrinsic+json": {
              "type": "string"
            }
          },
          "metadata": {},
          "execution_count": 4
        }
      ]
    },
    {
      "cell_type": "code",
      "source": [
        "s[::]     # accessing whole with only colons"
      ],
      "metadata": {
        "colab": {
          "base_uri": "https://localhost:8080/",
          "height": 36
        },
        "id": "s3utJcVe3Xt1",
        "outputId": "cedcdc62-7d3e-4332-c29f-f1612a31f216"
      },
      "execution_count": 3,
      "outputs": [
        {
          "output_type": "execute_result",
          "data": {
            "text/plain": [
              "'Learning DD'"
            ],
            "application/vnd.google.colaboratory.intrinsic+json": {
              "type": "string"
            }
          },
          "metadata": {},
          "execution_count": 3
        }
      ]
    },
    {
      "cell_type": "code",
      "source": [
        "s[::-2]   #accessing in reverse manner "
      ],
      "metadata": {
        "colab": {
          "base_uri": "https://localhost:8080/",
          "height": 36
        },
        "id": "pqDr5j_J4BSv",
        "outputId": "b5f758b2-d99c-4ca8-de22-a6154a9ba585"
      },
      "execution_count": 6,
      "outputs": [
        {
          "output_type": "execute_result",
          "data": {
            "text/plain": [
              "'D nnaL'"
            ],
            "application/vnd.google.colaboratory.intrinsic+json": {
              "type": "string"
            }
          },
          "metadata": {},
          "execution_count": 6
        }
      ]
    },
    {
      "cell_type": "code",
      "source": [
        "# Note: Slice operator never raises IndexError\n",
        "s[1000:2:-1]"
      ],
      "metadata": {
        "colab": {
          "base_uri": "https://localhost:8080/",
          "height": 36
        },
        "id": "RIC9pHTb4XNY",
        "outputId": "ba402f5c-784a-4e48-d44b-7f23adaf3598"
      },
      "execution_count": 7,
      "outputs": [
        {
          "output_type": "execute_result",
          "data": {
            "text/plain": [
              "'DD gninr'"
            ],
            "application/vnd.google.colaboratory.intrinsic+json": {
              "type": "string"
            }
          },
          "metadata": {},
          "execution_count": 7
        }
      ]
    },
    {
      "cell_type": "markdown",
      "source": [
        "# len() in-built function"
      ],
      "metadata": {
        "id": "_Q5Nq2nh4eoM"
      }
    },
    {
      "cell_type": "code",
      "source": [
        "len(s)"
      ],
      "metadata": {
        "colab": {
          "base_uri": "https://localhost:8080/",
          "height": 0
        },
        "id": "I5j_soyh4hB6",
        "outputId": "a6f07cbb-6b1a-4e4b-aca9-aa4a2bfa6ae7"
      },
      "execution_count": 8,
      "outputs": [
        {
          "output_type": "execute_result",
          "data": {
            "text/plain": [
              "11"
            ]
          },
          "metadata": {},
          "execution_count": 8
        }
      ]
    },
    {
      "cell_type": "markdown",
      "source": [
        "## Program to access each Character of String in Forward and Backward Direction by using while Loop?"
      ],
      "metadata": {
        "id": "j3SzEUTH4nSb"
      }
    },
    {
      "cell_type": "code",
      "source": [
        "s=\"we have successfully landed in to programming arena\"\n",
        "n=len(s)\n",
        "i=0\n",
        "print(\"forward Mode\")\n",
        "while i<n:\n",
        "   print(s[i],end='')\n",
        "   i+=1\n",
        "\n",
        "print(\" \\n\\nBackward Mode\") \n",
        "i=-1\n",
        "while i>=-n:\n",
        "   print(s[i],end='')\n",
        "   i=i-1"
      ],
      "metadata": {
        "colab": {
          "base_uri": "https://localhost:8080/"
        },
        "id": "sR1v6sTF4vqj",
        "outputId": "64e0912e-ba86-47a5-cfcc-61988be097d0"
      },
      "execution_count": 25,
      "outputs": [
        {
          "output_type": "stream",
          "name": "stdout",
          "text": [
            "forward Mode\n",
            "we have successfully landed in to programming arena \n",
            "\n",
            "Backward Mode\n",
            "anera gnimmargorp ot ni dednal yllufsseccus evah ew"
          ]
        }
      ]
    },
    {
      "cell_type": "markdown",
      "source": [
        "# Checking Membership:"
      ],
      "metadata": {
        "id": "7HedqkQwKkD8"
      }
    },
    {
      "cell_type": "code",
      "source": [
        "s = \"Vinayak\"\n",
        "'d' in s"
      ],
      "metadata": {
        "colab": {
          "base_uri": "https://localhost:8080/"
        },
        "id": "lHxMa4swKmiw",
        "outputId": "3798ef4b-3a29-4ba3-af0c-1fb156b4bf6d"
      },
      "execution_count": 26,
      "outputs": [
        {
          "output_type": "execute_result",
          "data": {
            "text/plain": [
              "False"
            ]
          },
          "metadata": {},
          "execution_count": 26
        }
      ]
    },
    {
      "cell_type": "code",
      "source": [
        "s = \"Vinayak\"\n",
        "'I' in s"
      ],
      "metadata": {
        "colab": {
          "base_uri": "https://localhost:8080/"
        },
        "id": "bYWR4RKFKvos",
        "outputId": "353a9fad-81ad-4a4d-88be-db2512775532"
      },
      "execution_count": 28,
      "outputs": [
        {
          "output_type": "execute_result",
          "data": {
            "text/plain": [
              "False"
            ]
          },
          "metadata": {},
          "execution_count": 28
        }
      ]
    },
    {
      "cell_type": "code",
      "source": [
        "s = \"Vinayak\"\n",
        "'i' in s"
      ],
      "metadata": {
        "colab": {
          "base_uri": "https://localhost:8080/"
        },
        "id": "d53dReicK1ID",
        "outputId": "9cd92e28-4b66-4657-d106-f127e9ee1eae"
      },
      "execution_count": 29,
      "outputs": [
        {
          "output_type": "execute_result",
          "data": {
            "text/plain": [
              "True"
            ]
          },
          "metadata": {},
          "execution_count": 29
        }
      ]
    },
    {
      "cell_type": "markdown",
      "source": [
        "# Comparison of Strings\n",
        "We can use comparison operators (<, <=, >, >=) and equality operators (==, !=) for strings"
      ],
      "metadata": {
        "id": "vBH5V7jnK88E"
      }
    },
    {
      "cell_type": "code",
      "source": [
        "s1=input(\"Enter first string:\")\n",
        "s2=input(\"Enter Second string:\")\n",
        "if s1==s2:\n",
        "  print(\"Both strings are equal\")\n",
        "elif s1<s2:\n",
        "  print(\"First String is less than Second String\")\n",
        "else:\n",
        "  print(\"First String is greater than Second String\")    #problem arises when letters are case sensitive"
      ],
      "metadata": {
        "colab": {
          "base_uri": "https://localhost:8080/"
        },
        "id": "SPeDvKMxLC7s",
        "outputId": "642adc4a-c401-48f9-b6f8-d685dc9b28eb"
      },
      "execution_count": 36,
      "outputs": [
        {
          "output_type": "stream",
          "name": "stdout",
          "text": [
            "Enter first string:Hello\n",
            "Enter Second string:Hello\n",
            "Both strings are equal\n"
          ]
        }
      ]
    },
    {
      "cell_type": "markdown",
      "source": [
        "# Removing Spaces from the String:\n",
        "1)rstrip()-->To remove spaces at right hand side.\n",
        "\n",
        "2) lstrip()--> To remove spaces at left hand side.\n",
        "\n",
        "3) strip()-->To remove spaces both sides."
      ],
      "metadata": {
        "id": "F6iJuFmWMkHI"
      }
    },
    {
      "cell_type": "code",
      "source": [
        "city=input(\"Enter your capital:\")\n",
        "scity=city.strip()\n",
        "if scity=='Hyderabad':\n",
        "    print(\"Your state is either Telangana Or Andhrapradesh\")\n",
        "elif scity=='Chennai':\n",
        "    print(\"Your state is Tamilnadu\")\n",
        "elif scity==\"Bengalaru\":\n",
        "    print(\"Your state is Karnataka\")\n",
        "else:\n",
        "    print(\"your entered city is invalid\")      #this is also case sensitive"
      ],
      "metadata": {
        "colab": {
          "base_uri": "https://localhost:8080/"
        },
        "id": "g2LI3widMvJW",
        "outputId": "595fd25e-a71a-49ac-a50b-f43f9d8477e4"
      },
      "execution_count": 42,
      "outputs": [
        {
          "output_type": "stream",
          "name": "stdout",
          "text": [
            "Enter your capital:bengalaru\n",
            "your entered city is invalid\n"
          ]
        }
      ]
    },
    {
      "cell_type": "code",
      "source": [
        "s = \" Da ta  \"\n",
        "s.strip()      #side spaces removed not midddle one..!!"
      ],
      "metadata": {
        "colab": {
          "base_uri": "https://localhost:8080/",
          "height": 36
        },
        "id": "B9OxS33iOIUW",
        "outputId": "7196c2f9-4926-45bf-fea8-327f12a62b61"
      },
      "execution_count": 43,
      "outputs": [
        {
          "output_type": "execute_result",
          "data": {
            "text/plain": [
              "'Da ta'"
            ],
            "application/vnd.google.colaboratory.intrinsic+json": {
              "type": "string"
            }
          },
          "metadata": {},
          "execution_count": 43
        }
      ]
    },
    {
      "cell_type": "code",
      "source": [
        "s.rstrip()     #right side space reomoved"
      ],
      "metadata": {
        "colab": {
          "base_uri": "https://localhost:8080/",
          "height": 36
        },
        "id": "wwMpoaBYOWIZ",
        "outputId": "7da66ef9-eb4f-4420-aa74-b2a0f1227122"
      },
      "execution_count": 44,
      "outputs": [
        {
          "output_type": "execute_result",
          "data": {
            "text/plain": [
              "' Da ta'"
            ],
            "application/vnd.google.colaboratory.intrinsic+json": {
              "type": "string"
            }
          },
          "metadata": {},
          "execution_count": 44
        }
      ]
    },
    {
      "cell_type": "code",
      "source": [
        "s.lstrip()      #left side space reomoved"
      ],
      "metadata": {
        "colab": {
          "base_uri": "https://localhost:8080/",
          "height": 36
        },
        "id": "kvTC-6GJOcz2",
        "outputId": "fe22819a-ca58-42ee-ba4f-6d6c42cb65f6"
      },
      "execution_count": 46,
      "outputs": [
        {
          "output_type": "execute_result",
          "data": {
            "text/plain": [
              "'Da ta  '"
            ],
            "application/vnd.google.colaboratory.intrinsic+json": {
              "type": "string"
            }
          },
          "metadata": {},
          "execution_count": 46
        }
      ]
    },
    {
      "cell_type": "markdown",
      "source": [
        "# Finding Substrings:\n",
        "We can use the following 4 methods\n",
        "\n",
        "\n",
        "For forward direction:\n",
        "\n",
        "1) find()\n",
        "\n",
        "2) index()\n",
        "\n",
        "\n",
        "For backward direction:\n",
        "\n",
        "1) rfind()\n",
        "\n",
        "2) rindex()\n",
        "\n",
        "1) find()"
      ],
      "metadata": {
        "id": "LpPeZY_3Oq5X"
      }
    },
    {
      "cell_type": "code",
      "source": [
        "# find(): Returns index of first occurrence of the given substring. If it is not available then we will\n",
        "# get -1.\n",
        "s=\"data science is Not fun\"\n",
        "s.find(\"data\") #0th index"
      ],
      "metadata": {
        "colab": {
          "base_uri": "https://localhost:8080/"
        },
        "id": "jM041LHzOx3O",
        "outputId": "082a016f-2a4a-4da4-84ad-9be7f91635b2"
      },
      "execution_count": 47,
      "outputs": [
        {
          "output_type": "execute_result",
          "data": {
            "text/plain": [
              "0"
            ]
          },
          "metadata": {},
          "execution_count": 47
        }
      ]
    },
    {
      "cell_type": "code",
      "source": [
        "s=\"data science is Not fun\"\n",
        "s.find(\"fun\")"
      ],
      "metadata": {
        "colab": {
          "base_uri": "https://localhost:8080/"
        },
        "id": "BQ9tOoa4PCsA",
        "outputId": "d0fe4889-f378-4eda-d37f-501ac8617b8a"
      },
      "execution_count": 48,
      "outputs": [
        {
          "output_type": "execute_result",
          "data": {
            "text/plain": [
              "20"
            ]
          },
          "metadata": {},
          "execution_count": 48
        }
      ]
    },
    {
      "cell_type": "code",
      "source": [
        "# syntax: s.find(substring,bEgin,end)\n",
        "s.find(\"a\",0,22)"
      ],
      "metadata": {
        "colab": {
          "base_uri": "https://localhost:8080/"
        },
        "id": "NwnIh41FPbVL",
        "outputId": "46babc6a-27d2-49ee-9a42-9e7432f64a04"
      },
      "execution_count": 49,
      "outputs": [
        {
          "output_type": "execute_result",
          "data": {
            "text/plain": [
              "1"
            ]
          },
          "metadata": {},
          "execution_count": 49
        }
      ]
    },
    {
      "cell_type": "code",
      "source": [
        "# syntax: s.find(substring,bEgin,end)\n",
        "s.find(\"Z\",0,22)"
      ],
      "metadata": {
        "colab": {
          "base_uri": "https://localhost:8080/"
        },
        "id": "dfBAPesKQTuE",
        "outputId": "eb261f22-9903-47fd-808b-a21c477504cc"
      },
      "execution_count": 50,
      "outputs": [
        {
          "output_type": "execute_result",
          "data": {
            "text/plain": [
              "-1"
            ]
          },
          "metadata": {},
          "execution_count": 50
        }
      ]
    },
    {
      "cell_type": "markdown",
      "source": [
        "## 2)index()\n",
        "\n",
        "index() method is exactly same as find() method except that if the specified substring is not available then we will get ValueError"
      ],
      "metadata": {
        "id": "nxh3yfM1QM4W"
      }
    },
    {
      "cell_type": "code",
      "source": [
        "# we will get a error if the substring is not available\n",
        "s.index('m')"
      ],
      "metadata": {
        "colab": {
          "base_uri": "https://localhost:8080/",
          "height": 182
        },
        "id": "qJ-pju9NQgMs",
        "outputId": "7530313d-6c35-4689-afe0-0f348db17a4e"
      },
      "execution_count": 51,
      "outputs": [
        {
          "output_type": "error",
          "ename": "ValueError",
          "evalue": "ignored",
          "traceback": [
            "\u001b[0;31m---------------------------------------------------------------------------\u001b[0m",
            "\u001b[0;31mValueError\u001b[0m                                Traceback (most recent call last)",
            "\u001b[0;32m<ipython-input-51-723cdd428aa2>\u001b[0m in \u001b[0;36m<module>\u001b[0;34m()\u001b[0m\n\u001b[1;32m      1\u001b[0m \u001b[0;31m# we will get a error if the substring is not available\u001b[0m\u001b[0;34m\u001b[0m\u001b[0;34m\u001b[0m\u001b[0;34m\u001b[0m\u001b[0m\n\u001b[0;32m----> 2\u001b[0;31m \u001b[0ms\u001b[0m\u001b[0;34m.\u001b[0m\u001b[0mindex\u001b[0m\u001b[0;34m(\u001b[0m\u001b[0;34m'm'\u001b[0m\u001b[0;34m)\u001b[0m\u001b[0;34m\u001b[0m\u001b[0;34m\u001b[0m\u001b[0m\n\u001b[0m",
            "\u001b[0;31mValueError\u001b[0m: substring not found"
          ]
        }
      ]
    },
    {
      "cell_type": "code",
      "source": [
        "s.index('a')"
      ],
      "metadata": {
        "colab": {
          "base_uri": "https://localhost:8080/"
        },
        "id": "KYlN3C4UQnL-",
        "outputId": "17b582a2-3868-4b74-cdcd-f09b2c56cffc"
      },
      "execution_count": 52,
      "outputs": [
        {
          "output_type": "execute_result",
          "data": {
            "text/plain": [
              "1"
            ]
          },
          "metadata": {},
          "execution_count": 52
        }
      ]
    },
    {
      "cell_type": "markdown",
      "source": [
        "## Program to display all Positions of Substring in a given Main String"
      ],
      "metadata": {
        "id": "g1SBYS9dQrXx"
      }
    },
    {
      "cell_type": "code",
      "source": [
        "s=input(\"Entermainstring:\")\n",
        "subs=input(\"Entersubstring:\")\n",
        "flag=False\n",
        "pos=-1\n",
        "n=len(s)\n",
        "while True:\n",
        "  pos=s.find(subs,pos+1,n)\n",
        "  if pos==-1:\n",
        "    break\n",
        "  print(\"Found at position\",pos)\n",
        "  flag=True\n",
        "if flag==False:\n",
        "  print(\"Not Found\")          #it gives index position #Also case sensitive... if wrong case then ans will not found"
      ],
      "metadata": {
        "colab": {
          "base_uri": "https://localhost:8080/"
        },
        "id": "TX4yGGYTQvTQ",
        "outputId": "ca97046f-2904-4166-91fb-0f3e969d5c2d"
      },
      "execution_count": 57,
      "outputs": [
        {
          "output_type": "stream",
          "name": "stdout",
          "text": [
            "Entermainstring:Data Science\n",
            "Entersubstring:Science\n",
            "Found at position 5\n"
          ]
        }
      ]
    }
  ]
}