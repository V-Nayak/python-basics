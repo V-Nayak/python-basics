{
  "nbformat": 4,
  "nbformat_minor": 0,
  "metadata": {
    "colab": {
      "name": "Flowcontrol_04.ipynb",
      "provenance": [],
      "collapsed_sections": [],
      "authorship_tag": "ABX9TyP+Zws+TmmTIfUAllVmCfES",
      "include_colab_link": true
    },
    "kernelspec": {
      "name": "python3",
      "display_name": "Python 3"
    },
    "language_info": {
      "name": "python"
    }
  },
  "cells": [
    {
      "cell_type": "markdown",
      "metadata": {
        "id": "view-in-github",
        "colab_type": "text"
      },
      "source": [
        "<a href=\"https://colab.research.google.com/github/V-Nayak/python-basics/blob/main/Flowcontrol_04.ipynb\" target=\"_parent\"><img src=\"https://colab.research.google.com/assets/colab-badge.svg\" alt=\"Open In Colab\"/></a>"
      ]
    },
    {
      "cell_type": "markdown",
      "source": [
        "COnditional/Transfer/iterative statements..!!"
      ],
      "metadata": {
        "id": "d1B7uXCFGOCS"
      }
    },
    {
      "cell_type": "markdown",
      "source": [
        "1.** Conditional Statements**\n",
        "1) if\n",
        "If condition is true then statements will be executed.\n",
        "\n",
        "Eg:\n",
        "\n",
        "if condition : statement\n",
        "\n",
        "OR\n",
        "\n",
        "if condition :\n",
        "\n",
        "statement-1\n",
        "\n",
        "statement-2\n",
        "\n",
        "statement-3"
      ],
      "metadata": {
        "id": "FiPQfsTwGhf9"
      }
    },
    {
      "cell_type": "code",
      "source": [
        "name=input(\"EnterName:\")\n",
        "if name==\"Students\":\n",
        "  print(\"Hello students Good Morning\")\n",
        "  print(\"Howareyou!!!\")"
      ],
      "metadata": {
        "colab": {
          "base_uri": "https://localhost:8080/"
        },
        "id": "RH8hL3S4GbEz",
        "outputId": "db601ff8-bfd3-4067-bcb2-a9eaf81ddab9"
      },
      "execution_count": 5,
      "outputs": [
        {
          "output_type": "stream",
          "name": "stdout",
          "text": [
            "EnterName:Students\n",
            "Hello students Good Morning\n",
            "Howareyou!!!\n"
          ]
        }
      ]
    },
    {
      "cell_type": "markdown",
      "source": [
        "else part is always optional. Hence the following are various possible syntaxes.\n",
        "\n",
        "1) if\n",
        "\n",
        "2) if - else\n",
        "\n",
        "3) if - elif - else\n",
        "\n",
        "4) if - elif"
      ],
      "metadata": {
        "id": "cQQcgO4yH22k"
      }
    },
    {
      "cell_type": "code",
      "source": [
        "# Write a Program to find Biggest of given 2 Numbers from the Commad Prompt?\n",
        "n1=int(input(\"Enter First Number:\"))\n",
        "n2=int(input(\"Enter Second Number:\"))\n",
        "if n1>n2:\n",
        "  print(\"Biggest Number is:\",n1)\n",
        "else:\n",
        "  print(\"Biggest Number is:\",n2)  "
      ],
      "metadata": {
        "colab": {
          "base_uri": "https://localhost:8080/"
        },
        "id": "VhKVbUoDH4Uj",
        "outputId": "c6e5ff8d-c37b-4e51-d209-168a59b543bb"
      },
      "execution_count": 6,
      "outputs": [
        {
          "output_type": "stream",
          "name": "stdout",
          "text": [
            "Enter First Number:50\n",
            "Enter Second Number:70\n",
            "Biggest Number is: 70\n"
          ]
        }
      ]
    },
    {
      "cell_type": "markdown",
      "source": [
        "Homework:\n",
        "1) Write a Program to find Biggest of given 3 Numbers from the Commad Prompt?\n",
        "\n",
        "2) Write a program to find smallest of given 2 numbers?\n",
        "\n",
        "3) Write a program to find smallest of given 3 numbers?\n",
        "\n",
        "4) Write a program to check whether the given number is even or odd?"
      ],
      "metadata": {
        "id": "XoQC_7n2I_9k"
      }
    },
    {
      "cell_type": "code",
      "source": [
        "# Program to find Biggest of given 3 Numbers from the Commad Prompt?\n",
        "n1=int(input(\"Enter First Number:\"))\n",
        "n2=int(input(\"Enter Second Number:\"))\n",
        "n3=int(input(\"Enter Second Number:\"))\n",
        "if n1>n2:\n",
        "   if n2>n3:\n",
        "     print(\"Biggest Number is:\",n1)\n",
        "   else:\n",
        "      print(\"Biggest Number is:\",n2)\n",
        "else:\n",
        "      print(\"Biggest Number is:\",n3)"
      ],
      "metadata": {
        "colab": {
          "base_uri": "https://localhost:8080/"
        },
        "id": "RZ6N8sdnLbG4",
        "outputId": "860619ec-5894-4986-9253-9b8844938057"
      },
      "execution_count": 23,
      "outputs": [
        {
          "output_type": "stream",
          "name": "stdout",
          "text": [
            "Enter First Number:70\n",
            "Enter Second Number:60\n",
            "Enter Second Number:50\n",
            "Biggest Number is: 70\n"
          ]
        }
      ]
    },
    {
      "cell_type": "code",
      "source": [
        "# Program to find smallest of given 2 Numbers from the Commad Prompt?\n",
        "n1=int(input(\"Enter First Number:\"))\n",
        "n2=int(input(\"Enter Second Number:\"))\n",
        "if n1<n2:\n",
        "  print(\"Smallest Number is:\",n1)\n",
        "else:\n",
        "  print(\"Smallest Number is:\",n2) "
      ],
      "metadata": {
        "colab": {
          "base_uri": "https://localhost:8080/"
        },
        "id": "OGK-aHZ5JG9F",
        "outputId": "bfd513d1-c670-40af-886e-1ee2e861c61e"
      },
      "execution_count": 9,
      "outputs": [
        {
          "output_type": "stream",
          "name": "stdout",
          "text": [
            "Enter First Number:5\n",
            "Enter Second Number:7\n",
            "Smallest Number is: 5\n"
          ]
        }
      ]
    },
    {
      "cell_type": "code",
      "source": [
        "# Program to find smallest of given 2 Numbers(float n int) from the Commad Prompt?\n",
        "n1=float(input(\"Enter First Number:\"))\n",
        "n2=int(input(\"Enter Second Number:\"))\n",
        "if n1<n2:\n",
        "  print(\"Smallest Number is:\",n1)\n",
        "else:\n",
        "  print(\"Smallest Number is:\",n2) "
      ],
      "metadata": {
        "colab": {
          "base_uri": "https://localhost:8080/"
        },
        "id": "ZNZVGo3tJtCO",
        "outputId": "b5a81936-6291-45c0-f7d5-86feb04fbe16"
      },
      "execution_count": 11,
      "outputs": [
        {
          "output_type": "stream",
          "name": "stdout",
          "text": [
            "Enter First Number:4.5\n",
            "Enter Second Number:6\n",
            "Smallest Number is: 4.5\n"
          ]
        }
      ]
    },
    {
      "cell_type": "code",
      "source": [
        "# Program to find smallest of given 2 Numbers from the Commad Prompt?\n",
        "n1=int(input(\"Enter First Number:\"))\n",
        "n2=int(input(\"Enter Second Number:\"))\n",
        "n3=int(input(\"Enter Third Number:\"))\n",
        "if n1>n2:\n",
        "  if n2>n3:\n",
        "   print(\"Smallest Number is:\",n3)\n",
        "  else:\n",
        "   print(\"Smallest Number is:\",n2)\n",
        "else:\n",
        "   print(\"Smallest Number is:\",n1)  "
      ],
      "metadata": {
        "colab": {
          "base_uri": "https://localhost:8080/"
        },
        "id": "9emsJVVUKLqy",
        "outputId": "8cc86fe7-3d0d-4166-9c69-e565f0737d58"
      },
      "execution_count": 15,
      "outputs": [
        {
          "output_type": "stream",
          "name": "stdout",
          "text": [
            "Enter First Number:7\n",
            "Enter Second Number:8\n",
            "Enter Third Number:9\n",
            "Smallest Number is: 7\n"
          ]
        }
      ]
    },
    {
      "cell_type": "markdown",
      "source": [
        "**2) Iterative Statements:**"
      ],
      "metadata": {
        "id": "z9PjGOHBOgYS"
      }
    },
    {
      "cell_type": "markdown",
      "source": [
        "If we want to execute a group of statements multiple times then we should go for Iterative statements.\n",
        "\n",
        "Python supports 2 types of iterative statements.\n",
        "\n",
        "for loop\n",
        "\n",
        "while loop\n",
        "\n",
        "֍ for loop:\n",
        "\n",
        "If we want to execute some action for every element present in some sequence (it may be string or collection) then we should go for for loop.\n",
        "\n",
        "Syntax:\n",
        "\n",
        "for x in sequence:\n",
        "\n",
        "Body\n",
        "\n",
        "Where sequence can be string or any collection.\n",
        "\n",
        "Body will be executed for every element present in the sequence"
      ],
      "metadata": {
        "id": "xvCADYVpOmkU"
      }
    },
    {
      "cell_type": "code",
      "source": [
        "# To print characters present in the given string\n",
        "s=\"DC_Macarthy_Squadron\"\n",
        "for x in s:\n",
        "  print(x)"
      ],
      "metadata": {
        "colab": {
          "base_uri": "https://localhost:8080/"
        },
        "id": "s0ZzPv4KOtc8",
        "outputId": "63e13ebd-3e08-43aa-831e-ab5a3feb93e9"
      },
      "execution_count": 24,
      "outputs": [
        {
          "output_type": "stream",
          "name": "stdout",
          "text": [
            "D\n",
            "C\n",
            "_\n",
            "M\n",
            "a\n",
            "c\n",
            "a\n",
            "r\n",
            "t\n",
            "h\n",
            "y\n",
            "_\n",
            "S\n",
            "q\n",
            "u\n",
            "a\n",
            "d\n",
            "r\n",
            "o\n",
            "n\n"
          ]
        }
      ]
    },
    {
      "cell_type": "code",
      "source": [
        "# To print Welcome 10 times\n",
        "for x in range(10):\n",
        "   print(\"Welcome\")"
      ],
      "metadata": {
        "colab": {
          "base_uri": "https://localhost:8080/"
        },
        "id": "JR1b_EupQukm",
        "outputId": "855d2d18-7d3e-4a21-a9f9-7126db7c5d44"
      },
      "execution_count": 25,
      "outputs": [
        {
          "output_type": "stream",
          "name": "stdout",
          "text": [
            "Welcome\n",
            "Welcome\n",
            "Welcome\n",
            "Welcome\n",
            "Welcome\n",
            "Welcome\n",
            "Welcome\n",
            "Welcome\n",
            "Welcome\n",
            "Welcome\n"
          ]
        }
      ]
    },
    {
      "cell_type": "code",
      "source": [
        "# To display odd numbers from 0 to 15\n",
        "for x in range(16):\n",
        "  if (x%2!=0):\n",
        "    print(x)"
      ],
      "metadata": {
        "colab": {
          "base_uri": "https://localhost:8080/"
        },
        "id": "LIBgaKadQ771",
        "outputId": "db257da2-75f6-4826-82dd-7cd03c233ca0"
      },
      "execution_count": 26,
      "outputs": [
        {
          "output_type": "stream",
          "name": "stdout",
          "text": [
            "1\n",
            "3\n",
            "5\n",
            "7\n",
            "9\n",
            "11\n",
            "13\n",
            "15\n"
          ]
        }
      ]
    },
    {
      "cell_type": "code",
      "source": [
        "# To display Even numbers from 0 to 15\n",
        "for x in range(16):\n",
        "  if (x%2==0):\n",
        "    print(x)"
      ],
      "metadata": {
        "colab": {
          "base_uri": "https://localhost:8080/"
        },
        "id": "NnA_fLWGRI6R",
        "outputId": "99d9c05c-e9d7-40e1-f82f-cb83d5dd7a66"
      },
      "execution_count": 27,
      "outputs": [
        {
          "output_type": "stream",
          "name": "stdout",
          "text": [
            "0\n",
            "2\n",
            "4\n",
            "6\n",
            "8\n",
            "10\n",
            "12\n",
            "14\n"
          ]
        }
      ]
    },
    {
      "cell_type": "code",
      "source": [
        "# To display numbers from 10 to 1 in descending order\n",
        "for x in range(10,0,-1):\n",
        " print(x)"
      ],
      "metadata": {
        "colab": {
          "base_uri": "https://localhost:8080/"
        },
        "id": "sxtiK5mNUpb0",
        "outputId": "610e2b8a-cff7-4476-f6cf-db299c59e2ee"
      },
      "execution_count": 28,
      "outputs": [
        {
          "output_type": "stream",
          "name": "stdout",
          "text": [
            "10\n",
            "9\n",
            "8\n",
            "7\n",
            "6\n",
            "5\n",
            "4\n",
            "3\n",
            "2\n",
            "1\n"
          ]
        }
      ]
    },
    {
      "cell_type": "code",
      "source": [
        "# To display even numbers from 10 to 1 in descending order\n",
        "for x in range(10,0,-1):\n",
        "  if (x%2==0):\n",
        "    print(x)"
      ],
      "metadata": {
        "colab": {
          "base_uri": "https://localhost:8080/"
        },
        "id": "IKa-LHd8UtMn",
        "outputId": "8bbe0411-4474-4eb1-9c1a-ca825e327453"
      },
      "execution_count": 29,
      "outputs": [
        {
          "output_type": "stream",
          "name": "stdout",
          "text": [
            "10\n",
            "8\n",
            "6\n",
            "4\n",
            "2\n"
          ]
        }
      ]
    },
    {
      "cell_type": "code",
      "source": [
        "# To print sum of numbers presenst inside list\n",
        "list=eval(input(\"EnterList:\"))\n",
        "sum=0;\n",
        "for x in list:\n",
        " sum=sum+x;\n",
        "print(\"The Sum=\",sum)"
      ],
      "metadata": {
        "colab": {
          "base_uri": "https://localhost:8080/"
        },
        "id": "Vp93n6zqVEms",
        "outputId": "a9410613-fb52-456e-e8cf-ef9ba786ea78"
      },
      "execution_count": 32,
      "outputs": [
        {
          "output_type": "stream",
          "name": "stdout",
          "text": [
            "EnterList:10,20,30\n",
            "The Sum= 60\n"
          ]
        }
      ]
    },
    {
      "cell_type": "code",
      "source": [
        "# To print sum of numbers presenst inside list\n",
        "list=eval(input(\"EnterList:\"))\n",
        "sum=0;\n",
        "for x in list:\n",
        " sum=sum+x;\n",
        "print(\"The Sum=\",sum)"
      ],
      "metadata": {
        "colab": {
          "base_uri": "https://localhost:8080/"
        },
        "id": "bt7OQsXRVfyC",
        "outputId": "51536814-c1d1-404f-e9d8-c462d31fa9ad"
      },
      "execution_count": 33,
      "outputs": [
        {
          "output_type": "stream",
          "name": "stdout",
          "text": [
            "EnterList:10.5,10.5\n",
            "The Sum= 21.0\n"
          ]
        }
      ]
    },
    {
      "cell_type": "markdown",
      "source": [
        "**2) While Loop**"
      ],
      "metadata": {
        "id": "9ooyUfHwV1v6"
      }
    },
    {
      "cell_type": "markdown",
      "source": [
        "If we want to execute a group of statements iteratively until some condition become false,then we should go for while loop."
      ],
      "metadata": {
        "id": "LKuuftM6WB4y"
      }
    },
    {
      "cell_type": "code",
      "source": [
        "# To print numbers from 1 to 10 by using while loop\n",
        "\n",
        "x=1\n",
        "while x<=10:\n",
        " print(x)\n",
        " x=x+1"
      ],
      "metadata": {
        "colab": {
          "base_uri": "https://localhost:8080/"
        },
        "id": "S8m4qvHnWG5G",
        "outputId": "a0b15dc4-061c-4bf9-9e18-d2e9fed7b902"
      },
      "execution_count": 34,
      "outputs": [
        {
          "output_type": "stream",
          "name": "stdout",
          "text": [
            "1\n",
            "2\n",
            "3\n",
            "4\n",
            "5\n",
            "6\n",
            "7\n",
            "8\n",
            "9\n",
            "10\n"
          ]
        }
      ]
    },
    {
      "cell_type": "code",
      "source": [
        "# To display the sum of first n numbers\n",
        "\n",
        "n=int(input(\"Enternumber:\"))\n",
        "sum=0\n",
        "i=1\n",
        "while i<=n:\n",
        "  sum=sum+i\n",
        "  i=i+1\n",
        "print(\"The sum of first\",n,\"numbers is:\",sum)"
      ],
      "metadata": {
        "colab": {
          "base_uri": "https://localhost:8080/"
        },
        "id": "JbY7nPEnWWVR",
        "outputId": "ccfa0077-83ac-4cba-d795-e1e93e227463"
      },
      "execution_count": 35,
      "outputs": [
        {
          "output_type": "stream",
          "name": "stdout",
          "text": [
            "Enternumber:5\n",
            "The sum of first 5 numbers is: 15\n"
          ]
        }
      ]
    },
    {
      "cell_type": "code",
      "source": [
        "Infinte loop"
      ],
      "metadata": {
        "id": "HbgB6zBeW3BL"
      },
      "execution_count": null,
      "outputs": []
    },
    {
      "cell_type": "code",
      "source": [
        "i=0;\n",
        "while True:\n",
        "  i=i+1;\n",
        "  print(\"Hello\",i)"
      ],
      "metadata": {
        "id": "ZK208JyoWsRt"
      },
      "execution_count": null,
      "outputs": []
    },
    {
      "cell_type": "markdown",
      "source": [
        "Nested Loop"
      ],
      "metadata": {
        "id": "uRToDP1vW6a7"
      }
    },
    {
      "cell_type": "code",
      "source": [
        "# we can take a loop inside another loop,which are also known as nested loops.\n",
        "for i in range(3):\n",
        "  for j in range(3):\n",
        "    print(\"i=\",i,\" j=\",j)"
      ],
      "metadata": {
        "colab": {
          "base_uri": "https://localhost:8080/"
        },
        "id": "oDjRzqaMW8Ud",
        "outputId": "a2e36875-05cf-4d92-986b-31c481fc90f8"
      },
      "execution_count": 36,
      "outputs": [
        {
          "output_type": "stream",
          "name": "stdout",
          "text": [
            "i= 0  j= 0\n",
            "i= 0  j= 1\n",
            "i= 0  j= 2\n",
            "i= 1  j= 0\n",
            "i= 1  j= 1\n",
            "i= 1  j= 2\n",
            "i= 2  j= 0\n",
            "i= 2  j= 1\n",
            "i= 2  j= 2\n"
          ]
        }
      ]
    },
    {
      "cell_type": "markdown",
      "source": [
        "**3) Transfer Statements`**"
      ],
      "metadata": {
        "id": "myZcHd5iXJ3v"
      }
    },
    {
      "cell_type": "markdown",
      "source": [
        "1) break:\n",
        "We can use break statement inside loops to break loop execution based on some condition."
      ],
      "metadata": {
        "id": "7awIkdg_Xb0h"
      }
    },
    {
      "cell_type": "code",
      "source": [
        "for i in range(10):\n",
        " if i==7:\n",
        "   print(\"processing is enough..plz break\")\n",
        "   break\n",
        " print(i)"
      ],
      "metadata": {
        "colab": {
          "base_uri": "https://localhost:8080/"
        },
        "id": "nTXvaFOnXoeM",
        "outputId": "c8a14329-5855-4e1b-a61e-ab329fbc365f"
      },
      "execution_count": 37,
      "outputs": [
        {
          "output_type": "stream",
          "name": "stdout",
          "text": [
            "0\n",
            "1\n",
            "2\n",
            "3\n",
            "4\n",
            "5\n",
            "6\n",
            "processing is enough..plz break\n"
          ]
        }
      ]
    },
    {
      "cell_type": "code",
      "source": [
        "cart=[10,20,30,600,60,70]\n",
        "for item in cart:\n",
        "  if item>500:\n",
        "    print(\"To place this order insurence must be required\")\n",
        "    break\n",
        "  print(item)"
      ],
      "metadata": {
        "colab": {
          "base_uri": "https://localhost:8080/"
        },
        "id": "eKIzC6-rX5xX",
        "outputId": "55e6a7eb-0cda-42e3-b9e0-ca2e1988e6dd"
      },
      "execution_count": 39,
      "outputs": [
        {
          "output_type": "stream",
          "name": "stdout",
          "text": [
            "10\n",
            "20\n",
            "30\n",
            "To place this order insurence must be required\n"
          ]
        }
      ]
    },
    {
      "cell_type": "markdown",
      "source": [
        "**2) continue**"
      ],
      "metadata": {
        "id": "6RAtgmiwYF90"
      }
    },
    {
      "cell_type": "markdown",
      "source": [
        "We can use continue statement to skip current iteration and continue next iteration.\n"
      ],
      "metadata": {
        "id": "3OOXZ0mMYTb_"
      }
    },
    {
      "cell_type": "code",
      "source": [
        "# Eg 1: To print odd numbers in the range 0 to 9\n",
        "for i in range(10):\n",
        "  if i%2==0:\n",
        "    continue\n",
        "  print(i)"
      ],
      "metadata": {
        "colab": {
          "base_uri": "https://localhost:8080/"
        },
        "id": "U0sxnTguYXmw",
        "outputId": "91dfd3a5-33ec-4e5f-fbbc-03c31d4f1856"
      },
      "execution_count": 40,
      "outputs": [
        {
          "output_type": "stream",
          "name": "stdout",
          "text": [
            "1\n",
            "3\n",
            "5\n",
            "7\n",
            "9\n"
          ]
        }
      ]
    },
    {
      "cell_type": "code",
      "source": [
        "cart=[10,20,150,700,50,60]\n",
        "for item in cart:\n",
        "  if item>=100:\n",
        "    print(\"We cannot process this item :\",item)\n",
        "    continue\n",
        "  print(item)"
      ],
      "metadata": {
        "colab": {
          "base_uri": "https://localhost:8080/"
        },
        "id": "aYrLOAswYsOB",
        "outputId": "ad1d6bbb-d8db-4d42-97d7-60059f1979ca"
      },
      "execution_count": 42,
      "outputs": [
        {
          "output_type": "stream",
          "name": "stdout",
          "text": [
            "10\n",
            "20\n",
            "We cannot process this item : 150\n",
            "We cannot process this item : 700\n",
            "50\n",
            "60\n"
          ]
        }
      ]
    },
    {
      "cell_type": "code",
      "source": [
        "numbers=[10,20,0,5,0,30]\n",
        "for n in numbers:\n",
        "  if n==0:\n",
        "    print(\"Hey how we can divide with zero..just skipping\")\n",
        "    continue\n",
        "  print(\"100/{} = {}\".format(n,100/n))"
      ],
      "metadata": {
        "colab": {
          "base_uri": "https://localhost:8080/"
        },
        "id": "Mwx8b527Y4tS",
        "outputId": "dcc3853d-02e4-41bf-a841-6990bce5ab60"
      },
      "execution_count": 43,
      "outputs": [
        {
          "output_type": "stream",
          "name": "stdout",
          "text": [
            "100/10 = 10.0\n",
            "100/20 = 5.0\n",
            "Hey how we can divide with zero..just skipping\n",
            "100/5 = 20.0\n",
            "Hey how we can divide with zero..just skipping\n",
            "100/30 = 3.3333333333333335\n"
          ]
        }
      ]
    },
    {
      "cell_type": "markdown",
      "source": [
        "Loops With else block\n",
        "Inside loop execution, if break statement not executed, then only else part will be executed.\n",
        "\n",
        "\"else\" means loop without break"
      ],
      "metadata": {
        "id": "Bb6fIWIMY_Ax"
      }
    },
    {
      "cell_type": "code",
      "source": [
        "cart=[10,20,30,40,500]\n",
        "for item in cart:\n",
        "  if item>=500:\n",
        "     print(\"We cannot process this order\")\n",
        "     break\n",
        "  print(item)\n",
        "else:\n",
        "  print(\"Congrats ...all items processed successfully\")"
      ],
      "metadata": {
        "colab": {
          "base_uri": "https://localhost:8080/"
        },
        "id": "Zl2HKv7_Y-HM",
        "outputId": "8401506d-6dfc-41b3-d589-aa6b59288e99"
      },
      "execution_count": 45,
      "outputs": [
        {
          "output_type": "stream",
          "name": "stdout",
          "text": [
            "10\n",
            "20\n",
            "30\n",
            "40\n",
            "We cannot process this order\n"
          ]
        }
      ]
    },
    {
      "cell_type": "code",
      "source": [
        "cart=[10,20,30,40,50]\n",
        "for item in cart:\n",
        "  if item>=500:\n",
        "     print(\"We cannot process this order\")\n",
        "     break\n",
        "  print(item)\n",
        "else:\n",
        "  print(\"Congrats ...all items processed successfully\")"
      ],
      "metadata": {
        "colab": {
          "base_uri": "https://localhost:8080/"
        },
        "id": "lXA4JsmSZLvn",
        "outputId": "42d1e579-e26a-4041-9dfd-36412ca66f27"
      },
      "execution_count": 46,
      "outputs": [
        {
          "output_type": "stream",
          "name": "stdout",
          "text": [
            "10\n",
            "20\n",
            "30\n",
            "40\n",
            "50\n",
            "Congrats ...all items processed successfully\n"
          ]
        }
      ]
    },
    {
      "cell_type": "code",
      "source": [
        ""
      ],
      "metadata": {
        "id": "_b_OdzecZWKy"
      },
      "execution_count": null,
      "outputs": []
    },
    {
      "cell_type": "code",
      "source": [
        "for i in range(100):\n",
        "  if i%20==0:\n",
        "    print(i)\n",
        "  else:\n",
        "    pass"
      ],
      "metadata": {
        "colab": {
          "base_uri": "https://localhost:8080/"
        },
        "id": "BG3KalabZpxJ",
        "outputId": "fa70d98b-a284-4a58-a883-e00406fc9159"
      },
      "execution_count": 47,
      "outputs": [
        {
          "output_type": "stream",
          "name": "stdout",
          "text": [
            "0\n",
            "20\n",
            "40\n",
            "60\n",
            "80\n"
          ]
        }
      ]
    },
    {
      "cell_type": "markdown",
      "source": [
        "Rightangled Star triangle:"
      ],
      "metadata": {
        "id": "3UkHr52daZGg"
      }
    },
    {
      "cell_type": "code",
      "source": [
        "x=int(input(\"Enter number of rows : \"))  #left side\n",
        "\n",
        "for i in range(0,x):\n",
        "  for j in range(0,i+1):\n",
        "    print(\"*\" ,end='') \n",
        "  print()"
      ],
      "metadata": {
        "colab": {
          "base_uri": "https://localhost:8080/"
        },
        "id": "thDL6wE8aeWY",
        "outputId": "445adc63-2c35-4496-d1ea-f6fcfc30709a"
      },
      "execution_count": 52,
      "outputs": [
        {
          "output_type": "stream",
          "name": "stdout",
          "text": [
            "Enter number of rows : 10\n",
            "*\n",
            "**\n",
            "***\n",
            "****\n",
            "*****\n",
            "******\n",
            "*******\n",
            "********\n",
            "*********\n",
            "**********\n"
          ]
        }
      ]
    },
    {
      "cell_type": "code",
      "source": [
        "x=int(input(\"Enter number of rows : \")) #Right side\n",
        "\n",
        "for i in range(0,x):\n",
        "  for j in range(0,i+1):\n",
        "    print(\"*\" ,end='') "
      ],
      "metadata": {
        "colab": {
          "base_uri": "https://localhost:8080/"
        },
        "id": "LqbJpeyjc0Vk",
        "outputId": "32b2fab5-cb6a-4a01-dfb9-08bc502d1788"
      },
      "execution_count": 54,
      "outputs": [
        {
          "output_type": "stream",
          "name": "stdout",
          "text": [
            "Enter number of rows : 8\n",
            "************************************"
          ]
        }
      ]
    }
  ]
}