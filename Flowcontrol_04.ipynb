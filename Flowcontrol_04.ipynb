{
  "nbformat": 4,
  "nbformat_minor": 0,
  "metadata": {
    "colab": {
      "name": "Flowcontrol_04.ipynb",
      "provenance": [],
      "authorship_tag": "ABX9TyPLbcK/ANVYBFbvg6jiZHjE",
      "include_colab_link": true
    },
    "kernelspec": {
      "name": "python3",
      "display_name": "Python 3"
    },
    "language_info": {
      "name": "python"
    }
  },
  "cells": [
    {
      "cell_type": "markdown",
      "metadata": {
        "id": "view-in-github",
        "colab_type": "text"
      },
      "source": [
        "<a href=\"https://colab.research.google.com/github/V-Nayak/python-basics/blob/main/Flowcontrol_04.ipynb\" target=\"_parent\"><img src=\"https://colab.research.google.com/assets/colab-badge.svg\" alt=\"Open In Colab\"/></a>"
      ]
    },
    {
      "cell_type": "markdown",
      "source": [
        "COnditional/Transfer/iterative statements..!!"
      ],
      "metadata": {
        "id": "d1B7uXCFGOCS"
      }
    },
    {
      "cell_type": "markdown",
      "source": [
        "1.** Conditional Statements**\n",
        "1) if\n",
        "If condition is true then statements will be executed.\n",
        "\n",
        "Eg:\n",
        "\n",
        "if condition : statement\n",
        "\n",
        "OR\n",
        "\n",
        "if condition :\n",
        "\n",
        "statement-1\n",
        "\n",
        "statement-2\n",
        "\n",
        "statement-3"
      ],
      "metadata": {
        "id": "FiPQfsTwGhf9"
      }
    },
    {
      "cell_type": "code",
      "source": [
        "name=input(\"EnterName:\")\n",
        "if name==\"Students\":\n",
        "  print(\"Hello students Good Morning\")\n",
        "  print(\"Howareyou!!!\")"
      ],
      "metadata": {
        "colab": {
          "base_uri": "https://localhost:8080/"
        },
        "id": "RH8hL3S4GbEz",
        "outputId": "db601ff8-bfd3-4067-bcb2-a9eaf81ddab9"
      },
      "execution_count": 5,
      "outputs": [
        {
          "output_type": "stream",
          "name": "stdout",
          "text": [
            "EnterName:Students\n",
            "Hello students Good Morning\n",
            "Howareyou!!!\n"
          ]
        }
      ]
    },
    {
      "cell_type": "markdown",
      "source": [
        "else part is always optional. Hence the following are various possible syntaxes.\n",
        "\n",
        "1) if\n",
        "\n",
        "2) if - else\n",
        "\n",
        "3) if - elif - else\n",
        "\n",
        "4) if - elif"
      ],
      "metadata": {
        "id": "cQQcgO4yH22k"
      }
    },
    {
      "cell_type": "code",
      "source": [
        "# Write a Program to find Biggest of given 2 Numbers from the Commad Prompt?\n",
        "n1=int(input(\"Enter First Number:\"))\n",
        "n2=int(input(\"Enter Second Number:\"))\n",
        "if n1>n2:\n",
        "  print(\"Biggest Number is:\",n1)\n",
        "else:\n",
        "  print(\"Biggest Number is:\",n2)  "
      ],
      "metadata": {
        "colab": {
          "base_uri": "https://localhost:8080/"
        },
        "id": "VhKVbUoDH4Uj",
        "outputId": "c6e5ff8d-c37b-4e51-d209-168a59b543bb"
      },
      "execution_count": 6,
      "outputs": [
        {
          "output_type": "stream",
          "name": "stdout",
          "text": [
            "Enter First Number:50\n",
            "Enter Second Number:70\n",
            "Biggest Number is: 70\n"
          ]
        }
      ]
    },
    {
      "cell_type": "markdown",
      "source": [
        "Homework:\n",
        "1) Write a Program to find Biggest of given 3 Numbers from the Commad Prompt?\n",
        "\n",
        "2) Write a program to find smallest of given 2 numbers?\n",
        "\n",
        "3) Write a program to find smallest of given 3 numbers?\n",
        "\n",
        "4) Write a program to check whether the given number is even or odd?"
      ],
      "metadata": {
        "id": "XoQC_7n2I_9k"
      }
    },
    {
      "cell_type": "code",
      "source": [
        "# Program to find Biggest of given 3 Numbers from the Commad Prompt?\n",
        "n1=int(input(\"Enter First Number:\"))\n",
        "n2=int(input(\"Enter Second Number:\"))\n",
        "n3=int(input(\"Enter Second Number:\"))\n",
        "if n1>n2:\n",
        "   if n2>n3:\n",
        "     print(\"Biggest Number is:\",n1)\n",
        "   else:\n",
        "      print(\"Biggest Number is:\",n2)\n",
        "else:\n",
        "      print(\"Biggest Number is:\",n3)"
      ],
      "metadata": {
        "colab": {
          "base_uri": "https://localhost:8080/"
        },
        "id": "RZ6N8sdnLbG4",
        "outputId": "860619ec-5894-4986-9253-9b8844938057"
      },
      "execution_count": 23,
      "outputs": [
        {
          "output_type": "stream",
          "name": "stdout",
          "text": [
            "Enter First Number:70\n",
            "Enter Second Number:60\n",
            "Enter Second Number:50\n",
            "Biggest Number is: 70\n"
          ]
        }
      ]
    },
    {
      "cell_type": "code",
      "source": [
        "# Program to find smallest of given 2 Numbers from the Commad Prompt?\n",
        "n1=int(input(\"Enter First Number:\"))\n",
        "n2=int(input(\"Enter Second Number:\"))\n",
        "if n1<n2:\n",
        "  print(\"Smallest Number is:\",n1)\n",
        "else:\n",
        "  print(\"Smallest Number is:\",n2) "
      ],
      "metadata": {
        "colab": {
          "base_uri": "https://localhost:8080/"
        },
        "id": "OGK-aHZ5JG9F",
        "outputId": "bfd513d1-c670-40af-886e-1ee2e861c61e"
      },
      "execution_count": 9,
      "outputs": [
        {
          "output_type": "stream",
          "name": "stdout",
          "text": [
            "Enter First Number:5\n",
            "Enter Second Number:7\n",
            "Smallest Number is: 5\n"
          ]
        }
      ]
    },
    {
      "cell_type": "code",
      "source": [
        "# Program to find smallest of given 2 Numbers(float n int) from the Commad Prompt?\n",
        "n1=float(input(\"Enter First Number:\"))\n",
        "n2=int(input(\"Enter Second Number:\"))\n",
        "if n1<n2:\n",
        "  print(\"Smallest Number is:\",n1)\n",
        "else:\n",
        "  print(\"Smallest Number is:\",n2) "
      ],
      "metadata": {
        "colab": {
          "base_uri": "https://localhost:8080/"
        },
        "id": "ZNZVGo3tJtCO",
        "outputId": "b5a81936-6291-45c0-f7d5-86feb04fbe16"
      },
      "execution_count": 11,
      "outputs": [
        {
          "output_type": "stream",
          "name": "stdout",
          "text": [
            "Enter First Number:4.5\n",
            "Enter Second Number:6\n",
            "Smallest Number is: 4.5\n"
          ]
        }
      ]
    },
    {
      "cell_type": "code",
      "source": [
        "# Program to find smallest of given 2 Numbers from the Commad Prompt?\n",
        "n1=int(input(\"Enter First Number:\"))\n",
        "n2=int(input(\"Enter Second Number:\"))\n",
        "n3=int(input(\"Enter Third Number:\"))\n",
        "if n1>n2:\n",
        "  if n2>n3:\n",
        "   print(\"Smallest Number is:\",n3)\n",
        "  else:\n",
        "   print(\"Smallest Number is:\",n2)\n",
        "else:\n",
        "   print(\"Smallest Number is:\",n1)  "
      ],
      "metadata": {
        "colab": {
          "base_uri": "https://localhost:8080/"
        },
        "id": "9emsJVVUKLqy",
        "outputId": "8cc86fe7-3d0d-4166-9c69-e565f0737d58"
      },
      "execution_count": 15,
      "outputs": [
        {
          "output_type": "stream",
          "name": "stdout",
          "text": [
            "Enter First Number:7\n",
            "Enter Second Number:8\n",
            "Enter Third Number:9\n",
            "Smallest Number is: 7\n"
          ]
        }
      ]
    }
  ]
}